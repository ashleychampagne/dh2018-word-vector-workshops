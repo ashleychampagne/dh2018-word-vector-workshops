{
 "cells": [
  {
   "cell_type": "markdown",
   "metadata": {},
   "source": [
    "# Machine Reading: Advanced Topics in Word Vectors\n",
    "## Part IV. Role of Bias in Word Embeddings (50 mins)\n",
    "\n",
    "This is a 4-part series of Jupyter notebooks on the topic of word embeddings originally created for a workshop during the Digital Humanities 2018 Conference in Mexico City. Each part is comprised of a mix of theoretical explanations and fill-in-the-blanks activities of increasing difficulty.\n",
    "\n",
    "Instructors:\n",
    "- Eun Seo Jo, <a href=\"mailto:eunseo@stanford.edu\">*eunseo@stanford.edu*</a>, Stanford University\n",
    "- Javier de la Rosa, <a href=\"mailto:versae@stanford.edu\">*versae@stanford.edu*</a>, Stanford University\n",
    "- Scott Bailey, <a href=\"mailto:scottbailey@stanford.edu\">*scottbailey@stanford.edu*</a>, Stanford University"
   ]
  },
  {
   "cell_type": "markdown",
   "metadata": {},
   "source": [
    "In this unit, we will explore an application and caveat of using word embeddings -- cultural bias. Presenting methods and results from recent articles, we will show how word embeddings can carry the historical bias of the training corpora and lead an activity that shows these human-biases on vectors. We'll also address how such bias can be mitigated.\n",
    "\n",
    "- 0:00 - 0:10 Algorithmic bias vs human bias \n",
    "- 0:10 - 0:40 [Activity 4] Identifying bias in corpora (occupations, gender, ...)\n",
    "- 0:40 - 0:50 Towards unbiased embeddings; Examine “debiased” embeddings\n",
    "- 0:50 - 0:60 Concluding remarks and debate"
   ]
  },
  {
   "cell_type": "code",
   "execution_count": 2,
   "metadata": {},
   "outputs": [
    {
     "name": "stdout",
     "output_type": "stream",
     "text": [
      "Requirement already satisfied: gensim==3.4.0 in /anaconda3/lib/python3.6/site-packages (from -r requirements.txt (line 1)) (3.4.0)\n",
      "Requirement already satisfied: jupyterlab==0.32.1 in /anaconda3/lib/python3.6/site-packages (from -r requirements.txt (line 2)) (0.32.1)\n",
      "Requirement already satisfied: matplotlib==2.2.2 in /anaconda3/lib/python3.6/site-packages (from -r requirements.txt (line 3)) (2.2.2)\n",
      "Requirement already satisfied: nltk==3.3 in /anaconda3/lib/python3.6/site-packages (from -r requirements.txt (line 4)) (3.3)\n",
      "Collecting numpy==1.14.4 (from -r requirements.txt (line 5))\n",
      "\u001b[?25l  Downloading https://files.pythonhosted.org/packages/06/e7/a1d89e97bbf6f8d1329cb495f851637b4578ea18e50eb6c597c7e6fd3468/numpy-1.14.4-cp36-cp36m-macosx_10_6_intel.macosx_10_9_intel.macosx_10_9_x86_64.macosx_10_10_intel.macosx_10_10_x86_64.whl (4.7MB)\n",
      "\u001b[K    100% |████████████████████████████████| 4.7MB 4.6MB/s eta 0:00:01\n",
      "\u001b[?25hRequirement already satisfied: plotly==2.7.0 in /anaconda3/lib/python3.6/site-packages (from -r requirements.txt (line 6)) (2.7.0)\n",
      "Requirement already satisfied: scikit-learn==0.19.1 in /anaconda3/lib/python3.6/site-packages (from -r requirements.txt (line 7)) (0.19.1)\n",
      "Requirement already satisfied: seaborn==0.8.1 in /anaconda3/lib/python3.6/site-packages (from -r requirements.txt (line 8)) (0.8.1)\n",
      "Requirement already satisfied: scipy>=0.18.1 in /anaconda3/lib/python3.6/site-packages (from gensim==3.4.0->-r requirements.txt (line 1)) (1.1.0)\n",
      "Requirement already satisfied: six>=1.5.0 in /anaconda3/lib/python3.6/site-packages (from gensim==3.4.0->-r requirements.txt (line 1)) (1.11.0)\n",
      "Requirement already satisfied: smart_open>=1.2.1 in /anaconda3/lib/python3.6/site-packages (from gensim==3.4.0->-r requirements.txt (line 1)) (1.5.7)\n",
      "Requirement already satisfied: notebook>=4.3.1 in /anaconda3/lib/python3.6/site-packages (from jupyterlab==0.32.1->-r requirements.txt (line 2)) (5.5.0)\n",
      "Requirement already satisfied: jupyterlab_launcher<0.11.0,>=0.10.0 in /anaconda3/lib/python3.6/site-packages (from jupyterlab==0.32.1->-r requirements.txt (line 2)) (0.10.5)\n",
      "Requirement already satisfied: ipython_genutils in /anaconda3/lib/python3.6/site-packages (from jupyterlab==0.32.1->-r requirements.txt (line 2)) (0.2.0)\n",
      "Requirement already satisfied: cycler>=0.10 in /anaconda3/lib/python3.6/site-packages (from matplotlib==2.2.2->-r requirements.txt (line 3)) (0.10.0)\n",
      "Requirement already satisfied: pyparsing!=2.0.4,!=2.1.2,!=2.1.6,>=2.0.1 in /anaconda3/lib/python3.6/site-packages (from matplotlib==2.2.2->-r requirements.txt (line 3)) (2.2.0)\n",
      "Requirement already satisfied: python-dateutil>=2.1 in /anaconda3/lib/python3.6/site-packages (from matplotlib==2.2.2->-r requirements.txt (line 3)) (2.7.3)\n",
      "Requirement already satisfied: pytz in /anaconda3/lib/python3.6/site-packages (from matplotlib==2.2.2->-r requirements.txt (line 3)) (2018.4)\n",
      "Requirement already satisfied: kiwisolver>=1.0.1 in /anaconda3/lib/python3.6/site-packages (from matplotlib==2.2.2->-r requirements.txt (line 3)) (1.0.1)\n",
      "Requirement already satisfied: requests in /anaconda3/lib/python3.6/site-packages (from plotly==2.7.0->-r requirements.txt (line 6)) (2.18.4)\n",
      "Requirement already satisfied: decorator>=4.0.6 in /anaconda3/lib/python3.6/site-packages (from plotly==2.7.0->-r requirements.txt (line 6)) (4.3.0)\n",
      "Requirement already satisfied: nbformat>=4.2 in /anaconda3/lib/python3.6/site-packages (from plotly==2.7.0->-r requirements.txt (line 6)) (4.4.0)\n",
      "Requirement already satisfied: pandas in /anaconda3/lib/python3.6/site-packages (from seaborn==0.8.1->-r requirements.txt (line 8)) (0.23.0)\n",
      "Requirement already satisfied: boto>=2.32 in /anaconda3/lib/python3.6/site-packages (from smart_open>=1.2.1->gensim==3.4.0->-r requirements.txt (line 1)) (2.48.0)\n",
      "Requirement already satisfied: bz2file in /anaconda3/lib/python3.6/site-packages (from smart_open>=1.2.1->gensim==3.4.0->-r requirements.txt (line 1)) (0.98)\n",
      "Requirement already satisfied: boto3 in /anaconda3/lib/python3.6/site-packages (from smart_open>=1.2.1->gensim==3.4.0->-r requirements.txt (line 1)) (1.7.33)\n",
      "Requirement already satisfied: Send2Trash in /anaconda3/lib/python3.6/site-packages (from notebook>=4.3.1->jupyterlab==0.32.1->-r requirements.txt (line 2)) (1.5.0)\n",
      "Requirement already satisfied: tornado>=4 in /anaconda3/lib/python3.6/site-packages (from notebook>=4.3.1->jupyterlab==0.32.1->-r requirements.txt (line 2)) (5.0.2)\n",
      "Requirement already satisfied: traitlets>=4.2.1 in /anaconda3/lib/python3.6/site-packages (from notebook>=4.3.1->jupyterlab==0.32.1->-r requirements.txt (line 2)) (4.3.2)\n",
      "Requirement already satisfied: jupyter-core>=4.4.0 in /anaconda3/lib/python3.6/site-packages (from notebook>=4.3.1->jupyterlab==0.32.1->-r requirements.txt (line 2)) (4.4.0)\n",
      "Requirement already satisfied: nbconvert in /anaconda3/lib/python3.6/site-packages (from notebook>=4.3.1->jupyterlab==0.32.1->-r requirements.txt (line 2)) (5.3.1)\n",
      "Requirement already satisfied: ipykernel in /anaconda3/lib/python3.6/site-packages (from notebook>=4.3.1->jupyterlab==0.32.1->-r requirements.txt (line 2)) (4.8.2)\n",
      "Requirement already satisfied: terminado>=0.8.1 in /anaconda3/lib/python3.6/site-packages (from notebook>=4.3.1->jupyterlab==0.32.1->-r requirements.txt (line 2)) (0.8.1)\n",
      "Requirement already satisfied: jinja2 in /anaconda3/lib/python3.6/site-packages (from notebook>=4.3.1->jupyterlab==0.32.1->-r requirements.txt (line 2)) (2.10)\n",
      "Requirement already satisfied: jupyter-client>=5.2.0 in /anaconda3/lib/python3.6/site-packages (from notebook>=4.3.1->jupyterlab==0.32.1->-r requirements.txt (line 2)) (5.2.3)\n",
      "Requirement already satisfied: pyzmq>=17 in /anaconda3/lib/python3.6/site-packages (from notebook>=4.3.1->jupyterlab==0.32.1->-r requirements.txt (line 2)) (17.0.0)\n",
      "Requirement already satisfied: jsonschema>=2.6.0 in /anaconda3/lib/python3.6/site-packages (from jupyterlab_launcher<0.11.0,>=0.10.0->jupyterlab==0.32.1->-r requirements.txt (line 2)) (2.6.0)\n",
      "Requirement already satisfied: setuptools in /anaconda3/lib/python3.6/site-packages (from kiwisolver>=1.0.1->matplotlib==2.2.2->-r requirements.txt (line 3)) (39.1.0)\n",
      "Requirement already satisfied: chardet<3.1.0,>=3.0.2 in /anaconda3/lib/python3.6/site-packages (from requests->plotly==2.7.0->-r requirements.txt (line 6)) (3.0.4)\n",
      "Requirement already satisfied: idna<2.7,>=2.5 in /anaconda3/lib/python3.6/site-packages (from requests->plotly==2.7.0->-r requirements.txt (line 6)) (2.6)\n",
      "Requirement already satisfied: urllib3<1.23,>=1.21.1 in /anaconda3/lib/python3.6/site-packages (from requests->plotly==2.7.0->-r requirements.txt (line 6)) (1.22)\n",
      "Requirement already satisfied: certifi>=2017.4.17 in /anaconda3/lib/python3.6/site-packages (from requests->plotly==2.7.0->-r requirements.txt (line 6)) (2018.4.16)\n",
      "Requirement already satisfied: botocore<1.11.0,>=1.10.33 in /anaconda3/lib/python3.6/site-packages (from boto3->smart_open>=1.2.1->gensim==3.4.0->-r requirements.txt (line 1)) (1.10.33)\n",
      "Requirement already satisfied: jmespath<1.0.0,>=0.7.1 in /anaconda3/lib/python3.6/site-packages (from boto3->smart_open>=1.2.1->gensim==3.4.0->-r requirements.txt (line 1)) (0.9.3)\n",
      "Requirement already satisfied: s3transfer<0.2.0,>=0.1.10 in /anaconda3/lib/python3.6/site-packages (from boto3->smart_open>=1.2.1->gensim==3.4.0->-r requirements.txt (line 1)) (0.1.13)\n",
      "Requirement already satisfied: mistune>=0.7.4 in /anaconda3/lib/python3.6/site-packages (from nbconvert->notebook>=4.3.1->jupyterlab==0.32.1->-r requirements.txt (line 2)) (0.8.3)\n",
      "Requirement already satisfied: pygments in /anaconda3/lib/python3.6/site-packages (from nbconvert->notebook>=4.3.1->jupyterlab==0.32.1->-r requirements.txt (line 2)) (2.2.0)\n",
      "Requirement already satisfied: entrypoints>=0.2.2 in /anaconda3/lib/python3.6/site-packages (from nbconvert->notebook>=4.3.1->jupyterlab==0.32.1->-r requirements.txt (line 2)) (0.2.3)\n",
      "Requirement already satisfied: bleach in /anaconda3/lib/python3.6/site-packages (from nbconvert->notebook>=4.3.1->jupyterlab==0.32.1->-r requirements.txt (line 2)) (2.1.3)\n",
      "Requirement already satisfied: pandocfilters>=1.4.1 in /anaconda3/lib/python3.6/site-packages (from nbconvert->notebook>=4.3.1->jupyterlab==0.32.1->-r requirements.txt (line 2)) (1.4.2)\n",
      "Requirement already satisfied: testpath in /anaconda3/lib/python3.6/site-packages (from nbconvert->notebook>=4.3.1->jupyterlab==0.32.1->-r requirements.txt (line 2)) (0.3.1)\n",
      "Requirement already satisfied: ipython>=4.0.0 in /anaconda3/lib/python3.6/site-packages (from ipykernel->notebook>=4.3.1->jupyterlab==0.32.1->-r requirements.txt (line 2)) (6.4.0)\n"
     ]
    },
    {
     "name": "stdout",
     "output_type": "stream",
     "text": [
      "Requirement already satisfied: MarkupSafe>=0.23 in /anaconda3/lib/python3.6/site-packages (from jinja2->notebook>=4.3.1->jupyterlab==0.32.1->-r requirements.txt (line 2)) (1.0)\n",
      "Requirement already satisfied: docutils>=0.10 in /anaconda3/lib/python3.6/site-packages (from botocore<1.11.0,>=1.10.33->boto3->smart_open>=1.2.1->gensim==3.4.0->-r requirements.txt (line 1)) (0.14)\n",
      "Requirement already satisfied: html5lib!=1.0b1,!=1.0b2,!=1.0b3,!=1.0b4,!=1.0b5,!=1.0b6,!=1.0b7,!=1.0b8,>=0.99999999pre in /anaconda3/lib/python3.6/site-packages (from bleach->nbconvert->notebook>=4.3.1->jupyterlab==0.32.1->-r requirements.txt (line 2)) (1.0.1)\n",
      "Requirement already satisfied: pexpect; sys_platform != \"win32\" in /anaconda3/lib/python3.6/site-packages (from ipython>=4.0.0->ipykernel->notebook>=4.3.1->jupyterlab==0.32.1->-r requirements.txt (line 2)) (4.5.0)\n",
      "Requirement already satisfied: simplegeneric>0.8 in /anaconda3/lib/python3.6/site-packages (from ipython>=4.0.0->ipykernel->notebook>=4.3.1->jupyterlab==0.32.1->-r requirements.txt (line 2)) (0.8.1)\n",
      "Requirement already satisfied: pickleshare in /anaconda3/lib/python3.6/site-packages (from ipython>=4.0.0->ipykernel->notebook>=4.3.1->jupyterlab==0.32.1->-r requirements.txt (line 2)) (0.7.4)\n",
      "Requirement already satisfied: prompt-toolkit<2.0.0,>=1.0.15 in /anaconda3/lib/python3.6/site-packages (from ipython>=4.0.0->ipykernel->notebook>=4.3.1->jupyterlab==0.32.1->-r requirements.txt (line 2)) (1.0.15)\n",
      "Requirement already satisfied: appnope; sys_platform == \"darwin\" in /anaconda3/lib/python3.6/site-packages (from ipython>=4.0.0->ipykernel->notebook>=4.3.1->jupyterlab==0.32.1->-r requirements.txt (line 2)) (0.1.0)\n",
      "Requirement already satisfied: jedi>=0.10 in /anaconda3/lib/python3.6/site-packages (from ipython>=4.0.0->ipykernel->notebook>=4.3.1->jupyterlab==0.32.1->-r requirements.txt (line 2)) (0.12.0)\n",
      "Requirement already satisfied: backcall in /anaconda3/lib/python3.6/site-packages (from ipython>=4.0.0->ipykernel->notebook>=4.3.1->jupyterlab==0.32.1->-r requirements.txt (line 2)) (0.1.0)\n",
      "Requirement already satisfied: webencodings in /anaconda3/lib/python3.6/site-packages (from html5lib!=1.0b1,!=1.0b2,!=1.0b3,!=1.0b4,!=1.0b5,!=1.0b6,!=1.0b7,!=1.0b8,>=0.99999999pre->bleach->nbconvert->notebook>=4.3.1->jupyterlab==0.32.1->-r requirements.txt (line 2)) (0.5.1)\n",
      "Requirement already satisfied: ptyprocess>=0.5 in /anaconda3/lib/python3.6/site-packages (from pexpect; sys_platform != \"win32\"->ipython>=4.0.0->ipykernel->notebook>=4.3.1->jupyterlab==0.32.1->-r requirements.txt (line 2)) (0.5.2)\n",
      "Requirement already satisfied: wcwidth in /anaconda3/lib/python3.6/site-packages (from prompt-toolkit<2.0.0,>=1.0.15->ipython>=4.0.0->ipykernel->notebook>=4.3.1->jupyterlab==0.32.1->-r requirements.txt (line 2)) (0.1.7)\n",
      "Requirement already satisfied: parso>=0.2.0 in /anaconda3/lib/python3.6/site-packages (from jedi>=0.10->ipython>=4.0.0->ipykernel->notebook>=4.3.1->jupyterlab==0.32.1->-r requirements.txt (line 2)) (0.2.0)\n",
      "\u001b[31mdistributed 1.21.8 requires msgpack, which is not installed.\u001b[0m\n",
      "Installing collected packages: numpy\n",
      "  Found existing installation: numpy 1.14.3\n",
      "    Uninstalling numpy-1.14.3:\n",
      "      Successfully uninstalled numpy-1.14.3\n",
      "Successfully installed numpy-1.14.4\n",
      "/anaconda3/lib/python3.6/runpy.py:125: RuntimeWarning: 'nltk.downloader' found in sys.modules after import of package 'nltk', but prior to execution of 'nltk.downloader'; this may result in unpredictable behaviour\n",
      "  warn(RuntimeWarning(msg))\n",
      "[nltk_data] Downloading collection 'all'\n",
      "[nltk_data]    | \n",
      "[nltk_data]    | Downloading package abc to /Users/eunseo/nltk_data...\n",
      "[nltk_data]    |   Package abc is already up-to-date!\n",
      "[nltk_data]    | Downloading package alpino to\n",
      "[nltk_data]    |     /Users/eunseo/nltk_data...\n",
      "[nltk_data]    |   Package alpino is already up-to-date!\n",
      "[nltk_data]    | Downloading package biocreative_ppi to\n",
      "[nltk_data]    |     /Users/eunseo/nltk_data...\n",
      "[nltk_data]    |   Package biocreative_ppi is already up-to-date!\n",
      "[nltk_data]    | Downloading package brown to\n",
      "[nltk_data]    |     /Users/eunseo/nltk_data...\n",
      "[nltk_data]    |   Package brown is already up-to-date!\n",
      "[nltk_data]    | Downloading package brown_tei to\n",
      "[nltk_data]    |     /Users/eunseo/nltk_data...\n",
      "[nltk_data]    |   Package brown_tei is already up-to-date!\n",
      "[nltk_data]    | Downloading package cess_cat to\n",
      "[nltk_data]    |     /Users/eunseo/nltk_data...\n",
      "[nltk_data]    |   Package cess_cat is already up-to-date!\n",
      "[nltk_data]    | Downloading package cess_esp to\n",
      "[nltk_data]    |     /Users/eunseo/nltk_data...\n",
      "[nltk_data]    |   Package cess_esp is already up-to-date!\n",
      "[nltk_data]    | Downloading package chat80 to\n",
      "[nltk_data]    |     /Users/eunseo/nltk_data...\n",
      "[nltk_data]    |   Package chat80 is already up-to-date!\n",
      "[nltk_data]    | Downloading package city_database to\n",
      "[nltk_data]    |     /Users/eunseo/nltk_data...\n",
      "[nltk_data]    |   Package city_database is already up-to-date!\n",
      "[nltk_data]    | Downloading package cmudict to\n",
      "[nltk_data]    |     /Users/eunseo/nltk_data...\n",
      "[nltk_data]    |   Package cmudict is already up-to-date!\n",
      "[nltk_data]    | Downloading package comparative_sentences to\n",
      "[nltk_data]    |     /Users/eunseo/nltk_data...\n",
      "[nltk_data]    |   Package comparative_sentences is already up-to-\n",
      "[nltk_data]    |       date!\n",
      "[nltk_data]    | Downloading package comtrans to\n",
      "[nltk_data]    |     /Users/eunseo/nltk_data...\n",
      "[nltk_data]    |   Package comtrans is already up-to-date!\n",
      "[nltk_data]    | Downloading package conll2000 to\n",
      "[nltk_data]    |     /Users/eunseo/nltk_data...\n",
      "[nltk_data]    |   Package conll2000 is already up-to-date!\n",
      "[nltk_data]    | Downloading package conll2002 to\n",
      "[nltk_data]    |     /Users/eunseo/nltk_data...\n",
      "[nltk_data]    |   Package conll2002 is already up-to-date!\n",
      "[nltk_data]    | Downloading package conll2007 to\n",
      "[nltk_data]    |     /Users/eunseo/nltk_data...\n",
      "[nltk_data]    |   Package conll2007 is already up-to-date!\n",
      "[nltk_data]    | Downloading package crubadan to\n",
      "[nltk_data]    |     /Users/eunseo/nltk_data...\n",
      "[nltk_data]    |   Package crubadan is already up-to-date!\n",
      "[nltk_data]    | Downloading package dependency_treebank to\n",
      "[nltk_data]    |     /Users/eunseo/nltk_data...\n",
      "[nltk_data]    |   Package dependency_treebank is already up-to-date!\n",
      "[nltk_data]    | Downloading package dolch to\n",
      "[nltk_data]    |     /Users/eunseo/nltk_data...\n",
      "[nltk_data]    |   Package dolch is already up-to-date!\n",
      "[nltk_data]    | Downloading package europarl_raw to\n",
      "[nltk_data]    |     /Users/eunseo/nltk_data...\n",
      "[nltk_data]    |   Package europarl_raw is already up-to-date!\n",
      "[nltk_data]    | Downloading package floresta to\n",
      "[nltk_data]    |     /Users/eunseo/nltk_data...\n",
      "[nltk_data]    |   Package floresta is already up-to-date!\n",
      "[nltk_data]    | Downloading package framenet_v15 to\n",
      "[nltk_data]    |     /Users/eunseo/nltk_data...\n",
      "[nltk_data]    |   Package framenet_v15 is already up-to-date!\n",
      "[nltk_data]    | Downloading package framenet_v17 to\n",
      "[nltk_data]    |     /Users/eunseo/nltk_data...\n",
      "[nltk_data]    |   Package framenet_v17 is already up-to-date!\n",
      "[nltk_data]    | Downloading package gazetteers to\n",
      "[nltk_data]    |     /Users/eunseo/nltk_data...\n",
      "[nltk_data]    |   Package gazetteers is already up-to-date!\n",
      "[nltk_data]    | Downloading package genesis to\n",
      "[nltk_data]    |     /Users/eunseo/nltk_data...\n",
      "[nltk_data]    |   Package genesis is already up-to-date!\n",
      "[nltk_data]    | Downloading package gutenberg to\n",
      "[nltk_data]    |     /Users/eunseo/nltk_data...\n",
      "[nltk_data]    |   Package gutenberg is already up-to-date!\n",
      "[nltk_data]    | Downloading package ieer to\n",
      "[nltk_data]    |     /Users/eunseo/nltk_data...\n",
      "[nltk_data]    |   Package ieer is already up-to-date!\n",
      "[nltk_data]    | Downloading package inaugural to\n",
      "[nltk_data]    |     /Users/eunseo/nltk_data...\n",
      "[nltk_data]    |   Package inaugural is already up-to-date!\n",
      "[nltk_data]    | Downloading package indian to\n",
      "[nltk_data]    |     /Users/eunseo/nltk_data...\n",
      "[nltk_data]    |   Package indian is already up-to-date!\n",
      "[nltk_data]    | Downloading package jeita to\n",
      "[nltk_data]    |     /Users/eunseo/nltk_data...\n",
      "[nltk_data]    |   Package jeita is already up-to-date!\n",
      "[nltk_data]    | Downloading package kimmo to\n",
      "[nltk_data]    |     /Users/eunseo/nltk_data...\n",
      "[nltk_data]    |   Package kimmo is already up-to-date!\n",
      "[nltk_data]    | Downloading package knbc to\n",
      "[nltk_data]    |     /Users/eunseo/nltk_data...\n"
     ]
    },
    {
     "name": "stdout",
     "output_type": "stream",
     "text": [
      "[nltk_data]    |   Package knbc is already up-to-date!\n",
      "[nltk_data]    | Downloading package lin_thesaurus to\n",
      "[nltk_data]    |     /Users/eunseo/nltk_data...\n",
      "[nltk_data]    |   Package lin_thesaurus is already up-to-date!\n",
      "[nltk_data]    | Downloading package mac_morpho to\n",
      "[nltk_data]    |     /Users/eunseo/nltk_data...\n",
      "[nltk_data]    |   Package mac_morpho is already up-to-date!\n",
      "[nltk_data]    | Downloading package machado to\n",
      "[nltk_data]    |     /Users/eunseo/nltk_data...\n",
      "[nltk_data]    |   Package machado is already up-to-date!\n",
      "[nltk_data]    | Downloading package masc_tagged to\n",
      "[nltk_data]    |     /Users/eunseo/nltk_data...\n",
      "[nltk_data]    |   Package masc_tagged is already up-to-date!\n",
      "[nltk_data]    | Downloading package moses_sample to\n",
      "[nltk_data]    |     /Users/eunseo/nltk_data...\n",
      "[nltk_data]    |   Package moses_sample is already up-to-date!\n",
      "[nltk_data]    | Downloading package movie_reviews to\n",
      "[nltk_data]    |     /Users/eunseo/nltk_data...\n",
      "[nltk_data]    |   Package movie_reviews is already up-to-date!\n",
      "[nltk_data]    | Downloading package names to\n",
      "[nltk_data]    |     /Users/eunseo/nltk_data...\n",
      "[nltk_data]    |   Package names is already up-to-date!\n",
      "[nltk_data]    | Downloading package nombank.1.0 to\n",
      "[nltk_data]    |     /Users/eunseo/nltk_data...\n",
      "[nltk_data]    |   Package nombank.1.0 is already up-to-date!\n",
      "[nltk_data]    | Downloading package nps_chat to\n",
      "[nltk_data]    |     /Users/eunseo/nltk_data...\n",
      "[nltk_data]    |   Package nps_chat is already up-to-date!\n",
      "[nltk_data]    | Downloading package omw to /Users/eunseo/nltk_data...\n",
      "[nltk_data]    |   Package omw is already up-to-date!\n",
      "[nltk_data]    | Downloading package opinion_lexicon to\n",
      "[nltk_data]    |     /Users/eunseo/nltk_data...\n",
      "[nltk_data]    |   Package opinion_lexicon is already up-to-date!\n",
      "[nltk_data]    | Downloading package paradigms to\n",
      "[nltk_data]    |     /Users/eunseo/nltk_data...\n",
      "[nltk_data]    |   Package paradigms is already up-to-date!\n",
      "[nltk_data]    | Downloading package pil to /Users/eunseo/nltk_data...\n",
      "[nltk_data]    |   Package pil is already up-to-date!\n",
      "[nltk_data]    | Downloading package pl196x to\n",
      "[nltk_data]    |     /Users/eunseo/nltk_data...\n",
      "[nltk_data]    |   Package pl196x is already up-to-date!\n",
      "[nltk_data]    | Downloading package ppattach to\n",
      "[nltk_data]    |     /Users/eunseo/nltk_data...\n",
      "[nltk_data]    |   Package ppattach is already up-to-date!\n",
      "[nltk_data]    | Downloading package problem_reports to\n",
      "[nltk_data]    |     /Users/eunseo/nltk_data...\n",
      "[nltk_data]    |   Package problem_reports is already up-to-date!\n",
      "[nltk_data]    | Downloading package propbank to\n",
      "[nltk_data]    |     /Users/eunseo/nltk_data...\n",
      "[nltk_data]    |   Package propbank is already up-to-date!\n",
      "[nltk_data]    | Downloading package ptb to /Users/eunseo/nltk_data...\n",
      "[nltk_data]    |   Package ptb is already up-to-date!\n",
      "[nltk_data]    | Downloading package product_reviews_1 to\n",
      "[nltk_data]    |     /Users/eunseo/nltk_data...\n",
      "[nltk_data]    |   Package product_reviews_1 is already up-to-date!\n",
      "[nltk_data]    | Downloading package product_reviews_2 to\n",
      "[nltk_data]    |     /Users/eunseo/nltk_data...\n",
      "[nltk_data]    |   Package product_reviews_2 is already up-to-date!\n",
      "[nltk_data]    | Downloading package pros_cons to\n",
      "[nltk_data]    |     /Users/eunseo/nltk_data...\n",
      "[nltk_data]    |   Package pros_cons is already up-to-date!\n",
      "[nltk_data]    | Downloading package qc to /Users/eunseo/nltk_data...\n",
      "[nltk_data]    |   Package qc is already up-to-date!\n",
      "[nltk_data]    | Downloading package reuters to\n",
      "[nltk_data]    |     /Users/eunseo/nltk_data...\n",
      "[nltk_data]    |   Package reuters is already up-to-date!\n",
      "[nltk_data]    | Downloading package rte to /Users/eunseo/nltk_data...\n",
      "[nltk_data]    |   Package rte is already up-to-date!\n",
      "[nltk_data]    | Downloading package semcor to\n",
      "[nltk_data]    |     /Users/eunseo/nltk_data...\n",
      "[nltk_data]    |   Package semcor is already up-to-date!\n",
      "[nltk_data]    | Downloading package senseval to\n",
      "[nltk_data]    |     /Users/eunseo/nltk_data...\n",
      "[nltk_data]    |   Package senseval is already up-to-date!\n",
      "[nltk_data]    | Downloading package sentiwordnet to\n",
      "[nltk_data]    |     /Users/eunseo/nltk_data...\n",
      "[nltk_data]    |   Package sentiwordnet is already up-to-date!\n",
      "[nltk_data]    | Downloading package sentence_polarity to\n",
      "[nltk_data]    |     /Users/eunseo/nltk_data...\n",
      "[nltk_data]    |   Package sentence_polarity is already up-to-date!\n",
      "[nltk_data]    | Downloading package shakespeare to\n",
      "[nltk_data]    |     /Users/eunseo/nltk_data...\n",
      "[nltk_data]    |   Package shakespeare is already up-to-date!\n",
      "[nltk_data]    | Downloading package sinica_treebank to\n",
      "[nltk_data]    |     /Users/eunseo/nltk_data...\n",
      "[nltk_data]    |   Package sinica_treebank is already up-to-date!\n",
      "[nltk_data]    | Downloading package smultron to\n",
      "[nltk_data]    |     /Users/eunseo/nltk_data...\n",
      "[nltk_data]    |   Package smultron is already up-to-date!\n",
      "[nltk_data]    | Downloading package state_union to\n",
      "[nltk_data]    |     /Users/eunseo/nltk_data...\n",
      "[nltk_data]    |   Package state_union is already up-to-date!\n",
      "[nltk_data]    | Downloading package stopwords to\n",
      "[nltk_data]    |     /Users/eunseo/nltk_data...\n",
      "[nltk_data]    |   Package stopwords is already up-to-date!\n",
      "[nltk_data]    | Downloading package subjectivity to\n",
      "[nltk_data]    |     /Users/eunseo/nltk_data...\n",
      "[nltk_data]    |   Package subjectivity is already up-to-date!\n",
      "[nltk_data]    | Downloading package swadesh to\n",
      "[nltk_data]    |     /Users/eunseo/nltk_data...\n",
      "[nltk_data]    |   Package swadesh is already up-to-date!\n",
      "[nltk_data]    | Downloading package switchboard to\n",
      "[nltk_data]    |     /Users/eunseo/nltk_data...\n",
      "[nltk_data]    |   Package switchboard is already up-to-date!\n",
      "[nltk_data]    | Downloading package timit to\n",
      "[nltk_data]    |     /Users/eunseo/nltk_data...\n",
      "[nltk_data]    |   Package timit is already up-to-date!\n",
      "[nltk_data]    | Downloading package toolbox to\n",
      "[nltk_data]    |     /Users/eunseo/nltk_data...\n",
      "[nltk_data]    |   Package toolbox is already up-to-date!\n",
      "[nltk_data]    | Downloading package treebank to\n",
      "[nltk_data]    |     /Users/eunseo/nltk_data...\n",
      "[nltk_data]    |   Package treebank is already up-to-date!\n",
      "[nltk_data]    | Downloading package twitter_samples to\n",
      "[nltk_data]    |     /Users/eunseo/nltk_data...\n",
      "[nltk_data]    |   Package twitter_samples is already up-to-date!\n",
      "[nltk_data]    | Downloading package udhr to\n",
      "[nltk_data]    |     /Users/eunseo/nltk_data...\n",
      "[nltk_data]    |   Package udhr is already up-to-date!\n",
      "[nltk_data]    | Downloading package udhr2 to\n",
      "[nltk_data]    |     /Users/eunseo/nltk_data...\n",
      "[nltk_data]    |   Package udhr2 is already up-to-date!\n",
      "[nltk_data]    | Downloading package unicode_samples to\n",
      "[nltk_data]    |     /Users/eunseo/nltk_data...\n",
      "[nltk_data]    |   Package unicode_samples is already up-to-date!\n",
      "[nltk_data]    | Downloading package universal_treebanks_v20 to\n",
      "[nltk_data]    |     /Users/eunseo/nltk_data...\n",
      "[nltk_data]    |   Package universal_treebanks_v20 is already up-to-\n",
      "[nltk_data]    |       date!\n",
      "[nltk_data]    | Downloading package verbnet to\n",
      "[nltk_data]    |     /Users/eunseo/nltk_data...\n",
      "[nltk_data]    |   Package verbnet is already up-to-date!\n",
      "[nltk_data]    | Downloading package webtext to\n",
      "[nltk_data]    |     /Users/eunseo/nltk_data...\n",
      "[nltk_data]    |   Package webtext is already up-to-date!\n",
      "[nltk_data]    | Downloading package wordnet to\n",
      "[nltk_data]    |     /Users/eunseo/nltk_data...\n",
      "[nltk_data]    |   Package wordnet is already up-to-date!\n",
      "[nltk_data]    | Downloading package wordnet_ic to\n",
      "[nltk_data]    |     /Users/eunseo/nltk_data...\n",
      "[nltk_data]    |   Package wordnet_ic is already up-to-date!\n",
      "[nltk_data]    | Downloading package words to\n",
      "[nltk_data]    |     /Users/eunseo/nltk_data...\n",
      "[nltk_data]    |   Package words is already up-to-date!\n",
      "[nltk_data]    | Downloading package ycoe to\n",
      "[nltk_data]    |     /Users/eunseo/nltk_data...\n",
      "[nltk_data]    |   Package ycoe is already up-to-date!\n",
      "[nltk_data]    | Downloading package rslp to\n",
      "[nltk_data]    |     /Users/eunseo/nltk_data...\n",
      "[nltk_data]    |   Package rslp is already up-to-date!\n",
      "[nltk_data]    | Downloading package maxent_treebank_pos_tagger to\n",
      "[nltk_data]    |     /Users/eunseo/nltk_data...\n",
      "[nltk_data]    |   Package maxent_treebank_pos_tagger is already up-\n",
      "[nltk_data]    |       to-date!\n",
      "[nltk_data]    | Downloading package universal_tagset to\n",
      "[nltk_data]    |     /Users/eunseo/nltk_data...\n",
      "[nltk_data]    |   Package universal_tagset is already up-to-date!\n",
      "[nltk_data]    | Downloading package maxent_ne_chunker to\n",
      "[nltk_data]    |     /Users/eunseo/nltk_data...\n"
     ]
    },
    {
     "name": "stdout",
     "output_type": "stream",
     "text": [
      "[nltk_data]    |   Package maxent_ne_chunker is already up-to-date!\n",
      "[nltk_data]    | Downloading package punkt to\n",
      "[nltk_data]    |     /Users/eunseo/nltk_data...\n",
      "[nltk_data]    |   Package punkt is already up-to-date!\n",
      "[nltk_data]    | Downloading package book_grammars to\n",
      "[nltk_data]    |     /Users/eunseo/nltk_data...\n",
      "[nltk_data]    |   Package book_grammars is already up-to-date!\n",
      "[nltk_data]    | Downloading package sample_grammars to\n",
      "[nltk_data]    |     /Users/eunseo/nltk_data...\n",
      "[nltk_data]    |   Package sample_grammars is already up-to-date!\n",
      "[nltk_data]    | Downloading package spanish_grammars to\n",
      "[nltk_data]    |     /Users/eunseo/nltk_data...\n",
      "[nltk_data]    |   Package spanish_grammars is already up-to-date!\n",
      "[nltk_data]    | Downloading package basque_grammars to\n",
      "[nltk_data]    |     /Users/eunseo/nltk_data...\n",
      "[nltk_data]    |   Package basque_grammars is already up-to-date!\n",
      "[nltk_data]    | Downloading package large_grammars to\n",
      "[nltk_data]    |     /Users/eunseo/nltk_data...\n",
      "[nltk_data]    |   Package large_grammars is already up-to-date!\n",
      "[nltk_data]    | Downloading package tagsets to\n",
      "[nltk_data]    |     /Users/eunseo/nltk_data...\n",
      "[nltk_data]    |   Package tagsets is already up-to-date!\n",
      "[nltk_data]    | Downloading package snowball_data to\n",
      "[nltk_data]    |     /Users/eunseo/nltk_data...\n",
      "[nltk_data]    |   Package snowball_data is already up-to-date!\n",
      "[nltk_data]    | Downloading package bllip_wsj_no_aux to\n",
      "[nltk_data]    |     /Users/eunseo/nltk_data...\n",
      "[nltk_data]    |   Package bllip_wsj_no_aux is already up-to-date!\n",
      "[nltk_data]    | Downloading package word2vec_sample to\n",
      "[nltk_data]    |     /Users/eunseo/nltk_data...\n",
      "[nltk_data]    |   Package word2vec_sample is already up-to-date!\n",
      "[nltk_data]    | Downloading package panlex_swadesh to\n",
      "[nltk_data]    |     /Users/eunseo/nltk_data...\n",
      "[nltk_data]    |   Package panlex_swadesh is already up-to-date!\n",
      "[nltk_data]    | Downloading package mte_teip5 to\n",
      "[nltk_data]    |     /Users/eunseo/nltk_data...\n",
      "[nltk_data]    |   Package mte_teip5 is already up-to-date!\n",
      "[nltk_data]    | Downloading package averaged_perceptron_tagger to\n",
      "[nltk_data]    |     /Users/eunseo/nltk_data...\n",
      "[nltk_data]    |   Package averaged_perceptron_tagger is already up-\n",
      "[nltk_data]    |       to-date!\n",
      "[nltk_data]    | Downloading package perluniprops to\n",
      "[nltk_data]    |     /Users/eunseo/nltk_data...\n",
      "[nltk_data]    |   Package perluniprops is already up-to-date!\n",
      "[nltk_data]    | Downloading package nonbreaking_prefixes to\n",
      "[nltk_data]    |     /Users/eunseo/nltk_data...\n",
      "[nltk_data]    |   Package nonbreaking_prefixes is already up-to-date!\n",
      "[nltk_data]    | Downloading package vader_lexicon to\n",
      "[nltk_data]    |     /Users/eunseo/nltk_data...\n",
      "[nltk_data]    |   Package vader_lexicon is already up-to-date!\n",
      "[nltk_data]    | Downloading package porter_test to\n",
      "[nltk_data]    |     /Users/eunseo/nltk_data...\n",
      "[nltk_data]    |   Package porter_test is already up-to-date!\n",
      "[nltk_data]    | Downloading package wmt15_eval to\n",
      "[nltk_data]    |     /Users/eunseo/nltk_data...\n",
      "[nltk_data]    |   Package wmt15_eval is already up-to-date!\n",
      "[nltk_data]    | Downloading package mwa_ppdb to\n",
      "[nltk_data]    |     /Users/eunseo/nltk_data...\n",
      "[nltk_data]    |   Package mwa_ppdb is already up-to-date!\n",
      "[nltk_data]    | \n",
      "[nltk_data]  Done downloading collection all\n"
     ]
    }
   ],
   "source": [
    "!pip install -r requirements.txt\n",
    "!python -m nltk.downloader all;"
   ]
  },
  {
   "cell_type": "code",
   "execution_count": 50,
   "metadata": {},
   "outputs": [],
   "source": [
    "import numpy as np\n",
    "import nltk\n",
    "# import plotly.plotly as py\n",
    "import sklearn\n",
    "import matplotlib.pyplot as plt\n",
    "import gensim\n",
    "from sklearn.metrics.pairwise import cosine_similarity\n",
    "\n",
    "\n",
    "from IPython.display import HTML"
   ]
  },
  {
   "cell_type": "code",
   "execution_count": 51,
   "metadata": {},
   "outputs": [],
   "source": [
    "import gensim.downloader as pretrained"
   ]
  },
  {
   "cell_type": "code",
   "execution_count": 52,
   "metadata": {},
   "outputs": [],
   "source": [
    "my_model = pretrained.load('glove-wiki-gigaword-300')"
   ]
  },
  {
   "cell_type": "code",
   "execution_count": 53,
   "metadata": {},
   "outputs": [],
   "source": [
    "import matplotlib.pyplot as plt\n",
    "import numpy as np\n",
    "from sklearn.decomposition import PCA\n",
    "%matplotlib inline"
   ]
  },
  {
   "cell_type": "code",
   "execution_count": 80,
   "metadata": {},
   "outputs": [],
   "source": [
    "descriptions = ['earrings','physics','nice','genius','leader','dull','charismatic','whimsical','business','wealthy','weapons','engineer','hysterical']"
   ]
  },
  {
   "cell_type": "code",
   "execution_count": 81,
   "metadata": {},
   "outputs": [
    {
     "name": "stdout",
     "output_type": "stream",
     "text": [
      "earrings_she [[0.1556954]]\n",
      "earrings_he [[0.00201571]]\n",
      "physics_she [[0.12527204]]\n",
      "physics_he [[0.22394167]]\n",
      "nice_she [[0.30424422]]\n",
      "nice_he [[0.31524506]]\n",
      "genius_she [[0.12881698]]\n",
      "genius_he [[0.21715772]]\n",
      "leader_she [[0.1804142]]\n",
      "leader_he [[0.3512075]]\n",
      "dull_she [[0.10580092]]\n",
      "dull_he [[0.09116497]]\n",
      "charismatic_she [[0.08711539]]\n",
      "charismatic_he [[0.14945808]]\n",
      "whimsical_she [[0.02358968]]\n",
      "whimsical_he [[-0.04707601]]\n",
      "business_she [[0.31565934]]\n",
      "business_he [[0.39541444]]\n",
      "wealthy_she [[0.18962963]]\n",
      "wealthy_he [[0.23310974]]\n",
      "weapons_she [[0.19932981]]\n",
      "weapons_he [[0.27914166]]\n",
      "engineer_she [[0.14359437]]\n",
      "engineer_he [[0.28714356]]\n",
      "hysterical_she [[0.1514557]]\n",
      "hysterical_he [[0.02558503]]\n"
     ]
    }
   ],
   "source": [
    "she = my_model['she'].reshape(1,-1)\n",
    "he = my_model['he'].reshape(1,-1)\n",
    "\n",
    "for word in descriptions:\n",
    "    our_vector = my_model[word].reshape(1,-1)\n",
    "    print(word+\"_she\", cosine_similarity(our_vector, she))\n",
    "    print(word+\"_he\", cosine_similarity(our_vector, he))\n",
    "    "
   ]
  },
  {
   "cell_type": "markdown",
   "metadata": {},
   "source": [
    "What do you think of these differences between the two gender pronouns?"
   ]
  },
  {
   "cell_type": "code",
   "execution_count": null,
   "metadata": {},
   "outputs": [],
   "source": []
  },
  {
   "cell_type": "code",
   "execution_count": null,
   "metadata": {},
   "outputs": [],
   "source": []
  },
  {
   "cell_type": "markdown",
   "metadata": {},
   "source": [
    "<div style=\"font-size: 1em; margin: 1em 0 1em 0; border: 1px solid #86989B; background-color: #f7f7f7; padding: 0;\">\n",
    "<p style=\"margin: 0; padding: 0.1em 0 0.1em 0.5em; color: white; border-bottom: 1px solid #86989B; font-weight: bold; background-color: #AFC1C4;\">\n",
    "Activity\n",
    "</p>\n",
    "<p style=\"margin: 0.5em 1em 0.5em 1em; padding: 0;\">\n",
    "Your turn: Generate a vector including integers from 4 and 8 of size 10\n",
    "<br>\n",
    "<em>\n",
    "<strong>Hint</strong>: Use the numpy functions\n",
    "</em>\n",
    "</p>\n",
    "</div>"
   ]
  },
  {
   "cell_type": "markdown",
   "metadata": {},
   "source": [
    "First we will work through examples from a paper that came out in 2016 on debiasing gender vectors. (https://arxiv.org/pdf/1607.06520.pdf)\n"
   ]
  },
  {
   "cell_type": "code",
   "execution_count": null,
   "metadata": {},
   "outputs": [],
   "source": [
    "import json\n",
    "import random\n",
    "import numpy as np\n",
    "\n",
    "import debiaswe as dwe\n",
    "import debiaswe.we as we\n",
    "from debiaswe.we import WordEmbedding\n",
    "from debiaswe.data import load_professions\n",
    "import numpy.linalg as la"
   ]
  },
  {
   "cell_type": "code",
   "execution_count": null,
   "metadata": {},
   "outputs": [],
   "source": [
    "from sklearn.metrics.pairwise import cosine_similarity"
   ]
  },
  {
   "cell_type": "code",
   "execution_count": null,
   "metadata": {},
   "outputs": [],
   "source": [
    "# We first load our embedddings with the code the authors provide\n",
    "E = WordEmbedding('./embeddings/w2v_gnews_small.txt')"
   ]
  },
  {
   "cell_type": "code",
   "execution_count": null,
   "metadata": {},
   "outputs": [],
   "source": [
    "# The authors also give us a hand-picked set of definitional gender pairs, pairs of gender words we want to equalize, and words that are gender-specific  \n",
    "\n",
    "with open('./data/definitional_pairs.json', \"r\") as f:\n",
    "    defs = json.load(f)\n",
    "print(\"definitional\", defs)\n",
    "\n",
    "with open('./data/equalize_pairs.json', \"r\") as f:\n",
    "    equalize_pairs = json.load(f)\n",
    "\n",
    "with open('./data/gender_specific_seed.json', \"r\") as f:\n",
    "    gender_specific_words = json.load(f)\n",
    "print(\"gender specific\", len(gender_specific_words), gender_specific_words[:10])"
   ]
  },
  {
   "cell_type": "code",
   "execution_count": null,
   "metadata": {},
   "outputs": [],
   "source": [
    "defs"
   ]
  },
  {
   "cell_type": "code",
   "execution_count": null,
   "metadata": {},
   "outputs": [],
   "source": [
    "equalize_pairs"
   ]
  },
  {
   "cell_type": "code",
   "execution_count": null,
   "metadata": {},
   "outputs": [],
   "source": [
    "gender_specific_words"
   ]
  },
  {
   "cell_type": "code",
   "execution_count": null,
   "metadata": {},
   "outputs": [],
   "source": [
    "# We also get a list of professions\n",
    "professions = load_professions()"
   ]
  },
  {
   "cell_type": "code",
   "execution_count": null,
   "metadata": {},
   "outputs": [],
   "source": [
    "professions"
   ]
  },
  {
   "cell_type": "markdown",
   "metadata": {},
   "source": [
    "What is the problem we're dealing with here? Where is the 'bias'?"
   ]
  },
  {
   "cell_type": "code",
   "execution_count": null,
   "metadata": {},
   "outputs": [],
   "source": [
    "# We identify a gender subspace or direction by subtracting the 'he' vector from the 'she' vector\n",
    "gender_vector = E.diff('she','he')"
   ]
  },
  {
   "cell_type": "code",
   "execution_count": null,
   "metadata": {},
   "outputs": [],
   "source": [
    "# Using cosine similarity, see how gender specific words (such as 'boyfriend' or 'actress') relate to the gender vector\n",
    "for w in gender_specific_words:\n",
    "    if w in E.index:\n",
    "        print (w, cosine_similarity(E.v(w).reshape(1,-1), gender_vector.reshape(1,-1)))"
   ]
  },
  {
   "cell_type": "code",
   "execution_count": null,
   "metadata": {},
   "outputs": [],
   "source": [
    "# Activity: Make your own list of words that you think will be demonstrate or embed bias.\n"
   ]
  },
  {
   "cell_type": "code",
   "execution_count": null,
   "metadata": {},
   "outputs": [],
   "source": [
    "# We will look at how these 'biases' are reflected in our hand-picked set of profession-related words.\n",
    "for w in [p[0] for p in professions]:\n",
    "    if w in E.index:\n",
    "        print (w, cosine_similarity(E.v(w).reshape(1,-1), gender_vector.reshape(1,-1)))"
   ]
  },
  {
   "cell_type": "markdown",
   "metadata": {},
   "source": [
    "While as humanists and social scientists we might find such discrepancies, or rather consistent biases, interesting data, computer scientists found this embedded bias deeply problematic (and perhaps horrifying). So, they have tried to correct these discrepancies."
   ]
  },
  {
   "cell_type": "code",
   "execution_count": null,
   "metadata": {},
   "outputs": [],
   "source": [
    "E.v('physicist')"
   ]
  },
  {
   "cell_type": "code",
   "execution_count": null,
   "metadata": {},
   "outputs": [],
   "source": [
    "physicist = E.v('physicist')/la.norm(E.v('physicist'))"
   ]
  },
  {
   "cell_type": "code",
   "execution_count": null,
   "metadata": {},
   "outputs": [],
   "source": [
    "factor = np.dot(physicist,gender_vector.T)\n"
   ]
  },
  {
   "cell_type": "code",
   "execution_count": null,
   "metadata": {},
   "outputs": [],
   "source": [
    "bias_comp = np.multiply(gender_vector, factor)\n"
   ]
  },
  {
   "cell_type": "code",
   "execution_count": null,
   "metadata": {},
   "outputs": [],
   "source": [
    "debiased = physicist - bias_comp\n"
   ]
  },
  {
   "cell_type": "code",
   "execution_count": null,
   "metadata": {},
   "outputs": [],
   "source": [
    "cosine_similarity(debiased.reshape(1,-1), gender_vector.reshape(1,-1))"
   ]
  },
  {
   "cell_type": "code",
   "execution_count": null,
   "metadata": {},
   "outputs": [],
   "source": [
    "cosine_similarity(physicist.reshape(1,-1), gender_vector.reshape(1,-1))"
   ]
  },
  {
   "cell_type": "code",
   "execution_count": null,
   "metadata": {},
   "outputs": [],
   "source": [
    "before_debiasing = sorted([(w,cosine_similarity(E.v(w).reshape(1,-1),gender_vector.reshape(1,-1))) for w in profession_words], key=lambda x:x[1][[0]])\n",
    "before_debiasing[:15], before_debiasing[-15:]"
   ]
  },
  {
   "cell_type": "code",
   "execution_count": null,
   "metadata": {},
   "outputs": [],
   "source": [
    "from debiaswe.debias import debias"
   ]
  },
  {
   "cell_type": "code",
   "execution_count": null,
   "metadata": {},
   "outputs": [],
   "source": [
    "debias(E, gender_specific_words, defs, equalize_pairs)"
   ]
  },
  {
   "cell_type": "code",
   "execution_count": null,
   "metadata": {},
   "outputs": [],
   "source": [
    "after_debiasing = sorted([(w,cosine_similarity(E.v(w).reshape(1,-1),gender_vector.reshape(1,-1))) for w in profession_words], key=lambda x:x[1][[0]])"
   ]
  },
  {
   "cell_type": "code",
   "execution_count": null,
   "metadata": {},
   "outputs": [],
   "source": [
    "after_debiasing[:15], after_debiasing[-15:]"
   ]
  },
  {
   "cell_type": "code",
   "execution_count": null,
   "metadata": {},
   "outputs": [],
   "source": [
    "a_gender_debiased = E.best_analogies_dist_thresh(v_gender)"
   ]
  },
  {
   "cell_type": "code",
   "execution_count": null,
   "metadata": {},
   "outputs": [],
   "source": [
    "sp = sorted([(E.v(w).dot(v_gender), w) for w in profession_words])"
   ]
  },
  {
   "cell_type": "code",
   "execution_count": null,
   "metadata": {},
   "outputs": [],
   "source": [
    "sp[:30]"
   ]
  },
  {
   "cell_type": "code",
   "execution_count": null,
   "metadata": {},
   "outputs": [],
   "source": [
    "with open('./glove/glove.6B.50d.txt','rb') as lines:\n",
    "    w2v = {line.split()[0].decode('utf-8'): np.array(list(map(float, line.split()[1:]))).reshape(1,50)\n",
    "           for line in lines}\n",
    "    "
   ]
  },
  {
   "cell_type": "markdown",
   "metadata": {},
   "source": [
    "\n",
    "$S_{(a,b)}(x,y) = \n",
    "  \\left\\{\n",
    "\\begin{array}{ll}\n",
    "      cos(\\vec{a} - \\vec{b},\\vec{x} - \\vec{y})& if \\left\\Vert \\vec{x} - \\vec{y} \\right\\Vert \\leq \\delta \\\\\n",
    "      0 & otherwise \\\\\n",
    "\\end{array} \n",
    "\\right. $"
   ]
  },
  {
   "cell_type": "code",
   "execution_count": null,
   "metadata": {},
   "outputs": [],
   "source": [
    "a_gender = E.best_analogies_dist_thresh(v_gender)"
   ]
  },
  {
   "cell_type": "code",
   "execution_count": null,
   "metadata": {},
   "outputs": [],
   "source": [
    "print(a_gender[:30])"
   ]
  },
  {
   "cell_type": "code",
   "execution_count": null,
   "metadata": {},
   "outputs": [],
   "source": [
    "sp = sorted([(E.v(w).dot(v_gender), w) for w in profession_words])"
   ]
  }
 ],
 "metadata": {
  "kernelspec": {
   "display_name": "Python 3",
   "language": "python",
   "name": "python3"
  },
  "language_info": {
   "codemirror_mode": {
    "name": "ipython",
    "version": 3
   },
   "file_extension": ".py",
   "mimetype": "text/x-python",
   "name": "python",
   "nbconvert_exporter": "python",
   "pygments_lexer": "ipython3",
   "version": "3.6.5"
  }
 },
 "nbformat": 4,
 "nbformat_minor": 2
}
