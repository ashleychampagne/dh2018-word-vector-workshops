{
 "cells": [
  {
   "cell_type": "markdown",
   "metadata": {
    "colab_type": "text",
    "id": "fjzcvgz2NTzj"
   },
   "source": [
    "# DH 2018 Workshop on Word Vectors"
   ]
  },
  {
   "cell_type": "markdown",
   "metadata": {
    "colab_type": "text",
    "id": "lG6sPBChKzgG"
   },
   "source": [
    "## **Welcome to Machine Reading!**\n",
    "\n",
    "This is a hands-on workshop focusing on various word vectorization methods and applications for digital humanities.\n",
    "The workshop will be split into 4 sections with 10 minute breaks in-between. The sections get incrementally more advanced, building on concepts and methods from the previous sections.\n",
    "\n",
    "To follow along, you can run the script portions piecemeal, in order, as we progress through the workshop material.\n",
    "\n",
    "\n",
    "\n",
    "## 1. Understanding Word Vectors with Visualization (50 mins)\n",
    "\n",
    "This unit will give a brief introduction of word vectors and word embeddings. Concepts needed to understand the internal mechanics of how they work will also be explained, with the help of plots and visualizations that are commonly used when working with them.\n",
    "\n",
    "\n",
    "- 0:00 - 0:20 From word counts to ML-derived Word Vectors (SVD, PMI, etc.)\n",
    "- 0:20 - 0:35 Clustering, Vector Math, Vector Space Theory (Euclidean Distance, etc.)\n",
    "- 0:35 - 0:50 [Activity 1] Visualizations (Clustering, PCA, t-SNE) [We provide vectors]\n",
    "\n",
    "1. What are the limitations of these word vectors?\n",
    "2. What are the different use cases between count-based vectors and word2vec? (size of corpus)\n",
    "3. What are limitations?\n",
    "4. Why do we use Word2Vec instead?\n",
    "\n",
    "## 2. Word Vectors via Word2Vec (50 mins)\n",
    "\n",
    "This unit will focus on Word2Vec as an example of neural net-based approaches of vector encodings, starting with a conceptual overview of the algorithm itself and ending with an activity to train participants’ own vectors.\n",
    "\n",
    "\n",
    "- 0:00 - 0:15 Conceptual explanation of Word2Vec\n",
    "- 0:15 - 0:30 Word2Vec Visualization and Vectorial Features and Math\n",
    "- 0:30 - 0:50 [Activity 2] Word2Vec Construction [using Gensim] and Visualization (from part 1) [We provide corpus]\n",
    "\n",
    "\n",
    "## 3. Pre-trained Models and Extended Vector Algorithms (50 mins)\n",
    "\n",
    "This unit will explore the various flavors of word embeddings specifically tailored to sentences, word meaning, paragraph, or entire documents. We will give an overview of pre-trained embeddings, including where they can be found and how to use them.\n",
    "\n",
    "- 0:00 - 0:20 Pre-trained word embeddings (where to find them, which are good, configurations, trained corpus, etc., e.g. https://github.com/facebookresearch/fastText)\n",
    "- 0:20 - 0:35 Overview of other 2Vecs & other vector engineering: Paragraph2Vec, Sense2Vec, Doc2Vec, etc.\n",
    "- 0:35 - 0:50 [Activity 3] Choose, download, and use a pre-trained model\n",
    "\n",
    "## 4. Role of Bias in Word Embeddings (50 mins)\n",
    "\n",
    "In this unit, we will explore an application and caveat of using word embeddings -- cultural bias. Presenting methods and results from recent articles, we will show how word embeddings can carry the historical biases of the training corpora and lead an activity that shows these human-biases on vectors. We'll also address how such bias can be mitigated.\n",
    "\n",
    "- 0:00 - 0:10 Algorithmic bias vs human bias \n",
    "- 0:10 - 0:40 [Activity 4] Identifying bias in corpora (occupations, gender, ...) [GloVe]\n",
    "- 0:40 - 0:50 Towards unbiased embeddings; Examine “debiased” embeddings\n",
    "- 0:50 - 0:60 Conclusion remarks and debate\n"
   ]
  },
  {
   "cell_type": "markdown",
   "metadata": {
    "colab_type": "text",
    "id": "-tcd-ksk4_Hp"
   },
   "source": [
    "# 0. Setting Up "
   ]
  },
  {
   "cell_type": "markdown",
   "metadata": {
    "colab_type": "text",
    "id": "aBDSstL82uNa"
   },
   "source": [
    "Before we get started, let's go ahead and set up our notebook.\n",
    "\n",
    "We will start by importing a few Python libraries that we will use throughout the workshop.\n",
    "\n",
    "## What are these libraries?\n",
    "\n",
    "1. NumPy: This is a package for scientific computing in python. For us, NumPy is useful for vector operations. \n",
    "2. NLTK: Easy to use python package for text processing (lemmatization, tokenization, POS-tagging, etc.)\n",
    "3. matplotlib: Plotting package for visualization\n",
    "4. sciKit-learn: Easy to use python package for machine learning algorithms and preprocessing tools\n",
    "5. gensim: Builtin word2vec and other NLP algorithms\n",
    "\n",
    "We will be working with a few sample texts using NLTK's corpus package."
   ]
  },
  {
   "cell_type": "code",
   "execution_count": 1,
   "metadata": {
    "colab": {
     "base_uri": "https://localhost:8080/",
     "height": 465
    },
    "colab_type": "code",
    "id": "1gctO2uj_sJd",
    "outputId": "876d9303-9c1a-4be4-f75f-9746c8e0b1bc"
   },
   "outputs": [
    {
     "name": "stderr",
     "output_type": "stream",
     "text": [
      "All done!\n"
     ]
    }
   ],
   "source": [
    "%%capture --no-stderr\n",
    "import sys\n",
    "\n",
    "!pip install -q numpy nltk scikit-learn matplotlib gensim \n",
    "!python -m nltk.downloader all\n",
    "print(\"All done!\", file=sys.stderr)"
   ]
  },
  {
   "cell_type": "markdown",
   "metadata": {},
   "source": [
    "If all went well, we should be able now to import the next packages into our workspace"
   ]
  },
  {
   "cell_type": "code",
   "execution_count": 2,
   "metadata": {
    "colab": {},
    "colab_type": "code",
    "id": "FuIdxn38Njrq"
   },
   "outputs": [],
   "source": [
    "import numpy as np\n",
    "import nltk\n",
    "import sklearn\n",
    "import matplotlib.pyplot as plt\n",
    "import gensim\n",
    "\n",
    "from IPython.display import HTML   #This is just for notebook layout"
   ]
  },
  {
   "cell_type": "markdown",
   "metadata": {
    "colab_type": "text",
    "id": "8dVMpegUqNQW"
   },
   "source": [
    "\n",
    "\n",
    "---\n",
    "\n"
   ]
  },
  {
   "cell_type": "markdown",
   "metadata": {
    "colab_type": "text",
    "id": "uBOp_mLvnB-N"
   },
   "source": [
    "# 1. Understanding Word Vectors with Visualization\n",
    "\n"
   ]
  },
  {
   "cell_type": "markdown",
   "metadata": {
    "colab_type": "text",
    "id": "gpEglVu64ygd"
   },
   "source": [
    "## What is a word vector?\n",
    "\n",
    "A word vector or embedding is a **numerical representation** of a word within a corpus based on co-occurence with other words. Linguists have found that much of the meaning of a word can be derived from looking at its surrounding context. In this unit, we will explore a few major approaches to representing words in a numerical format."
   ]
  },
  {
   "cell_type": "markdown",
   "metadata": {
    "colab_type": "text",
    "id": "DmS8_eIC5SYl"
   },
   "source": [
    "## What is a vector?\n",
    "\n",
    "Before anything related to words or text let's make sure we're on the same page about vectors! A vector is just a list/array of real numbers. A vector has a size/length which indicates how many numbers are in it. "
   ]
  },
  {
   "cell_type": "code",
   "execution_count": 4,
   "metadata": {},
   "outputs": [],
   "source": [
    "# In python you can make a vector using square brackets '[]'.\n",
    "vector_one = [1,2,3]\n",
    "vector_two = [1,2,34.53222222]"
   ]
  },
  {
   "cell_type": "markdown",
   "metadata": {
    "colab_type": "text",
    "id": "BHdEZ6Hs5nyf"
   },
   "source": [
    "Here is a list of 5 real numbers (represented as floating point numbers). This vector has 5 dimensions or features."
   ]
  },
  {
   "cell_type": "code",
   "execution_count": 5,
   "metadata": {
    "colab": {
     "base_uri": "https://localhost:8080/",
     "height": 34
    },
    "colab_type": "code",
    "id": "ppctTkPC5cFy",
    "outputId": "6c7aacd0-3038-4261-9550-781e780e6d1c"
   },
   "outputs": [
    {
     "data": {
      "text/plain": [
       "array([ 0.36993279,  0.53722682, -0.63760645, -0.60475944, -0.15884598])"
      ]
     },
     "execution_count": 5,
     "metadata": {},
     "output_type": "execute_result"
    }
   ],
   "source": [
    "# Here you can generate a vector of random floats with the random function from numpy\n",
    "# You'll see that every time you run this command you get a series of different numbers - try it!\n",
    "# In this instance we're making a vector of length (or size) 5\n",
    "\n",
    "vector_of_floats = np.random.randn(5)\n",
    "vector_of_floats"
   ]
  },
  {
   "cell_type": "markdown",
   "metadata": {
    "colab_type": "text",
    "id": "1eMEa0-_53s6"
   },
   "source": [
    "Here is a list of 20 integers between 0 and 3 (exclusive; not including 3). Later we will go into more vector math but you can see that a vector is a multi-dimensional numerical representation."
   ]
  },
  {
   "cell_type": "code",
   "execution_count": 6,
   "metadata": {
    "colab": {
     "base_uri": "https://localhost:8080/",
     "height": 34
    },
    "colab_type": "code",
    "id": "rOqQ4XrG5zFY",
    "outputId": "24868c2b-8b56-4903-fb91-4462846df357"
   },
   "outputs": [
    {
     "data": {
      "text/plain": [
       "array([0, 0, 1, 1, 1, 1, 2, 2, 2, 2, 1, 0, 0, 2, 0, 1, 2, 2, 2, 2])"
      ]
     },
     "execution_count": 6,
     "metadata": {},
     "output_type": "execute_result"
    }
   ],
   "source": [
    "# You can call a vector of random integers too\n",
    "# There are three inputs here: the start range of your integer, \n",
    "# the end range(exclusive), and the size of the vector\n",
    "# In our example, the range is [0, 3] \n",
    "\n",
    "vector_of_ints = np.random.randint(0, 3, size=20)\n",
    "vector_of_ints"
   ]
  },
  {
   "cell_type": "markdown",
   "metadata": {
    "colab_type": "text",
    "id": "TXqm9Vu26o1j"
   },
   "source": [
    "Word vectors (and vectors in general) can be largely classified into **sparse** and **dense** vectors. A **sparse** vector is just a vector with lots of 0's. When the vector represents countings of a word that co-occurs with other words, these vectors tend to be **sparse** since only a few pairs of words will co-ocur in practice."
   ]
  },
  {
   "cell_type": "code",
   "execution_count": 8,
   "metadata": {},
   "outputs": [
    {
     "data": {
      "text/html": [
       "\n",
       "<div style=\"font-size: 1em; margin: 1em 0 1em 0; border: 1px solid #86989B; background-color: #f7f7f7; padding: 0;\">\n",
       "<p style=\"margin: 0; padding: 0.1em 0 0.1em 0.5em; color: white; border-bottom: 1px solid #86989B; font-weight: bold; background-color: #AFC1C4;\">\n",
       "Activity\n",
       "</p>\n",
       "<p style=\"margin: 0.5em 1em 0.5em 1em; padding: 0;\">\n",
       "Your turn: Generate a vector including integers from 4 to 8 of size 10\n",
       "<br>\n",
       "<em>\n",
       "<strong>Hint</strong>: Use the numpy functions\n",
       "</em>\n",
       "</p>\n",
       "</div>\n"
      ],
      "text/plain": [
       "<IPython.core.display.HTML object>"
      ]
     },
     "execution_count": 8,
     "metadata": {},
     "output_type": "execute_result"
    }
   ],
   "source": [
    "HTML(\"\"\"\n",
    "<div style=\"font-size: 1em; margin: 1em 0 1em 0; border: 1px solid #86989B; background-color: #f7f7f7; padding: 0;\">\n",
    "<p style=\"margin: 0; padding: 0.1em 0 0.1em 0.5em; color: white; border-bottom: 1px solid #86989B; font-weight: bold; background-color: #AFC1C4;\">\n",
    "Activity\n",
    "</p>\n",
    "<p style=\"margin: 0.5em 1em 0.5em 1em; padding: 0;\">\n",
    "Your turn: Generate a vector including integers from 4 to 8 of size 10\n",
    "<br>\n",
    "<em>\n",
    "<strong>Hint</strong>: Use the numpy functions\n",
    "</em>\n",
    "</p>\n",
    "</div>\n",
    "\"\"\")"
   ]
  },
  {
   "cell_type": "code",
   "execution_count": 9,
   "metadata": {},
   "outputs": [
    {
     "ename": "TypeError",
     "evalue": "int() argument must be a string, a bytes-like object or a number, not 'ellipsis'",
     "output_type": "error",
     "traceback": [
      "\u001b[0;31m---------------------------------------------------------------------------\u001b[0m",
      "\u001b[0;31mTypeError\u001b[0m                                 Traceback (most recent call last)",
      "\u001b[0;32m<ipython-input-9-822d5073c47a>\u001b[0m in \u001b[0;36m<module>\u001b[0;34m()\u001b[0m\n\u001b[0;32m----> 1\u001b[0;31m \u001b[0mnp\u001b[0m\u001b[0;34m.\u001b[0m\u001b[0mrandom\u001b[0m\u001b[0;34m.\u001b[0m\u001b[0mrandint\u001b[0m\u001b[0;34m(\u001b[0m\u001b[0;34m...\u001b[0m\u001b[0;34m)\u001b[0m\u001b[0;34m\u001b[0m\u001b[0m\n\u001b[0m",
      "\u001b[0;32mmtrand.pyx\u001b[0m in \u001b[0;36mmtrand.RandomState.randint\u001b[0;34m()\u001b[0m\n",
      "\u001b[0;31mTypeError\u001b[0m: int() argument must be a string, a bytes-like object or a number, not 'ellipsis'"
     ]
    }
   ],
   "source": [
    "np.random.randint(...)"
   ]
  },
  {
   "cell_type": "markdown",
   "metadata": {
    "colab_type": "text",
    "id": "TXqm9Vu26o1j"
   },
   "source": [
    "## Document-term matrix"
   ]
  },
  {
   "cell_type": "markdown",
   "metadata": {
    "colab_type": "text",
    "id": "DD-eWXX7ts2E"
   },
   "source": [
    "Let's import `scikit-learn`'s `CountVectorizer()`\n",
    "\n"
   ]
  },
  {
   "cell_type": "code",
   "execution_count": 10,
   "metadata": {
    "colab": {},
    "colab_type": "code",
    "id": "Tj9BDJRAtqmA"
   },
   "outputs": [],
   "source": [
    "from sklearn.feature_extraction.text import CountVectorizer"
   ]
  },
  {
   "cell_type": "code",
   "execution_count": 11,
   "metadata": {
    "colab": {},
    "colab_type": "code",
    "id": "pSmRFOz5uCI6"
   },
   "outputs": [],
   "source": [
    "documents = [\n",
    "    \"This is a piece of text. This is also some random text. Also text.\",\n",
    "]"
   ]
  },
  {
   "cell_type": "markdown",
   "metadata": {
    "colab_type": "text",
    "id": "32OUeIINt7dz"
   },
   "source": [
    "Let's now transform this document so that each word is given a unique identifying number."
   ]
  },
  {
   "cell_type": "code",
   "execution_count": 12,
   "metadata": {
    "colab": {},
    "colab_type": "code",
    "id": "gy3TSca-_AI_"
   },
   "outputs": [
    {
     "name": "stdout",
     "output_type": "stream",
     "text": [
      "Vocabulary size: 8\n"
     ]
    },
    {
     "data": {
      "text/plain": [
       "{'this': 7,\n",
       " 'is': 1,\n",
       " 'piece': 3,\n",
       " 'of': 2,\n",
       " 'text': 6,\n",
       " 'also': 0,\n",
       " 'some': 5,\n",
       " 'random': 4}"
      ]
     },
     "execution_count": 12,
     "metadata": {},
     "output_type": "execute_result"
    }
   ],
   "source": [
    "example_vectorizer = CountVectorizer()\n",
    "example_vectorizer.fit(documents)\n",
    "print(\"Vocabulary size:\", len(example_vectorizer.vocabulary_))\n",
    "example_vectorizer.vocabulary_"
   ]
  },
  {
   "cell_type": "markdown",
   "metadata": {},
   "source": [
    "Also, let's add the corresponding frequency number, which gives the total number of times each word appears in each document."
   ]
  },
  {
   "cell_type": "code",
   "execution_count": 13,
   "metadata": {
    "colab": {
     "base_uri": "https://localhost:8080/",
     "height": 575
    },
    "colab_type": "code",
    "id": "bw_tEfm8uZcr",
    "outputId": "0b8c514d-fe48-4179-8332-c999893306b8"
   },
   "outputs": [
    {
     "name": "stdout",
     "output_type": "stream",
     "text": [
      "  (0, 0)\t2\n",
      "  (0, 1)\t2\n",
      "  (0, 2)\t1\n",
      "  (0, 3)\t1\n",
      "  (0, 4)\t1\n",
      "  (0, 5)\t1\n",
      "  (0, 6)\t3\n",
      "  (0, 7)\t2\n",
      "   ↑  ↑         ↑\n",
      "  doc word_id count\n"
     ]
    }
   ],
   "source": [
    "counts = example_vectorizer.transform(documents)\n",
    "print(counts)\n",
    "print(\"   ↑  ↑         ↑\\n  doc word_id count\")"
   ]
  },
  {
   "cell_type": "markdown",
   "metadata": {
    "colab_type": "text",
    "id": "huVjKtqLx4qu"
   },
   "source": [
    "Now, let's iterate through all the words that appear in our original document and print all the counts that we generated above."
   ]
  },
  {
   "cell_type": "code",
   "execution_count": 14,
   "metadata": {
    "colab": {
     "base_uri": "https://localhost:8080/",
     "height": 198
    },
    "colab_type": "code",
    "id": "nI6ZmEpuubbh",
    "outputId": "e093bb94-43dc-45fe-d21e-3b3df54578c0"
   },
   "outputs": [
    {
     "name": "stdout",
     "output_type": "stream",
     "text": [
      "this : 2\n",
      "is : 2\n",
      "piece : 1\n",
      "of : 1\n",
      "text : 3\n",
      "also : 2\n",
      "some : 1\n",
      "random : 1\n"
     ]
    }
   ],
   "source": [
    "doc = 0  # first document\n",
    "for word, word_id in example_vectorizer.vocabulary_.items():\n",
    "    print(word, \":\", counts[doc, word_id])"
   ]
  },
  {
   "cell_type": "markdown",
   "metadata": {
    "colab_type": "text",
    "id": "gc9OwJiI1N2k"
   },
   "source": [
    "A **document-term matrix** is just a big table (formally, a mathematical matrix) that describes the frequency of words or terms that occur in a collection of documents. In a document-term matrix, **rows correspond to documents** in the collection and **columns correspond to terms**. In \n",
    "\n",
    "In our case, since we only have one document, our document-term matrix only has one row (doc `0`) and looks like this.\n",
    "\n",
    "|             | also | is | of | piece | random | some | text | this |\n",
    "| ----------- |:----:|:--:|:--:|:-----:|:------:|:----:|:----:|:----:|\n",
    "| Document #1 |  2   | 2  | 1  | 1     |  1     |  1   |  3   |   2  |\n",
    "\n",
    "It can easily be extracted by using the `transform()` method our `CountVectorizer()`."
   ]
  },
  {
   "cell_type": "code",
   "execution_count": 15,
   "metadata": {
    "colab": {
     "base_uri": "https://localhost:8080/",
     "height": 34
    },
    "colab_type": "code",
    "id": "88JlYyYnu1aL",
    "outputId": "0d0e5cf0-b56b-4759-92a5-24df0ccc96b0"
   },
   "outputs": [
    {
     "data": {
      "text/plain": [
       "array([[2, 2, 1, 1, 1, 1, 3, 2]])"
      ]
     },
     "execution_count": 15,
     "metadata": {},
     "output_type": "execute_result"
    }
   ],
   "source": [
    "counts = example_vectorizer.transform(documents)\n",
    "counts.toarray()"
   ]
  },
  {
   "cell_type": "markdown",
   "metadata": {},
   "source": [
    "Each element of the matrix represents vocabulary from above, with the placement corresponding to the unique identifier assigned mostly randomly by scikit-learn, eg. 7th placement (8th, starting from 0) is `text`."
   ]
  },
  {
   "cell_type": "markdown",
   "metadata": {},
   "source": [
    "Let's now add a new document that looks almost identical but introduces a new word, just to see how this change reflects on the document-term matrix."
   ]
  },
  {
   "cell_type": "code",
   "execution_count": 16,
   "metadata": {},
   "outputs": [
    {
     "name": "stdout",
     "output_type": "stream",
     "text": [
      "Vocabulary size: 9\n"
     ]
    },
    {
     "data": {
      "text/plain": [
       "{'this': 8,\n",
       " 'is': 1,\n",
       " 'piece': 4,\n",
       " 'of': 3,\n",
       " 'text': 7,\n",
       " 'also': 0,\n",
       " 'some': 6,\n",
       " 'random': 5,\n",
       " 'new': 2}"
      ]
     },
     "execution_count": 16,
     "metadata": {},
     "output_type": "execute_result"
    }
   ],
   "source": [
    "documents = [\n",
    "    \"This is a piece of text. This is also some random text. Also text.\",\n",
    "    \"This is a piece of text. This is also some random text. Also new text.\",\n",
    "]\n",
    "example_vectorizer.fit(documents)\n",
    "print(\"Vocabulary size:\", len(example_vectorizer.vocabulary_))\n",
    "example_vectorizer.vocabulary_"
   ]
  },
  {
   "cell_type": "code",
   "execution_count": 17,
   "metadata": {},
   "outputs": [
    {
     "name": "stdout",
     "output_type": "stream",
     "text": [
      "  (0, 0)\t2\n",
      "  (0, 1)\t2\n",
      "  (0, 3)\t1\n",
      "  (0, 4)\t1\n",
      "  (0, 5)\t1\n",
      "  (0, 6)\t1\n",
      "  (0, 7)\t3\n",
      "  (0, 8)\t2\n",
      "  (1, 0)\t2\n",
      "  (1, 1)\t2\n",
      "  (1, 2)\t1\n",
      "  (1, 3)\t1\n",
      "  (1, 4)\t1\n",
      "  (1, 5)\t1\n",
      "  (1, 6)\t1\n",
      "  (1, 7)\t3\n",
      "  (1, 8)\t2\n",
      "   ↑  ↑         ↑\n",
      "  doc word_id count\n"
     ]
    }
   ],
   "source": [
    "counts = example_vectorizer.transform(documents)\n",
    "print(counts)\n",
    "print(\"   ↑  ↑         ↑\\n  doc word_id count\")"
   ]
  },
  {
   "cell_type": "code",
   "execution_count": 18,
   "metadata": {},
   "outputs": [
    {
     "data": {
      "text/plain": [
       "array([[2, 2, 0, 1, 1, 1, 1, 3, 2],\n",
       "       [2, 2, 1, 1, 1, 1, 1, 3, 2]])"
      ]
     },
     "execution_count": 18,
     "metadata": {},
     "output_type": "execute_result"
    }
   ],
   "source": [
    "counts = example_vectorizer.transform(documents)\n",
    "counts.toarray()"
   ]
  },
  {
   "cell_type": "markdown",
   "metadata": {},
   "source": [
    "Apart from the fact that the vocabulary size is now bigger, just by looking at the document-term matrix we can easily spot that one of our documents has one word more than the other. Certainly, we can spot the difference at column 3 (2 in zero-index Python sequences), which corresponds to the new word introduced, `new`, in our vocabulary."
   ]
  },
  {
   "cell_type": "markdown",
   "metadata": {
    "colab_type": "text",
    "id": "ENE90ssduc-m"
   },
   "source": [
    "By now, you might have noticed that 1-letter words are being ignored. That's due to the way `CountVectorizer()` splits sentences into words. `CountVectorizer()` has options to customize this behaviour and it allows to specify your own regular expression to extract words, disregard stopwords, count ngrams instead of words, cap the max number of words to count, normalize spelling, or count terms within a frequency range. It is worth exploring the [documentation](http://scikit-learn.org/stable/modules/generated/sklearn.feature_extraction.text.CountVectorizer.html)."
   ]
  },
  {
   "cell_type": "markdown",
   "metadata": {
    "colab_type": "text",
    "id": "32OUeIINt7dz"
   },
   "source": [
    "Here, we have written up a temporary new regular expression that takes into account 1-letter words, so our `CountVectorizer()` can count 'a' as a vocabulary term. As such you can modify the regex to fix you needs."
   ]
  },
  {
   "cell_type": "code",
   "execution_count": 19,
   "metadata": {},
   "outputs": [
    {
     "data": {
      "text/plain": [
       "{'this': 9,\n",
       " 'is': 2,\n",
       " 'a': 0,\n",
       " 'piece': 5,\n",
       " 'of': 4,\n",
       " 'text': 8,\n",
       " 'also': 1,\n",
       " 'some': 7,\n",
       " 'random': 6,\n",
       " 'new': 3}"
      ]
     },
     "execution_count": 19,
     "metadata": {},
     "output_type": "execute_result"
    }
   ],
   "source": [
    "new_regex = r\"(?u)\\b\\w+\\b\"\n",
    "CountVectorizer(token_pattern=new_regex).fit(documents).vocabulary_"
   ]
  },
  {
   "cell_type": "markdown",
   "metadata": {
    "colab_type": "text",
    "id": "cS6G5hX01xqI"
   },
   "source": [
    "**Let's now play with three texts/documents in our corpus, taken from literature. ** \n",
    "\n",
    "We will use Moby Dick as our example corpus."
   ]
  },
  {
   "cell_type": "code",
   "execution_count": 22,
   "metadata": {
    "colab": {},
    "colab_type": "code",
    "id": "pYNxZSglgtBe"
   },
   "outputs": [],
   "source": [
    "from nltk.corpus import gutenberg  "
   ]
  },
  {
   "cell_type": "markdown",
   "metadata": {
    "colab_type": "text",
    "id": "FL7D-MtuAkXW"
   },
   "source": [
    "NOTE: gutenberg raw vs words, sents"
   ]
  },
  {
   "cell_type": "code",
   "execution_count": 23,
   "metadata": {
    "colab": {},
    "colab_type": "code",
    "id": "m7VkZdNT3MEH"
   },
   "outputs": [],
   "source": [
    "mobydick = gutenberg.raw('melville-moby_dick.txt')\n",
    "emma = gutenberg.raw('austen-emma.txt')\n",
    "parents = gutenberg.raw('edgeworth-parents.txt')"
   ]
  },
  {
   "cell_type": "code",
   "execution_count": 24,
   "metadata": {
    "colab": {},
    "colab_type": "code",
    "id": "EcA-dIKKwqH6"
   },
   "outputs": [],
   "source": [
    "corpus = [mobydick, emma, parents]"
   ]
  },
  {
   "cell_type": "code",
   "execution_count": 25,
   "metadata": {
    "colab": {
     "base_uri": "https://localhost:8080/",
     "height": 17051
    },
    "colab_type": "code",
    "id": "y5EJf7w_uRqV",
    "outputId": "d7892b5a-2fcb-423a-dd9f-80abdc3e19ed"
   },
   "outputs": [
    {
     "name": "stdout",
     "output_type": "stream",
     "text": [
      "Vocabulary size: 17110\n"
     ]
    },
    {
     "data": {
      "text/plain": [
       "{'moby': 9572,\n",
       " 'dick': 4213,\n",
       " 'by': 2167,\n",
       " 'herman': 7077,\n",
       " 'melville': 9363,\n",
       " '1851': 81,\n",
       " 'etymology': 5184,\n",
       " 'supplied': 14615,\n",
       " 'late': 8561,\n",
       " 'consumptive': 3280,\n",
       " 'usher': 16154,\n",
       " 'to': 15250,\n",
       " 'grammar': 6568,\n",
       " 'school': 12890,\n",
       " 'the': 15019,\n",
       " 'pale': 10535,\n",
       " 'threadbare': 15108,\n",
       " 'in': 7614,\n",
       " 'coat': 2868,\n",
       " 'heart': 6975,\n",
       " 'body': 1752,\n",
       " 'and': 666,\n",
       " 'brain': 1884,\n",
       " 'see': 13036,\n",
       " 'him': 7128,\n",
       " 'now': 10079,\n",
       " 'he': 6942,\n",
       " 'was': 16563,\n",
       " 'ever': 5209,\n",
       " 'dusting': 4710,\n",
       " 'his': 7148,\n",
       " 'old': 10246,\n",
       " 'lexicons': 8717,\n",
       " 'grammars': 6569,\n",
       " 'with': 16885,\n",
       " 'queer': 11819,\n",
       " 'handkerchief': 6818,\n",
       " 'mockingly': 9579,\n",
       " 'embellished': 4902,\n",
       " 'all': 541,\n",
       " 'gay': 6314,\n",
       " 'flags': 5784,\n",
       " 'of': 10212,\n",
       " 'known': 8447,\n",
       " 'nations': 9886,\n",
       " 'world': 16968,\n",
       " 'loved': 8956,\n",
       " 'dust': 4709,\n",
       " 'it': 8151,\n",
       " 'somehow': 13806,\n",
       " 'mildly': 9463,\n",
       " 'reminded': 12209,\n",
       " 'mortality': 9681,\n",
       " 'while': 16748,\n",
       " 'you': 17083,\n",
       " 'take': 14825,\n",
       " 'hand': 6810,\n",
       " 'others': 10364,\n",
       " 'teach': 14911,\n",
       " 'them': 15024,\n",
       " 'what': 16708,\n",
       " 'name': 9850,\n",
       " 'whale': 16688,\n",
       " 'fish': 5750,\n",
       " 'is': 8127,\n",
       " 'be': 1337,\n",
       " 'called': 2208,\n",
       " 'our': 10371,\n",
       " 'tongue': 15291,\n",
       " 'leaving': 8646,\n",
       " 'out': 10375,\n",
       " 'through': 15142,\n",
       " 'ignorance': 7470,\n",
       " 'letter': 8700,\n",
       " 'which': 16744,\n",
       " 'almost': 573,\n",
       " 'alone': 576,\n",
       " 'maketh': 9103,\n",
       " 'signification': 13424,\n",
       " 'word': 16955,\n",
       " 'deliver': 3994,\n",
       " 'that': 15017,\n",
       " 'not': 10054,\n",
       " 'true': 15541,\n",
       " 'hackluyt': 6761,\n",
       " 'sw': 14692,\n",
       " 'dan': 3797,\n",
       " 'hval': 7405,\n",
       " 'this': 15079,\n",
       " 'animal': 684,\n",
       " 'named': 9851,\n",
       " 'from': 6154,\n",
       " 'roundness': 12627,\n",
       " 'or': 10313,\n",
       " 'rolling': 12585,\n",
       " 'for': 5952,\n",
       " 'hvalt': 7406,\n",
       " 'arched': 849,\n",
       " 'vaulted': 16227,\n",
       " 'webster': 16643,\n",
       " 'dictionary': 4218,\n",
       " 'more': 9669,\n",
       " 'immediately': 7512,\n",
       " 'dut': 4712,\n",
       " 'ger': 6365,\n",
       " 'wallen': 16494,\n",
       " 'walw': 16506,\n",
       " 'ian': 7424,\n",
       " 'roll': 12582,\n",
       " 'wallow': 16497,\n",
       " 'richardson': 12475,\n",
       " 'ketos': 8365,\n",
       " 'greek': 6622,\n",
       " 'cetus': 2469,\n",
       " 'latin': 8569,\n",
       " 'whoel': 16793,\n",
       " 'anglo': 678,\n",
       " 'saxon': 12842,\n",
       " 'danish': 3808,\n",
       " 'wal': 16485,\n",
       " 'dutch': 4713,\n",
       " 'hwal': 7407,\n",
       " 'swedish': 14727,\n",
       " 'icelandic': 7433,\n",
       " 'english': 5007,\n",
       " 'baleine': 1201,\n",
       " 'french': 6106,\n",
       " 'ballena': 1209,\n",
       " 'spanish': 13880,\n",
       " 'pekee': 10766,\n",
       " 'nuee': 10086,\n",
       " 'fegee': 5619,\n",
       " 'erromangoan': 5134,\n",
       " 'extracts': 5408,\n",
       " 'sub': 14435,\n",
       " 'librarian': 8731,\n",
       " 'will': 16831,\n",
       " 'seen': 13049,\n",
       " 'mere': 9394,\n",
       " 'painstaking': 10522,\n",
       " 'burrower': 2127,\n",
       " 'grub': 6699,\n",
       " 'worm': 16971,\n",
       " 'poor': 11233,\n",
       " 'devil': 4179,\n",
       " 'appears': 791,\n",
       " 'have': 6925,\n",
       " 'gone': 6525,\n",
       " 'long': 8899,\n",
       " 'vaticans': 16224,\n",
       " 'street': 14341,\n",
       " 'stalls': 14120,\n",
       " 'earth': 4741,\n",
       " 'picking': 10957,\n",
       " 'up': 16115,\n",
       " 'whatever': 16709,\n",
       " 'random': 11932,\n",
       " 'allusions': 569,\n",
       " 'whales': 16698,\n",
       " 'could': 3459,\n",
       " 'anyways': 757,\n",
       " 'find': 5719,\n",
       " 'any': 751,\n",
       " 'book': 1785,\n",
       " 'whatsoever': 16710,\n",
       " 'sacred': 12714,\n",
       " 'profane': 11548,\n",
       " 'therefore': 15036,\n",
       " 'must': 9804,\n",
       " 'every': 5213,\n",
       " 'case': 2355,\n",
       " 'at': 1024,\n",
       " 'least': 8641,\n",
       " 'higgledy': 7112,\n",
       " 'piggledy': 10979,\n",
       " 'statements': 14166,\n",
       " 'however': 7321,\n",
       " 'authentic': 1089,\n",
       " 'these': 15042,\n",
       " 'veritable': 16273,\n",
       " 'gospel': 6542,\n",
       " 'cetology': 2468,\n",
       " 'far': 5513,\n",
       " 'as': 936,\n",
       " 'touching': 15349,\n",
       " 'ancient': 664,\n",
       " 'authors': 1097,\n",
       " 'generally': 6334,\n",
       " 'well': 16671,\n",
       " 'poets': 11175,\n",
       " 'here': 7067,\n",
       " 'appearing': 790,\n",
       " 'are': 861,\n",
       " 'solely': 13780,\n",
       " 'valuable': 16199,\n",
       " 'entertaining': 5063,\n",
       " 'affording': 430,\n",
       " 'glancing': 6430,\n",
       " 'bird': 1591,\n",
       " 'eye': 5421,\n",
       " 'view': 16332,\n",
       " 'has': 6893,\n",
       " 'been': 1404,\n",
       " 'promiscuously': 11590,\n",
       " 'said': 12736,\n",
       " 'thought': 15094,\n",
       " 'fancied': 5502,\n",
       " 'sung': 14568,\n",
       " 'leviathan': 8711,\n",
       " 'many': 9175,\n",
       " 'generations': 6336,\n",
       " 'including': 7654,\n",
       " 'own': 10477,\n",
       " 'so': 13730,\n",
       " 'fare': 5515,\n",
       " 'thee': 15021,\n",
       " 'whose': 16801,\n",
       " 'commentator': 2997,\n",
       " 'am': 599,\n",
       " 'thou': 15092,\n",
       " 'belongest': 1476,\n",
       " 'hopeless': 7257,\n",
       " 'sallow': 12760,\n",
       " 'tribe': 15490,\n",
       " 'no': 10004,\n",
       " 'wine': 16858,\n",
       " 'warm': 16540,\n",
       " 'whom': 16798,\n",
       " 'even': 5201,\n",
       " 'sherry': 13262,\n",
       " 'would': 16987,\n",
       " 'too': 15296,\n",
       " 'rosy': 12613,\n",
       " 'strong': 14380,\n",
       " 'but': 2147,\n",
       " 'one': 10269,\n",
       " 'sometimes': 13809,\n",
       " 'loves': 8962,\n",
       " 'sit': 13488,\n",
       " 'feel': 5612,\n",
       " 'devilish': 4180,\n",
       " 'grow': 6690,\n",
       " 'convivial': 3377,\n",
       " 'upon': 16127,\n",
       " 'tears': 14920,\n",
       " 'say': 12843,\n",
       " 'bluntly': 1722,\n",
       " 'full': 6181,\n",
       " 'eyes': 5427,\n",
       " 'empty': 4945,\n",
       " 'glasses': 6436,\n",
       " 'altogether': 597,\n",
       " 'unpleasant': 15970,\n",
       " 'sadness': 12724,\n",
       " 'give': 6415,\n",
       " 'subs': 14457,\n",
       " 'how': 7319,\n",
       " 'much': 9750,\n",
       " 'pains': 10521,\n",
       " 'ye': 17054,\n",
       " 'please': 11120,\n",
       " 'shall': 13195,\n",
       " 'go': 6496,\n",
       " 'thankless': 15014,\n",
       " 'clear': 2764,\n",
       " 'hampton': 6807,\n",
       " 'court': 3497,\n",
       " 'tuileries': 15574,\n",
       " 'gulp': 6731,\n",
       " 'down': 4552,\n",
       " 'your': 17088,\n",
       " 'hie': 7107,\n",
       " 'aloft': 575,\n",
       " 'royal': 12646,\n",
       " 'mast': 9250,\n",
       " 'hearts': 6984,\n",
       " 'friends': 6130,\n",
       " 'who': 16792,\n",
       " 'before': 1412,\n",
       " 'clearing': 2768,\n",
       " 'seven': 13155,\n",
       " 'storied': 14287,\n",
       " 'heavens': 6997,\n",
       " 'making': 9104,\n",
       " 'refugees': 12118,\n",
       " 'pampered': 10557,\n",
       " 'gabriel': 6230,\n",
       " 'michael': 9435,\n",
       " 'raphael': 11942,\n",
       " 'against': 456,\n",
       " 'coming': 2983,\n",
       " 'strike': 14359,\n",
       " 'splintered': 14002,\n",
       " 'together': 15262,\n",
       " 'there': 15033,\n",
       " 'unsplinterable': 16041,\n",
       " 'god': 6508,\n",
       " 'created': 3567,\n",
       " 'great': 6613,\n",
       " 'genesis': 6340,\n",
       " 'path': 10685,\n",
       " 'shine': 13274,\n",
       " 'after': 450,\n",
       " 'think': 15062,\n",
       " 'deep': 3933,\n",
       " 'hoary': 7173,\n",
       " 'job': 8241,\n",
       " 'lord': 8930,\n",
       " 'had': 6762,\n",
       " 'prepared': 11409,\n",
       " 'swallow': 14698,\n",
       " 'jonah': 8270,\n",
       " 'ships': 13285,\n",
       " 'hast': 6895,\n",
       " 'made': 9046,\n",
       " 'play': 11107,\n",
       " 'therein': 15037,\n",
       " 'psalms': 11696,\n",
       " 'day': 3853,\n",
       " 'sore': 13833,\n",
       " 'sword': 14763,\n",
       " 'punish': 11735,\n",
       " 'piercing': 10974,\n",
       " 'serpent': 13131,\n",
       " 'crooked': 3627,\n",
       " 'slay': 13570,\n",
       " 'dragon': 4570,\n",
       " 'sea': 12985,\n",
       " 'isaiah': 8129,\n",
       " 'thing': 15060,\n",
       " 'soever': 13755,\n",
       " 'besides': 1517,\n",
       " 'cometh': 2971,\n",
       " 'within': 16897,\n",
       " 'chaos': 2501,\n",
       " 'monster': 9634,\n",
       " 'mouth': 9728,\n",
       " 'beast': 1363,\n",
       " 'boat': 1738,\n",
       " 'stone': 14273,\n",
       " 'goes': 6513,\n",
       " 'incontinently': 7673,\n",
       " 'foul': 6054,\n",
       " 'perisheth': 10845,\n",
       " 'bottomless': 1824,\n",
       " 'gulf': 6726,\n",
       " 'paunch': 10699,\n",
       " 'holland': 7203,\n",
       " 'plutarch': 11163,\n",
       " 'morals': 9664,\n",
       " 'indian': 7710,\n",
       " 'breedeth': 1939,\n",
       " 'most': 9691,\n",
       " 'biggest': 1569,\n",
       " 'fishes': 5757,\n",
       " 'among': 621,\n",
       " 'whirlpooles': 16761,\n",
       " 'balaene': 1194,\n",
       " 'length': 8680,\n",
       " 'four': 6066,\n",
       " 'acres': 308,\n",
       " 'arpens': 898,\n",
       " 'land': 8504,\n",
       " 'pliny': 11137,\n",
       " 'scarcely': 12865,\n",
       " 'we': 16609,\n",
       " 'proceeded': 11524,\n",
       " 'two': 15644,\n",
       " 'days': 3856,\n",
       " 'on': 10267,\n",
       " 'when': 16722,\n",
       " 'about': 226,\n",
       " 'sunrise': 14574,\n",
       " 'other': 10363,\n",
       " 'monsters': 9635,\n",
       " 'appeared': 789,\n",
       " 'former': 6022,\n",
       " 'monstrous': 9636,\n",
       " 'size': 13503,\n",
       " 'came': 2221,\n",
       " 'towards': 15356,\n",
       " 'us': 16145,\n",
       " 'open': 10281,\n",
       " 'mouthed': 9729,\n",
       " 'raising': 11913,\n",
       " 'waves': 16597,\n",
       " 'sides': 13404,\n",
       " 'beating': 1369,\n",
       " 'into': 8030,\n",
       " 'foam': 5902,\n",
       " 'tooke': 15298,\n",
       " 'lucian': 8978,\n",
       " 'history': 7161,\n",
       " 'visited': 16388,\n",
       " 'country': 3484,\n",
       " 'also': 586,\n",
       " 'catching': 2389,\n",
       " 'horse': 7281,\n",
       " 'bones': 1779,\n",
       " 'very': 16292,\n",
       " 'value': 16200,\n",
       " 'their': 15022,\n",
       " 'teeth': 14930,\n",
       " 'brought': 2023,\n",
       " 'some': 13804,\n",
       " 'king': 8397,\n",
       " 'best': 1525,\n",
       " 'were': 16677,\n",
       " 'catched': 2386,\n",
       " 'forty': 6046,\n",
       " 'eight': 4828,\n",
       " 'fifty': 5697,\n",
       " 'yards': 17044,\n",
       " 'six': 13497,\n",
       " 'killed': 8380,\n",
       " 'sixty': 13502,\n",
       " 'octher': 10199,\n",
       " 'verbal': 16262,\n",
       " 'narrative': 9874,\n",
       " 'taken': 14826,\n",
       " 'alfred': 532,\n",
       " '890': 168,\n",
       " 'whereas': 16727,\n",
       " 'things': 15061,\n",
       " 'whether': 16739,\n",
       " 'vessel': 16294,\n",
       " 'enter': 5057,\n",
       " 'dreadful': 4595,\n",
       " 'lost': 8938,\n",
       " 'swallowed': 14699,\n",
       " 'gudgeon': 6710,\n",
       " 'retires': 12405,\n",
       " 'security': 13031,\n",
       " 'sleeps': 13582,\n",
       " 'montaigne': 9638,\n",
       " 'apology': 767,\n",
       " 'raimond': 11903,\n",
       " 'sebond': 13011,\n",
       " 'let': 8697,\n",
       " 'fly': 5897,\n",
       " 'nick': 9982,\n",
       " 'me': 9305,\n",
       " 'if': 7460,\n",
       " 'described': 4097,\n",
       " 'noble': 10006,\n",
       " 'prophet': 11620,\n",
       " 'moses': 9686,\n",
       " 'life': 8746,\n",
       " 'patient': 10687,\n",
       " 'rabelais': 11871,\n",
       " 'liver': 8843,\n",
       " 'cartloads': 2347,\n",
       " 'stowe': 14301,\n",
       " 'annals': 693,\n",
       " 'seas': 12999,\n",
       " 'seethe': 13052,\n",
       " 'like': 8768,\n",
       " 'boiling': 1757,\n",
       " 'pan': 10559,\n",
       " 'bacon': 1173,\n",
       " 'version': 16285,\n",
       " 'bulk': 2071,\n",
       " 'ork': 10345,\n",
       " 'received': 12028,\n",
       " 'nothing': 10062,\n",
       " 'certain': 2459,\n",
       " 'they': 15044,\n",
       " 'exceeding': 5254,\n",
       " 'fat': 5540,\n",
       " 'insomuch': 7906,\n",
       " 'an': 641,\n",
       " 'incredible': 7683,\n",
       " 'quantity': 11803,\n",
       " 'oil': 10239,\n",
       " 'extracted': 5406,\n",
       " 'ibid': 7425,\n",
       " 'death': 3877,\n",
       " 'sovereignest': 13863,\n",
       " 'parmacetti': 10614,\n",
       " 'inward': 8098,\n",
       " 'bruise': 2030,\n",
       " 'henry': 7056,\n",
       " 'hamlet': 6797,\n",
       " 'secure': 13026,\n",
       " 'skill': 13518,\n",
       " 'leach': 8608,\n",
       " 'art': 920,\n",
       " 'mote': 9693,\n",
       " 'availle': 1106,\n",
       " 'returne': 12416,\n",
       " 'againe': 455,\n",
       " 'wound': 16990,\n",
       " 'worker': 16961,\n",
       " 'lowly': 8974,\n",
       " 'dart': 3829,\n",
       " 'dinting': 4271,\n",
       " 'breast': 1923,\n",
       " 'bred': 1936,\n",
       " 'restless': 12374,\n",
       " 'paine': 10516,\n",
       " 'wounded': 16991,\n",
       " 'shore': 13318,\n",
       " 'flies': 5838,\n",
       " 'thro': 15127,\n",
       " 'maine': 9086,\n",
       " 'faerie': 5456,\n",
       " 'queen': 11815,\n",
       " 'immense': 7515,\n",
       " 'motion': 9698,\n",
       " 'vast': 16221,\n",
       " 'bodies': 1748,\n",
       " 'can': 2226,\n",
       " 'peaceful': 10720,\n",
       " 'calm': 2213,\n",
       " 'trouble': 15529,\n",
       " 'ocean': 10193,\n",
       " 'til': 15196,\n",
       " 'boil': 1754,\n",
       " 'sir': 13481,\n",
       " 'william': 16834,\n",
       " 'davenant': 3847,\n",
       " 'preface': 11383,\n",
       " 'gondibert': 6524,\n",
       " 'spermacetti': 13942,\n",
       " 'men': 9372,\n",
       " 'might': 9451,\n",
       " 'justly': 8336,\n",
       " 'doubt': 4543,\n",
       " 'since': 13456,\n",
       " 'learned': 8636,\n",
       " 'hosmannus': 7287,\n",
       " 'work': 16959,\n",
       " 'thirty': 15078,\n",
       " 'years': 17058,\n",
       " 'saith': 12748,\n",
       " 'plainly': 11068,\n",
       " 'nescio': 9956,\n",
       " 'quid': 11838,\n",
       " 'browne': 2027,\n",
       " 'sperma': 13940,\n",
       " 'ceti': 2466,\n",
       " 'vide': 16330,\n",
       " 'spencer': 13935,\n",
       " 'talus': 14846,\n",
       " 'modern': 9587,\n",
       " 'flail': 5785,\n",
       " 'threatens': 15115,\n",
       " 'ruin': 12669,\n",
       " 'ponderous': 11225,\n",
       " 'tail': 14821,\n",
       " 'fixed': 5777,\n",
       " 'jav': 8188,\n",
       " 'lins': 8808,\n",
       " 'side': 13399,\n",
       " 'wears': 16631,\n",
       " 'back': 1159,\n",
       " 'grove': 6688,\n",
       " 'pikes': 10981,\n",
       " 'waller': 16495,\n",
       " 'battle': 1326,\n",
       " 'summer': 14555,\n",
       " 'islands': 8134,\n",
       " 'commonwealth': 3013,\n",
       " 'state': 14161,\n",
       " 'civitas': 2721,\n",
       " 'artificial': 928,\n",
       " 'man': 9126,\n",
       " 'opening': 10283,\n",
       " 'sentence': 13102,\n",
       " 'hobbes': 7175,\n",
       " 'silly': 13439,\n",
       " 'mansoul': 9168,\n",
       " 'without': 16898,\n",
       " 'chewing': 2591,\n",
       " 'sprat': 14046,\n",
       " 'pilgrim': 10987,\n",
       " 'progress': 11575,\n",
       " 'works': 16967,\n",
       " 'hugest': 7337,\n",
       " 'swim': 14750,\n",
       " 'stream': 14336,\n",
       " 'paradise': 10590,\n",
       " 'living': 8848,\n",
       " 'creatures': 3575,\n",
       " 'stretched': 14348,\n",
       " 'promontory': 11597,\n",
       " 'swims': 14753,\n",
       " 'seems': 13048,\n",
       " 'moving': 9740,\n",
       " 'gills': 6401,\n",
       " 'draws': 4592,\n",
       " 'breath': 1927,\n",
       " 'spouts': 14040,\n",
       " 'mighty': 9456,\n",
       " 'water': 16585,\n",
       " 'swimming': 14752,\n",
       " 'fulller': 6185,\n",
       " 'holy': 7211,\n",
       " 'close': 2814,\n",
       " 'behind': 1439,\n",
       " 'lie': 8740,\n",
       " 'huge': 7334,\n",
       " 'attend': 1052,\n",
       " 'prey': 11469,\n",
       " 'chance': 2489,\n",
       " 'fry': 6174,\n",
       " 'gaping': 6279,\n",
       " 'jaws': 8195,\n",
       " 'mistake': 9549,\n",
       " 'way': 16606,\n",
       " 'dryden': 4665,\n",
       " 'annus': 707,\n",
       " 'mirabilis': 9506,\n",
       " 'floating': 5854,\n",
       " 'stern': 14225,\n",
       " 'ship': 13279,\n",
       " 'cut': 3743,\n",
       " 'off': 10213,\n",
       " 'head': 6943,\n",
       " 'tow': 15355,\n",
       " 'near': 9910,\n",
       " 'come': 2965,\n",
       " 'aground': 486,\n",
       " 'twelve': 15620,\n",
       " 'thirteen': 15076,\n",
       " 'feet': 5618,\n",
       " 'thomas': 15085,\n",
       " 'edge': 4790,\n",
       " 'ten': 14953,\n",
       " 'voyages': 16440,\n",
       " 'spitzbergen': 13993,\n",
       " 'purchas': 11739,\n",
       " 'saw': 12838,\n",
       " 'sporting': 14021,\n",
       " 'wantonness': 16527,\n",
       " 'fuzzing': 6227,\n",
       " 'pipes': 11017,\n",
       " 'vents': 16257,\n",
       " 'nature': 9895,\n",
       " 'placed': 11053,\n",
       " 'shoulders': 13332,\n",
       " 'herbert': 7060,\n",
       " 'asia': 952,\n",
       " 'africa': 446,\n",
       " 'harris': 6884,\n",
       " 'coll': 2921,\n",
       " 'such': 14504,\n",
       " 'troops': 15521,\n",
       " 'forced': 5963,\n",
       " 'proceed': 11523,\n",
       " 'deal': 3872,\n",
       " 'caution': 2409,\n",
       " 'fear': 5571,\n",
       " 'should': 13328,\n",
       " 'run': 12688,\n",
       " 'schouten': 12897,\n",
       " 'sixth': 13501,\n",
       " 'circumnavigation': 2692,\n",
       " 'set': 13143,\n",
       " 'sail': 12737,\n",
       " 'elbe': 4844,\n",
       " 'wind': 16846,\n",
       " 'jonas': 8271,\n",
       " 'fable': 5431,\n",
       " 'frequently': 6116,\n",
       " 'climb': 2793,\n",
       " 'masts': 9263,\n",
       " 'first': 5749,\n",
       " 'discoverer': 4325,\n",
       " 'ducat': 4668,\n",
       " 'told': 15274,\n",
       " 'shetland': 13263,\n",
       " 'above': 227,\n",
       " 'barrel': 1281,\n",
       " 'herrings': 7091,\n",
       " 'belly': 1473,\n",
       " 'harpooneers': 6879,\n",
       " 'caught': 2401,\n",
       " 'once': 10268,\n",
       " 'white': 16778,\n",
       " 'over': 10418,\n",
       " 'voyage': 16436,\n",
       " 'greenland': 6628,\n",
       " '1671': 50,\n",
       " 'several': 13159,\n",
       " 'coast': 2865,\n",
       " 'fife': 5692,\n",
       " 'anno': 699,\n",
       " '1652': 48,\n",
       " 'eighty': 4831,\n",
       " 'bone': 1777,\n",
       " 'kind': 8387,\n",
       " 'informed': 7818,\n",
       " 'did': 4219,\n",
       " 'afford': 428,\n",
       " '500': 125,\n",
       " 'weight': 16664,\n",
       " 'baleen': 1199,\n",
       " 'stand': 14129,\n",
       " 'gate': 6302,\n",
       " 'garden': 6280,\n",
       " 'pitferren': 11041,\n",
       " 'sibbald': 13391,\n",
       " 'kinross': 8403,\n",
       " 'myself': 9831,\n",
       " 'agreed': 484,\n",
       " 'try': 15557,\n",
       " 'master': 9252,\n",
       " 'kill': 8379,\n",
       " 'never': 9967,\n",
       " 'hear': 6965,\n",
       " 'sort': 13839,\n",
       " 'fierceness': 5689,\n",
       " 'swiftness': 14749,\n",
       " 'richard': 12474,\n",
       " 'strafford': 14305,\n",
       " 'bermudas': 1508,\n",
       " 'phil': 10918,\n",
       " 'trans': 15410,\n",
       " '1668': 49,\n",
       " 'voice': 16407,\n",
       " 'obey': 10123,\n",
       " 'primer': 11481,\n",
       " 'abundance': 248,\n",
       " 'large': 8539,\n",
       " 'being': 1447,\n",
       " 'those': 15091,\n",
       " 'southern': 13858,\n",
       " 'may': 9293,\n",
       " 'hundred': 7370,\n",
       " 'than': 15011,\n",
       " 'northward': 10042,\n",
       " 'captain': 2291,\n",
       " 'cowley': 3517,\n",
       " 'round': 12620,\n",
       " 'globe': 6466,\n",
       " '1729': 56,\n",
       " 'frequendy': 6113,\n",
       " 'attended': 1055,\n",
       " 'insupportable': 7934,\n",
       " 'smell': 13658,\n",
       " 'bring': 1990,\n",
       " 'disorder': 4382,\n",
       " 'ulloa': 15664,\n",
       " 'south': 13856,\n",
       " 'america': 614,\n",
       " 'chosen': 2639,\n",
       " 'sylphs': 14773,\n",
       " 'special': 13904,\n",
       " 'note': 10058,\n",
       " 'trust': 15551,\n",
       " 'important': 7575,\n",
       " 'charge': 2518,\n",
       " 'petticoat': 10906,\n",
       " 'oft': 10232,\n",
       " 'fold': 5920,\n",
       " 'fence': 5636,\n",
       " 'fail': 5459,\n",
       " 'tho': 15083,\n",
       " 'stuffed': 14415,\n",
       " 'hoops': 7248,\n",
       " 'armed': 886,\n",
       " 'ribs': 12472,\n",
       " 'rape': 11941,\n",
       " 'lock': 8869,\n",
       " 'compare': 3039,\n",
       " 'animals': 685,\n",
       " 'respect': 12351,\n",
       " 'magnitude': 9074,\n",
       " 'abode': 212,\n",
       " 'appear': 786,\n",
       " 'contemptible': 3291,\n",
       " 'comparison': 3042,\n",
       " 'doubtless': 4546,\n",
       " 'largest': 8543,\n",
       " 'creation': 3570,\n",
       " 'goldsmith': 6522,\n",
       " 'nat': 9881,\n",
       " 'hist': 7154,\n",
       " 'write': 17026,\n",
       " 'little': 8833,\n",
       " 'make': 9099,\n",
       " 'speak': 13896,\n",
       " 'wales': 16486,\n",
       " 'johnson': 8250,\n",
       " 'afternoon': 451,\n",
       " 'supposed': 14622,\n",
       " 'rock': 12566,\n",
       " 'found': 6056,\n",
       " 'dead': 3862,\n",
       " 'asiatics': 954,\n",
       " 'then': 15027,\n",
       " 'towing': 15361,\n",
       " 'ashore': 951,\n",
       " 'seemed': 13044,\n",
       " 'endeavor': 4973,\n",
       " 'conceal': 3099,\n",
       " 'themselves': 15026,\n",
       " 'order': 10322,\n",
       " 'avoid': 1118,\n",
       " 'cook': 3381,\n",
       " 'larger': 8542,\n",
       " 'seldom': 13065,\n",
       " 'venture': 16258,\n",
       " 'attack': 1040,\n",
       " 'dread': 4593,\n",
       " 'afraid': 443,\n",
       " 'mention': 9382,\n",
       " 'names': 9855,\n",
       " 'carry': 2340,\n",
       " 'dung': 4693,\n",
       " 'lime': 8784,\n",
       " 'juniper': 8322,\n",
       " 'wood': 16940,\n",
       " 'articles': 926,\n",
       " 'same': 12774,\n",
       " 'boats': 1741,\n",
       " 'terrify': 14988,\n",
       " 'prevent': 11463,\n",
       " 'approach': 817,\n",
       " 'uno': 15957,\n",
       " 'von': 16425,\n",
       " 'troil': 15519,\n",
       " 'letters': 8702,\n",
       " 'banks': 1238,\n",
       " 'solander': 13773,\n",
       " 'iceland': 7432,\n",
       " '1772': 58,\n",
       " 'nantuckois': 9859,\n",
       " 'active': 317,\n",
       " 'fierce': 5687,\n",
       " 'requires': 12306,\n",
       " 'address': 335,\n",
       " 'boldness': 1764,\n",
       " 'fishermen': 5754,\n",
       " 'jefferson': 8203,\n",
       " 'memorial': 9369,\n",
       " 'minister': 9497,\n",
       " '1778': 61,\n",
       " 'pray': 11346,\n",
       " 'equal': 5106,\n",
       " 'edmund': 4798,\n",
       " 'burke': 2117,\n",
       " 'reference': 12104,\n",
       " 'parliament': 10610,\n",
       " 'nantucket': 9856,\n",
       " 'fishery': 5756,\n",
       " 'spain': 13873,\n",
       " 'stranded': 14318,\n",
       " 'shores': 13321,\n",
       " 'europe': 5190,\n",
       " 'somewhere': 13811,\n",
       " 'tenth': 14972,\n",
       " 'branch': 1888,\n",
       " 'ordinary': 10328,\n",
       " 'revenue': 12432,\n",
       " 'grounded': 6683,\n",
       " 'consideration': 3235,\n",
       " 'guarding': 6709,\n",
       " 'protecting': 11647,\n",
       " 'pirates': 11021,\n",
       " 'robbers': 12559,\n",
       " 'right': 12500,\n",
       " 'sturgeon': 14431,\n",
       " 'either': 4832,\n",
       " 'thrown': 15146,\n",
       " 'property': 11614,\n",
       " 'blackstone': 1626,\n",
       " 'soon': 13820,\n",
       " 'sport': 14019,\n",
       " 'crews': 3598,\n",
       " 'repair': 12248,\n",
       " 'rodmond': 12576,\n",
       " 'unerring': 15821,\n",
       " 'er': 5118,\n",
       " 'suspends': 14681,\n",
       " 'barbed': 1264,\n",
       " 'steel': 14204,\n",
       " 'turn': 15602,\n",
       " 'attends': 1057,\n",
       " 'falconer': 5478,\n",
       " 'shipwreck': 13286,\n",
       " 'bright': 1973,\n",
       " 'shone': 13310,\n",
       " 'roofs': 12598,\n",
       " 'domes': 4510,\n",
       " 'spires': 13986,\n",
       " 'rockets': 12570,\n",
       " 'blew': 1675,\n",
       " 'self': 13071,\n",
       " 'driven': 4629,\n",
       " 'hang': 6828,\n",
       " 'momentary': 9609,\n",
       " 'fire': 5733,\n",
       " 'around': 897,\n",
       " 'vault': 16226,\n",
       " 'heaven': 6995,\n",
       " 'serves': 13139,\n",
       " 'high': 7113,\n",
       " 'spouted': 14034,\n",
       " 'air': 503,\n",
       " 'express': 5377,\n",
       " 'unwieldy': 16101,\n",
       " 'joy': 8285,\n",
       " 'cowper': 3518,\n",
       " 'visit': 16384,\n",
       " 'london': 8893,\n",
       " 'fifteen': 5693,\n",
       " 'gallons': 6258,\n",
       " 'blood': 1696,\n",
       " 'stroke': 14376,\n",
       " 'velocity': 16241,\n",
       " 'john': 8248,\n",
       " 'hunter': 7379,\n",
       " 'account': 278,\n",
       " 'dissection': 4411,\n",
       " 'small': 13651,\n",
       " 'sized': 13504,\n",
       " 'aorta': 759,\n",
       " 'bore': 1804,\n",
       " 'main': 9085,\n",
       " 'pipe': 11016,\n",
       " 'bridge': 1964,\n",
       " 'roaring': 12554,\n",
       " 'its': 8157,\n",
       " 'passage': 10648,\n",
       " 'inferior': 7790,\n",
       " 'impetus': 7564,\n",
       " 'gushing': 6744,\n",
       " 'paley': 10539,\n",
       " 'theology': 15030,\n",
       " 'mammiferous': 9123,\n",
       " 'hind': 7132,\n",
       " 'baron': 1277,\n",
       " 'cuvier': 3752,\n",
       " '40': 111,\n",
       " 'degrees': 3966,\n",
       " 'till': 15200,\n",
       " 'covered': 3507,\n",
       " 'colnett': 2938,\n",
       " 'purpose': 11751,\n",
       " 'extending': 5389,\n",
       " 'spermaceti': 13941,\n",
       " 'free': 6094,\n",
       " 'element': 4856,\n",
       " 'beneath': 1491,\n",
       " 'swam': 14701,\n",
       " 'floundered': 5866,\n",
       " 'dived': 4454,\n",
       " 'chace': 2471,\n",
       " 'colour': 2946,\n",
       " 'form': 6016,\n",
       " 'language': 8519,\n",
       " 'cannot': 2254,\n",
       " 'paint': 10523,\n",
       " 'mariner': 9194,\n",
       " 'insect': 7887,\n",
       " 'millions': 9479,\n",
       " 'peopling': 10798,\n",
       " 'wave': 16595,\n",
       " 'gather': 6306,\n",
       " 'shoals': 13300,\n",
       " 'led': 8650,\n",
       " 'mysterious': 9833,\n",
       " 'instincts': 7922,\n",
       " 'waste': 16572,\n",
       " 'trackless': 15375,\n",
       " 'region': 12137,\n",
       " 'though': 15093,\n",
       " 'assaulted': 979,\n",
       " 'voracious': 16426,\n",
       " 'enemies': 4990,\n",
       " 'sharks': 13218,\n",
       " 'arm': 884,\n",
       " 'front': 6155,\n",
       " 'jaw': 8193,\n",
       " 'swords': 14764,\n",
       " 'saws': 12841,\n",
       " 'spiral': 13977,\n",
       " 'horns': 7271,\n",
       " 'hooked': 7243,\n",
       " 'fangs': 5509,\n",
       " 'montgomery': 9639,\n",
       " 'flood': 5861,\n",
       " 'io': 8101,\n",
       " 'paean': 10506,\n",
       " 'sing': 13464,\n",
       " 'finny': 5731,\n",
       " 'people': 10796,\n",
       " 'mightier': 9453,\n",
       " 'atlantic': 1031,\n",
       " 'fatter': 5559,\n",
       " 'flounders': 5868,\n",
       " 'polar': 11192,\n",
       " 'charles': 2529,\n",
       " 'lamb': 8494,\n",
       " 'triumph': 15510,\n",
       " 'year': 17056,\n",
       " '1690': 51,\n",
       " 'persons': 10876,\n",
       " ...}"
      ]
     },
     "execution_count": 25,
     "metadata": {},
     "output_type": "execute_result"
    }
   ],
   "source": [
    "count_vectorizer = CountVectorizer()\n",
    "count_vectorizer.fit([mobydick])\n",
    "print(\"Vocabulary size:\", len(count_vectorizer.vocabulary_))\n",
    "count_vectorizer.vocabulary_"
   ]
  },
  {
   "cell_type": "markdown",
   "metadata": {
    "colab_type": "text",
    "id": "eXyZJUDquWql"
   },
   "source": [
    "Noticed something missing? Take a look at the parameter [`token_pattern` of `CountVectorizer()`](http://scikit-learn.org/stable/modules/generated/sklearn.feature_extraction.text.CountVectorizer.html). The way a chunk of text is divided up in sentences and then in words is dependent upon our definitions of sentence and word boundaries. The process of splitting a text in words is usually known as **tokenization**. While the most simple *tokenizers* would split sentences on dots and words on spaces, these rules don't always take into account all cases (e.g, \"Dr. Evil is not that bad.\" would be split in two sentences, \"Dr\" and \"Evil is not that bad\"). For this reason, more complex rules can be set using [regular expressions](https://en.wikipedia.org/wiki/Regular_expression) and then passed in to `CountVectorizer()` via the `token_pattern` parameter.\n"
   ]
  },
  {
   "cell_type": "code",
   "execution_count": 26,
   "metadata": {
    "colab": {},
    "colab_type": "code",
    "id": "HCMxmyxHtu71"
   },
   "outputs": [],
   "source": [
    "new_regex = r\"(?u)\\b\\w+\\b\""
   ]
  },
  {
   "cell_type": "markdown",
   "metadata": {
    "colab_type": "text",
    "id": "crBX_tPdBLFu"
   },
   "source": [
    "NOTE no numbers regex"
   ]
  },
  {
   "cell_type": "markdown",
   "metadata": {
    "colab_type": "text",
    "id": "A56AU9FF9nZt"
   },
   "source": [
    "NOTE for tokenized corpora:  you need to pass in extra parameters to count vectorize\n",
    "\n",
    "\n",
    "analyzer='word', tokenizer=lambda x: x"
   ]
  },
  {
   "cell_type": "markdown",
   "metadata": {
    "colab_type": "text",
    "id": "Kha_OLYwuUlo"
   },
   "source": [
    "To get the ID of a given vocab term:"
   ]
  },
  {
   "cell_type": "code",
   "execution_count": 27,
   "metadata": {
    "colab": {
     "base_uri": "https://localhost:8080/",
     "height": 17051
    },
    "colab_type": "code",
    "id": "DUodFcPfyPJI",
    "outputId": "fb94666b-e0ea-498c-e92b-98df9c770250"
   },
   "outputs": [
    {
     "name": "stdout",
     "output_type": "stream",
     "text": [
      "Vocabulary size: 17140\n"
     ]
    },
    {
     "data": {
      "text/plain": [
       "{'moby': 9592,\n",
       " 'dick': 4225,\n",
       " 'by': 2177,\n",
       " 'herman': 7093,\n",
       " 'melville': 9383,\n",
       " '1851': 82,\n",
       " 'etymology': 5197,\n",
       " 'supplied': 14639,\n",
       " 'a': 189,\n",
       " 'late': 8580,\n",
       " 'consumptive': 3291,\n",
       " 'usher': 16180,\n",
       " 'to': 15275,\n",
       " 'grammar': 6583,\n",
       " 'school': 12914,\n",
       " 'the': 15044,\n",
       " 'pale': 10558,\n",
       " 'threadbare': 15133,\n",
       " 'in': 7631,\n",
       " 'coat': 2879,\n",
       " 'heart': 6991,\n",
       " 'body': 1762,\n",
       " 'and': 676,\n",
       " 'brain': 1894,\n",
       " 'i': 7440,\n",
       " 'see': 13060,\n",
       " 'him': 7144,\n",
       " 'now': 10100,\n",
       " 'he': 6958,\n",
       " 'was': 16591,\n",
       " 'ever': 5222,\n",
       " 'dusting': 4722,\n",
       " 'his': 7164,\n",
       " 'old': 10268,\n",
       " 'lexicons': 8736,\n",
       " 'grammars': 6584,\n",
       " 'with': 16913,\n",
       " 'queer': 11842,\n",
       " 'handkerchief': 6834,\n",
       " 'mockingly': 9599,\n",
       " 'embellished': 4915,\n",
       " 'all': 551,\n",
       " 'gay': 6329,\n",
       " 'flags': 5798,\n",
       " 'of': 10234,\n",
       " 'known': 8465,\n",
       " 'nations': 9907,\n",
       " 'world': 16996,\n",
       " 'loved': 8975,\n",
       " 'dust': 4721,\n",
       " 'it': 8168,\n",
       " 'somehow': 13830,\n",
       " 'mildly': 9483,\n",
       " 'reminded': 12232,\n",
       " 'mortality': 9701,\n",
       " 'while': 16776,\n",
       " 'you': 17113,\n",
       " 'take': 14850,\n",
       " 'hand': 6826,\n",
       " 'others': 10386,\n",
       " 'teach': 14936,\n",
       " 'them': 15049,\n",
       " 'what': 16736,\n",
       " 'name': 9871,\n",
       " 'whale': 16716,\n",
       " 'fish': 5764,\n",
       " 'is': 8144,\n",
       " 'be': 1347,\n",
       " 'called': 2219,\n",
       " 'our': 10393,\n",
       " 'tongue': 15316,\n",
       " 'leaving': 8665,\n",
       " 'out': 10397,\n",
       " 'through': 15167,\n",
       " 'ignorance': 7487,\n",
       " 'letter': 8719,\n",
       " 'h': 6761,\n",
       " 'which': 16772,\n",
       " 'almost': 583,\n",
       " 'alone': 586,\n",
       " 'maketh': 9123,\n",
       " 'signification': 13448,\n",
       " 'word': 16983,\n",
       " 'deliver': 4006,\n",
       " 'that': 15042,\n",
       " 'not': 10075,\n",
       " 'true': 15566,\n",
       " 'hackluyt': 6777,\n",
       " 'sw': 14716,\n",
       " 'dan': 3809,\n",
       " 'hval': 7421,\n",
       " 'this': 15104,\n",
       " 'animal': 694,\n",
       " 'named': 9872,\n",
       " 'from': 6168,\n",
       " 'roundness': 12650,\n",
       " 'or': 10335,\n",
       " 'rolling': 12608,\n",
       " 'for': 5966,\n",
       " 'hvalt': 7422,\n",
       " 'arched': 859,\n",
       " 'vaulted': 16254,\n",
       " 'webster': 16671,\n",
       " 's': 12730,\n",
       " 'dictionary': 4230,\n",
       " 'more': 9689,\n",
       " 'immediately': 7529,\n",
       " 'dut': 4724,\n",
       " 'ger': 6380,\n",
       " 'wallen': 16522,\n",
       " 'walw': 16534,\n",
       " 'ian': 7441,\n",
       " 'roll': 12605,\n",
       " 'wallow': 16525,\n",
       " 'richardson': 12498,\n",
       " 'ketos': 8383,\n",
       " 'greek': 6637,\n",
       " 'cetus': 2480,\n",
       " 'latin': 8588,\n",
       " 'whoel': 16821,\n",
       " 'anglo': 688,\n",
       " 'saxon': 12866,\n",
       " 'danish': 3820,\n",
       " 'wal': 16513,\n",
       " 'dutch': 4725,\n",
       " 'hwal': 7423,\n",
       " 'swedish': 14751,\n",
       " 'icelandic': 7450,\n",
       " 'english': 5020,\n",
       " 'baleine': 1211,\n",
       " 'french': 6120,\n",
       " 'ballena': 1219,\n",
       " 'spanish': 13904,\n",
       " 'pekee': 10789,\n",
       " 'nuee': 10107,\n",
       " 'fegee': 5633,\n",
       " 'erromangoan': 5147,\n",
       " 'extracts': 5421,\n",
       " 'sub': 14459,\n",
       " 'librarian': 8750,\n",
       " 'will': 16859,\n",
       " 'seen': 13073,\n",
       " 'mere': 9414,\n",
       " 'painstaking': 10545,\n",
       " 'burrower': 2137,\n",
       " 'grub': 6714,\n",
       " 'worm': 16999,\n",
       " 'poor': 11256,\n",
       " 'devil': 4191,\n",
       " 'appears': 801,\n",
       " 'have': 6941,\n",
       " 'gone': 6540,\n",
       " 'long': 8918,\n",
       " 'vaticans': 16251,\n",
       " 'street': 14365,\n",
       " 'stalls': 14144,\n",
       " 'earth': 4754,\n",
       " 'picking': 10980,\n",
       " 'up': 16141,\n",
       " 'whatever': 16737,\n",
       " 'random': 11955,\n",
       " 'allusions': 579,\n",
       " 'whales': 16726,\n",
       " 'could': 3470,\n",
       " 'anyways': 767,\n",
       " 'find': 5733,\n",
       " 'any': 761,\n",
       " 'book': 1795,\n",
       " 'whatsoever': 16738,\n",
       " 'sacred': 12738,\n",
       " 'profane': 11571,\n",
       " 'therefore': 15061,\n",
       " 'must': 9824,\n",
       " 'every': 5226,\n",
       " 'case': 2366,\n",
       " 'at': 1034,\n",
       " 'least': 8660,\n",
       " 'higgledy': 7128,\n",
       " 'piggledy': 11002,\n",
       " 'statements': 14190,\n",
       " 'however': 7337,\n",
       " 'authentic': 1099,\n",
       " 'these': 15067,\n",
       " 'veritable': 16300,\n",
       " 'gospel': 6557,\n",
       " 'cetology': 2479,\n",
       " 'far': 5527,\n",
       " 'as': 946,\n",
       " 'touching': 15374,\n",
       " 'ancient': 674,\n",
       " 'authors': 1107,\n",
       " 'generally': 6349,\n",
       " 'well': 16699,\n",
       " 'poets': 11198,\n",
       " 'here': 7083,\n",
       " 'appearing': 800,\n",
       " 'are': 871,\n",
       " 'solely': 13804,\n",
       " 'valuable': 16226,\n",
       " 'entertaining': 5076,\n",
       " 'affording': 440,\n",
       " 'glancing': 6445,\n",
       " 'bird': 1601,\n",
       " 'eye': 5434,\n",
       " 'view': 16359,\n",
       " 'has': 6909,\n",
       " 'been': 1414,\n",
       " 'promiscuously': 11613,\n",
       " 'said': 12760,\n",
       " 'thought': 15119,\n",
       " 'fancied': 5516,\n",
       " 'sung': 14592,\n",
       " 'leviathan': 8730,\n",
       " 'many': 9195,\n",
       " 'generations': 6351,\n",
       " 'including': 7671,\n",
       " 'own': 10499,\n",
       " 'so': 13754,\n",
       " 'fare': 5529,\n",
       " 'thee': 15046,\n",
       " 'whose': 16829,\n",
       " 'commentator': 3008,\n",
       " 'am': 609,\n",
       " 'thou': 15117,\n",
       " 'belongest': 1486,\n",
       " 'hopeless': 7273,\n",
       " 'sallow': 12784,\n",
       " 'tribe': 15515,\n",
       " 'no': 10025,\n",
       " 'wine': 16886,\n",
       " 'warm': 16568,\n",
       " 'whom': 16826,\n",
       " 'even': 5214,\n",
       " 'sherry': 13286,\n",
       " 'would': 17015,\n",
       " 'too': 15321,\n",
       " 'rosy': 12636,\n",
       " 'strong': 14404,\n",
       " 'but': 2157,\n",
       " 'one': 10291,\n",
       " 'sometimes': 13833,\n",
       " 'loves': 8981,\n",
       " 'sit': 13512,\n",
       " 'feel': 5626,\n",
       " 'devilish': 4192,\n",
       " 'grow': 6705,\n",
       " 'convivial': 3388,\n",
       " 'upon': 16153,\n",
       " 'tears': 14945,\n",
       " 'say': 12867,\n",
       " 'bluntly': 1732,\n",
       " 'full': 6195,\n",
       " 'eyes': 5440,\n",
       " 'empty': 4958,\n",
       " 'glasses': 6451,\n",
       " 'altogether': 607,\n",
       " 'unpleasant': 15996,\n",
       " 'sadness': 12748,\n",
       " 'give': 6430,\n",
       " 'subs': 14481,\n",
       " 'how': 7335,\n",
       " 'much': 9770,\n",
       " 'pains': 10544,\n",
       " 'ye': 17084,\n",
       " 'please': 11143,\n",
       " 'shall': 13219,\n",
       " 'go': 6511,\n",
       " 'thankless': 15039,\n",
       " 'clear': 2775,\n",
       " 'hampton': 6823,\n",
       " 'court': 3508,\n",
       " 'tuileries': 15599,\n",
       " 'gulp': 6746,\n",
       " 'down': 4564,\n",
       " 'your': 17118,\n",
       " 'hie': 7123,\n",
       " 'aloft': 585,\n",
       " 'royal': 12669,\n",
       " 'mast': 9270,\n",
       " 'hearts': 7000,\n",
       " 'friends': 6144,\n",
       " 'who': 16820,\n",
       " 'before': 1422,\n",
       " 'clearing': 2779,\n",
       " 'seven': 13179,\n",
       " 'storied': 14311,\n",
       " 'heavens': 7013,\n",
       " 'making': 9124,\n",
       " 'refugees': 12141,\n",
       " 'pampered': 10580,\n",
       " 'gabriel': 6245,\n",
       " 'michael': 9455,\n",
       " 'raphael': 11965,\n",
       " 'against': 466,\n",
       " 'coming': 2994,\n",
       " 'strike': 14383,\n",
       " 'splintered': 14026,\n",
       " 'together': 15287,\n",
       " 'there': 15058,\n",
       " 'unsplinterable': 16067,\n",
       " 'god': 6523,\n",
       " 'created': 3578,\n",
       " 'great': 6628,\n",
       " 'genesis': 6355,\n",
       " 'path': 10708,\n",
       " 'shine': 13298,\n",
       " 'after': 460,\n",
       " 'think': 15087,\n",
       " 'deep': 3945,\n",
       " 'hoary': 7189,\n",
       " 'job': 8259,\n",
       " 'lord': 8949,\n",
       " 'had': 6778,\n",
       " 'prepared': 11432,\n",
       " 'swallow': 14722,\n",
       " 'jonah': 8288,\n",
       " 'ships': 13309,\n",
       " 'hast': 6911,\n",
       " 'made': 9066,\n",
       " 'play': 11130,\n",
       " 'therein': 15062,\n",
       " 'psalms': 11719,\n",
       " 'day': 3865,\n",
       " 'sore': 13857,\n",
       " 'sword': 14787,\n",
       " 'punish': 11758,\n",
       " 'piercing': 10997,\n",
       " 'serpent': 13155,\n",
       " 'crooked': 3638,\n",
       " 'slay': 13594,\n",
       " 'dragon': 4582,\n",
       " 'sea': 13009,\n",
       " 'isaiah': 8146,\n",
       " 'thing': 15085,\n",
       " 'soever': 13779,\n",
       " 'besides': 1527,\n",
       " 'cometh': 2982,\n",
       " 'within': 16925,\n",
       " 'chaos': 2512,\n",
       " 'monster': 9654,\n",
       " 'mouth': 9748,\n",
       " 'beast': 1373,\n",
       " 'boat': 1748,\n",
       " 'stone': 14297,\n",
       " 'goes': 6528,\n",
       " 'incontinently': 7690,\n",
       " 'foul': 6068,\n",
       " 'perisheth': 10868,\n",
       " 'bottomless': 1834,\n",
       " 'gulf': 6741,\n",
       " 'paunch': 10722,\n",
       " 'holland': 7219,\n",
       " 'plutarch': 11186,\n",
       " 'morals': 9684,\n",
       " 'indian': 7727,\n",
       " 'breedeth': 1949,\n",
       " 'most': 9711,\n",
       " 'biggest': 1579,\n",
       " 'fishes': 5771,\n",
       " 'among': 631,\n",
       " 'whirlpooles': 16789,\n",
       " 'balaene': 1204,\n",
       " 'length': 8699,\n",
       " 'four': 6080,\n",
       " 'acres': 318,\n",
       " 'arpens': 908,\n",
       " 'land': 8523,\n",
       " 'pliny': 11160,\n",
       " 'scarcely': 12889,\n",
       " 'we': 16637,\n",
       " 'proceeded': 11547,\n",
       " 'two': 15669,\n",
       " 'days': 3868,\n",
       " 'on': 10289,\n",
       " 'when': 16750,\n",
       " 'about': 236,\n",
       " 'sunrise': 14598,\n",
       " 'other': 10385,\n",
       " 'monsters': 9655,\n",
       " 'appeared': 799,\n",
       " 'former': 6036,\n",
       " 'monstrous': 9656,\n",
       " 'size': 13527,\n",
       " 'came': 2232,\n",
       " 'towards': 15381,\n",
       " 'us': 16171,\n",
       " 'open': 10303,\n",
       " 'mouthed': 9749,\n",
       " 'raising': 11936,\n",
       " 'waves': 16625,\n",
       " 'sides': 13428,\n",
       " 'beating': 1379,\n",
       " 'into': 8047,\n",
       " 'foam': 5916,\n",
       " 'tooke': 15323,\n",
       " 'lucian': 8997,\n",
       " 'history': 7177,\n",
       " 'visited': 16415,\n",
       " 'country': 3495,\n",
       " 'also': 596,\n",
       " 'catching': 2400,\n",
       " 'horse': 7297,\n",
       " 'bones': 1789,\n",
       " 'very': 16319,\n",
       " 'value': 16227,\n",
       " 'their': 15047,\n",
       " 'teeth': 14955,\n",
       " 'brought': 2033,\n",
       " 'some': 13828,\n",
       " 'king': 8415,\n",
       " 'best': 1535,\n",
       " 'were': 16705,\n",
       " 'catched': 2397,\n",
       " 'forty': 6060,\n",
       " 'eight': 4841,\n",
       " 'fifty': 5711,\n",
       " 'yards': 17074,\n",
       " 'six': 13521,\n",
       " 'killed': 8398,\n",
       " 'sixty': 13526,\n",
       " 'octher': 10221,\n",
       " 'verbal': 16289,\n",
       " 'narrative': 9895,\n",
       " 'taken': 14851,\n",
       " 'alfred': 542,\n",
       " 'd': 3775,\n",
       " '890': 176,\n",
       " 'whereas': 16755,\n",
       " 'things': 15086,\n",
       " 'whether': 16767,\n",
       " 'vessel': 16321,\n",
       " 'enter': 5070,\n",
       " 'dreadful': 4607,\n",
       " 'lost': 8957,\n",
       " 'swallowed': 14723,\n",
       " 'gudgeon': 6725,\n",
       " 'retires': 12428,\n",
       " 'security': 13055,\n",
       " 'sleeps': 13606,\n",
       " 'montaigne': 9658,\n",
       " 'apology': 777,\n",
       " 'raimond': 11926,\n",
       " 'sebond': 13035,\n",
       " 'let': 8716,\n",
       " 'fly': 5911,\n",
       " 'nick': 10003,\n",
       " 'me': 9325,\n",
       " 'if': 7477,\n",
       " 'described': 4109,\n",
       " 'noble': 10027,\n",
       " 'prophet': 11643,\n",
       " 'moses': 9706,\n",
       " 'life': 8765,\n",
       " 'patient': 10710,\n",
       " 'rabelais': 11894,\n",
       " 'liver': 8862,\n",
       " 'cartloads': 2358,\n",
       " 'stowe': 14325,\n",
       " 'annals': 703,\n",
       " 'seas': 13023,\n",
       " 'seethe': 13076,\n",
       " 'like': 8787,\n",
       " 'boiling': 1767,\n",
       " 'pan': 10582,\n",
       " 'bacon': 1183,\n",
       " 'version': 16312,\n",
       " 'bulk': 2081,\n",
       " 'ork': 10367,\n",
       " 'received': 12051,\n",
       " 'nothing': 10083,\n",
       " 'certain': 2470,\n",
       " 'they': 15069,\n",
       " 'exceeding': 5267,\n",
       " 'fat': 5554,\n",
       " 'insomuch': 7923,\n",
       " 'an': 651,\n",
       " 'incredible': 7700,\n",
       " 'quantity': 11826,\n",
       " 'oil': 10261,\n",
       " 'extracted': 5419,\n",
       " 'ibid': 7442,\n",
       " 'death': 3889,\n",
       " 'sovereignest': 13887,\n",
       " 'parmacetti': 10637,\n",
       " 'inward': 8115,\n",
       " 'bruise': 2040,\n",
       " 'henry': 7072,\n",
       " 'hamlet': 6813,\n",
       " 'secure': 13050,\n",
       " 'skill': 13542,\n",
       " 'leach': 8627,\n",
       " 'art': 930,\n",
       " 'mote': 9713,\n",
       " 'availle': 1116,\n",
       " 'returne': 12439,\n",
       " 'againe': 465,\n",
       " 'wound': 17018,\n",
       " 'worker': 16989,\n",
       " 'lowly': 8993,\n",
       " 'dart': 3841,\n",
       " 'dinting': 4283,\n",
       " 'breast': 1933,\n",
       " 'bred': 1946,\n",
       " 'restless': 12397,\n",
       " 'paine': 10539,\n",
       " 'wounded': 17019,\n",
       " 'shore': 13342,\n",
       " 'flies': 5852,\n",
       " 'thro': 15152,\n",
       " 'maine': 9106,\n",
       " 'faerie': 5470,\n",
       " 'queen': 11838,\n",
       " 'immense': 7532,\n",
       " 'motion': 9718,\n",
       " 'vast': 16248,\n",
       " 'bodies': 1758,\n",
       " 'can': 2237,\n",
       " 'peaceful': 10743,\n",
       " 'calm': 2224,\n",
       " 'trouble': 15554,\n",
       " 'ocean': 10215,\n",
       " 'til': 15221,\n",
       " 'boil': 1764,\n",
       " 'sir': 13505,\n",
       " 'william': 16862,\n",
       " 'davenant': 3859,\n",
       " 'preface': 11406,\n",
       " 'gondibert': 6539,\n",
       " 'spermacetti': 13966,\n",
       " 'men': 9392,\n",
       " 'might': 9471,\n",
       " 'justly': 8354,\n",
       " 'doubt': 4555,\n",
       " 'since': 13480,\n",
       " 'learned': 8655,\n",
       " 'hosmannus': 7303,\n",
       " 'work': 16987,\n",
       " 'thirty': 15103,\n",
       " 'years': 17088,\n",
       " 'saith': 12772,\n",
       " 'plainly': 11091,\n",
       " 'nescio': 9977,\n",
       " 'quid': 11861,\n",
       " 't': 14826,\n",
       " 'browne': 2037,\n",
       " 'sperma': 13964,\n",
       " 'ceti': 2477,\n",
       " 'vide': 16357,\n",
       " 'v': 16198,\n",
       " 'e': 4737,\n",
       " 'spencer': 13959,\n",
       " 'talus': 14871,\n",
       " 'modern': 9607,\n",
       " 'flail': 5799,\n",
       " 'threatens': 15140,\n",
       " 'ruin': 12692,\n",
       " 'ponderous': 11248,\n",
       " 'tail': 14846,\n",
       " 'fixed': 5791,\n",
       " 'jav': 8206,\n",
       " 'lins': 8827,\n",
       " 'side': 13423,\n",
       " 'wears': 16659,\n",
       " 'back': 1169,\n",
       " 'grove': 6703,\n",
       " 'pikes': 11004,\n",
       " 'waller': 16523,\n",
       " 'battle': 1336,\n",
       " 'summer': 14579,\n",
       " 'islands': 8151,\n",
       " 'commonwealth': 3024,\n",
       " 'state': 14185,\n",
       " 'civitas': 2732,\n",
       " 'artificial': 938,\n",
       " 'man': 9146,\n",
       " 'opening': 10305,\n",
       " 'sentence': 13126,\n",
       " 'hobbes': 7191,\n",
       " 'silly': 13463,\n",
       " 'mansoul': 9188,\n",
       " 'without': 16926,\n",
       " 'chewing': 2602,\n",
       " 'sprat': 14070,\n",
       " 'pilgrim': 11010,\n",
       " 'progress': 11598,\n",
       " 'works': 16995,\n",
       " 'hugest': 7353,\n",
       " 'swim': 14774,\n",
       " 'stream': 14360,\n",
       " 'paradise': 10613,\n",
       " 'living': 8867,\n",
       " 'creatures': 3586,\n",
       " 'stretched': 14372,\n",
       " 'promontory': 11620,\n",
       " 'swims': 14777,\n",
       " 'seems': 13072,\n",
       " 'moving': 9760,\n",
       " 'gills': 6416,\n",
       " 'draws': 4604,\n",
       " 'breath': 1937,\n",
       " 'spouts': 14064,\n",
       " 'mighty': 9476,\n",
       " 'water': 16613,\n",
       " 'swimming': 14776,\n",
       " 'fulller': 6199,\n",
       " 'holy': 7227,\n",
       " 'close': 2825,\n",
       " 'behind': 1449,\n",
       " 'lie': 8759,\n",
       " 'huge': 7350,\n",
       " 'attend': 1062,\n",
       " 'prey': 11492,\n",
       " 'chance': 2500,\n",
       " 'fry': 6188,\n",
       " 'gaping': 6294,\n",
       " 'jaws': 8213,\n",
       " 'mistake': 9569,\n",
       " 'way': 16634,\n",
       " 'dryden': 4677,\n",
       " 'annus': 717,\n",
       " 'mirabilis': 9526,\n",
       " 'floating': 5868,\n",
       " 'stern': 14249,\n",
       " 'ship': 13303,\n",
       " 'cut': 3754,\n",
       " 'off': 10235,\n",
       " 'head': 6959,\n",
       " 'tow': 15380,\n",
       " 'near': 9931,\n",
       " 'come': 2976,\n",
       " 'aground': 496,\n",
       " 'twelve': 15645,\n",
       " 'thirteen': 15101,\n",
       " 'feet': 5632,\n",
       " 'thomas': 15110,\n",
       " 'edge': 4803,\n",
       " 'ten': 14978,\n",
       " 'voyages': 16467,\n",
       " 'spitzbergen': 14017,\n",
       " 'purchas': 11762,\n",
       " 'saw': 12862,\n",
       " 'sporting': 14045,\n",
       " 'wantonness': 16555,\n",
       " 'fuzzing': 6241,\n",
       " 'pipes': 11040,\n",
       " 'vents': 16284,\n",
       " 'nature': 9916,\n",
       " 'placed': 11076,\n",
       " 'shoulders': 13356,\n",
       " 'herbert': 7076,\n",
       " 'asia': 962,\n",
       " 'africa': 456,\n",
       " 'harris': 6900,\n",
       " 'coll': 2932,\n",
       " 'such': 14528,\n",
       " 'troops': 15546,\n",
       " 'forced': 5977,\n",
       " 'proceed': 11546,\n",
       " 'deal': 3884,\n",
       " 'caution': 2420,\n",
       " 'fear': 5585,\n",
       " 'should': 13352,\n",
       " 'run': 12711,\n",
       " 'schouten': 12921,\n",
       " 'sixth': 13525,\n",
       " 'circumnavigation': 2703,\n",
       " 'set': 13167,\n",
       " 'sail': 12761,\n",
       " 'elbe': 4857,\n",
       " 'wind': 16874,\n",
       " 'n': 9863,\n",
       " 'jonas': 8289,\n",
       " 'fable': 5445,\n",
       " 'frequently': 6130,\n",
       " 'climb': 2804,\n",
       " 'masts': 9283,\n",
       " 'first': 5763,\n",
       " 'discoverer': 4337,\n",
       " 'ducat': 4680,\n",
       " 'told': 15299,\n",
       " 'shetland': 13287,\n",
       " 'above': 237,\n",
       " 'barrel': 1291,\n",
       " 'herrings': 7107,\n",
       " 'belly': 1483,\n",
       " 'harpooneers': 6895,\n",
       " 'caught': 2412,\n",
       " 'once': 10290,\n",
       " 'white': 16806,\n",
       " 'over': 10440,\n",
       " 'voyage': 16463,\n",
       " 'greenland': 6643,\n",
       " '1671': 51,\n",
       " 'several': 13183,\n",
       " 'coast': 2876,\n",
       " 'fife': 5706,\n",
       " 'anno': 709,\n",
       " '1652': 49,\n",
       " 'eighty': 4844,\n",
       " 'bone': 1787,\n",
       " 'kind': 8405,\n",
       " 'informed': 7835,\n",
       " 'did': 4231,\n",
       " 'afford': 438,\n",
       " '500': 130,\n",
       " 'weight': 16692,\n",
       " 'baleen': 1209,\n",
       " 'stand': 14153,\n",
       " 'gate': 6317,\n",
       " 'garden': 6295,\n",
       " 'pitferren': 11064,\n",
       " 'sibbald': 13415,\n",
       " 'kinross': 8421,\n",
       " 'myself': 9851,\n",
       " 'agreed': 494,\n",
       " 'try': 15582,\n",
       " 'master': 9272,\n",
       " 'kill': 8397,\n",
       " 'never': 9988,\n",
       " 'hear': 6981,\n",
       " 'sort': 13863,\n",
       " 'fierceness': 5703,\n",
       " 'swiftness': 14773,\n",
       " 'richard': 12497,\n",
       " 'strafford': 14329,\n",
       " 'bermudas': 1518,\n",
       " 'phil': 10941,\n",
       " 'trans': 15435,\n",
       " '1668': 50,\n",
       " 'voice': 16434,\n",
       " 'obey': 10145,\n",
       " 'primer': 11504,\n",
       " 'abundance': 258,\n",
       " 'large': 8558,\n",
       " 'being': 1457,\n",
       " 'those': 15116,\n",
       " 'southern': 13882,\n",
       " 'may': 9313,\n",
       " 'hundred': 7386,\n",
       " 'than': 15036,\n",
       " 'northward': 10063,\n",
       " 'captain': 2302,\n",
       " 'cowley': 3528,\n",
       " 'round': 12643,\n",
       " 'globe': 6481,\n",
       " '1729': 57,\n",
       " 'frequendy': 6127,\n",
       " 'attended': 1065,\n",
       " 'insupportable': 7951,\n",
       " 'smell': 13682,\n",
       " 'bring': 2000,\n",
       " 'disorder': 4394,\n",
       " 'ulloa': 15690,\n",
       " 'south': 13880,\n",
       " 'america': 624,\n",
       " 'chosen': 2650,\n",
       " 'sylphs': 14797,\n",
       " 'special': 13928,\n",
       " 'note': 10079,\n",
       " 'trust': 15576,\n",
       " 'important': 7592,\n",
       " 'charge': 2529,\n",
       " 'petticoat': 10929,\n",
       " 'oft': 10254,\n",
       " 'fold': 5934,\n",
       " 'fence': 5650,\n",
       " 'fail': 5473,\n",
       " 'tho': 15108,\n",
       " 'stuffed': 14439,\n",
       " 'hoops': 7264,\n",
       " 'armed': 896,\n",
       " 'ribs': 12495,\n",
       " 'rape': 11964,\n",
       " 'lock': 8888,\n",
       " 'compare': 3050,\n",
       " 'animals': 695,\n",
       " 'respect': 12374,\n",
       " 'magnitude': 9094,\n",
       " 'abode': 222,\n",
       " 'appear': 796,\n",
       " 'contemptible': 3302,\n",
       " 'comparison': 3053,\n",
       " 'doubtless': 4558,\n",
       " 'largest': 8562,\n",
       " 'creation': 3581,\n",
       " 'goldsmith': 6537,\n",
       " 'nat': 9902,\n",
       " 'hist': 7170,\n",
       " 'write': 17054,\n",
       " 'little': 8852,\n",
       " 'make': 9119,\n",
       " 'speak': 13920,\n",
       " 'wales': 16514,\n",
       " 'johnson': 8268,\n",
       " 'afternoon': 461,\n",
       " 'supposed': 14646,\n",
       " 'rock': 12589,\n",
       " 'found': 6070,\n",
       " 'dead': 3874,\n",
       " 'asiatics': 964,\n",
       " 'then': 15052,\n",
       " 'towing': 15386,\n",
       " 'ashore': 961,\n",
       " 'seemed': 13068,\n",
       " 'endeavor': 4986,\n",
       " 'conceal': 3110,\n",
       " 'themselves': 15051,\n",
       " 'order': 10344,\n",
       " 'avoid': 1128,\n",
       " 'cook': 3392,\n",
       " 'larger': 8561,\n",
       " 'seldom': 13089,\n",
       " 'venture': 16285,\n",
       " 'attack': 1050,\n",
       " 'dread': 4605,\n",
       " 'afraid': 453,\n",
       " 'mention': 9402,\n",
       " 'names': 9876,\n",
       " 'carry': 2351,\n",
       " 'dung': 4705,\n",
       " 'lime': 8803,\n",
       " 'juniper': 8340,\n",
       " 'wood': 16968,\n",
       " 'articles': 936,\n",
       " 'same': 12798,\n",
       " 'boats': 1751,\n",
       " 'terrify': 15013,\n",
       " 'prevent': 11486,\n",
       " 'approach': 827,\n",
       " 'uno': 15983,\n",
       " 'von': 16452,\n",
       " 'troil': 15544,\n",
       " 'letters': 8721,\n",
       " 'banks': 1248,\n",
       " 'solander': 13797,\n",
       " 'iceland': 7449,\n",
       " '1772': 59,\n",
       " 'nantuckois': 9880,\n",
       " 'active': 327,\n",
       " 'fierce': 5701,\n",
       " 'requires': 12329,\n",
       " 'address': 345,\n",
       " 'boldness': 1774,\n",
       " 'fishermen': 5768,\n",
       " 'jefferson': 8221,\n",
       " 'memorial': 9389,\n",
       " 'minister': 9517,\n",
       " '1778': 62,\n",
       " 'pray': 11369,\n",
       " 'equal': 5119,\n",
       " 'edmund': 4811,\n",
       " 'burke': 2127,\n",
       " 'reference': 12127,\n",
       " 'parliament': 10633,\n",
       " 'nantucket': 9877,\n",
       " 'fishery': 5770,\n",
       " 'spain': 13897,\n",
       " 'stranded': 14342,\n",
       " 'shores': 13345,\n",
       " 'europe': 5203,\n",
       " 'somewhere': 13835,\n",
       " 'tenth': 14997,\n",
       " 'branch': 1898,\n",
       " 'ordinary': 10350,\n",
       " 'revenue': 12455,\n",
       " 'grounded': 6698,\n",
       " 'consideration': 3246,\n",
       " 'guarding': 6724,\n",
       " 'protecting': 11670,\n",
       " 'pirates': 11044,\n",
       " 'robbers': 12582,\n",
       " 'right': 12523,\n",
       " 'sturgeon': 14455,\n",
       " 'either': 4845,\n",
       " 'thrown': 15171,\n",
       " 'property': 11637,\n",
       " 'blackstone': 1636,\n",
       " 'soon': 13844,\n",
       " 'sport': 14043,\n",
       " 'crews': 3609,\n",
       " 'repair': 12271,\n",
       " 'rodmond': 12599,\n",
       " 'unerring': 15847,\n",
       " 'o': 10125,\n",
       " 'er': 5131,\n",
       " 'suspends': 14705,\n",
       " 'barbed': 1274,\n",
       " 'steel': 14228,\n",
       " 'turn': 15627,\n",
       " 'attends': 1067,\n",
       " 'falconer': 5492,\n",
       " 'shipwreck': 13310,\n",
       " 'bright': 1983,\n",
       " 'shone': 13334,\n",
       " 'roofs': 12621,\n",
       " 'domes': 4522,\n",
       " 'spires': 14010,\n",
       " 'rockets': 12593,\n",
       " 'blew': 1685,\n",
       " 'self': 13095,\n",
       " 'driven': 4641,\n",
       " 'hang': 6844,\n",
       " 'momentary': 9629,\n",
       " 'fire': 5747,\n",
       " 'around': 907,\n",
       " 'vault': 16253,\n",
       " 'heaven': 7011,\n",
       " 'serves': 13163,\n",
       " 'high': 7129,\n",
       " 'spouted': 14058,\n",
       " 'air': 513,\n",
       " 'express': 5390,\n",
       " 'unwieldy': 16127,\n",
       " 'joy': 8303,\n",
       " 'cowper': 3529,\n",
       " 'visit': 16411,\n",
       " 'london': 8912,\n",
       " 'fifteen': 5707,\n",
       " 'gallons': 6273,\n",
       " 'blood': 1706,\n",
       " 'stroke': 14400,\n",
       " 'velocity': 16268,\n",
       " 'john': 8266,\n",
       " 'hunter': 7395,\n",
       " 'account': 288,\n",
       " 'dissection': 4423,\n",
       " 'small': 13675,\n",
       " 'sized': 13528,\n",
       " 'aorta': 769,\n",
       " 'bore': 1814,\n",
       " 'main': 9105,\n",
       " 'pipe': 11039,\n",
       " 'bridge': 1974,\n",
       " 'roaring': 12577,\n",
       " 'its': 8174,\n",
       " 'passage': 10671,\n",
       " 'inferior': 7807,\n",
       " 'impetus': 7581,\n",
       " 'gushing': 6759,\n",
       " 'paley': 10562,\n",
       " 'theology': 15055,\n",
       " 'mammiferous': 9143,\n",
       " 'hind': 7148,\n",
       " 'baron': 1287,\n",
       " 'cuvier': 3763,\n",
       " '40': 115,\n",
       " 'degrees': 3978,\n",
       " 'till': 15225,\n",
       " 'covered': 3518,\n",
       " 'colnett': 2949,\n",
       " 'purpose': 11774,\n",
       " 'extending': 5402,\n",
       " 'spermaceti': 13965,\n",
       " 'free': 6108,\n",
       " 'element': 4869,\n",
       " 'beneath': 1501,\n",
       " 'swam': 14725,\n",
       " 'floundered': 5880,\n",
       " 'dived': 4466,\n",
       " 'chace': 2482,\n",
       " 'colour': 2957,\n",
       " 'form': 6030,\n",
       " 'language': 8538,\n",
       " 'cannot': 2265,\n",
       " 'paint': 10546,\n",
       " 'mariner': 9214,\n",
       " 'insect': 7904,\n",
       " 'millions': 9499,\n",
       " 'peopling': 10821,\n",
       " 'wave': 16623,\n",
       " 'gather': 6321,\n",
       " 'shoals': 13324,\n",
       " 'led': 8669,\n",
       " 'mysterious': 9853,\n",
       " 'instincts': 7939,\n",
       " 'waste': 16600,\n",
       " 'trackless': 15400,\n",
       " 'region': 12160,\n",
       " 'though': 15118,\n",
       " 'assaulted': 989,\n",
       " 'voracious': 16453,\n",
       " 'enemies': 5003,\n",
       " 'sharks': 13242,\n",
       " 'arm': 894,\n",
       " 'front': 6169,\n",
       " 'jaw': 8211,\n",
       " 'swords': 14788,\n",
       " 'saws': 12865,\n",
       " 'spiral': 14001,\n",
       " 'horns': 7287,\n",
       " 'hooked': 7259,\n",
       " 'fangs': 5523,\n",
       " 'montgomery': 9659,\n",
       " 'flood': 5875,\n",
       " 'io': 8118,\n",
       " 'paean': 10529,\n",
       " 'sing': 13488,\n",
       " 'finny': 5745,\n",
       " 'people': 10819,\n",
       " 'mightier': 9473,\n",
       " ...}"
      ]
     },
     "execution_count": 27,
     "metadata": {},
     "output_type": "execute_result"
    }
   ],
   "source": [
    "lit_vectorizer = CountVectorizer(token_pattern=new_regex)\n",
    "lit_vectorizer.fit([mobydick])\n",
    "print(\"Vocabulary size:\", len(lit_vectorizer.vocabulary_))\n",
    "lit_vectorizer.vocabulary_"
   ]
  },
  {
   "cell_type": "code",
   "execution_count": 28,
   "metadata": {
    "colab": {},
    "colab_type": "code",
    "id": "9YRv-pJjw0gi"
   },
   "outputs": [],
   "source": [
    "X = lit_vectorizer.fit_transform(corpus)"
   ]
  },
  {
   "cell_type": "markdown",
   "metadata": {
    "colab_type": "text",
    "id": "GazZdRZexTwi"
   },
   "source": [
    "This is what the doc-term matrix looks like for our three document corpus."
   ]
  },
  {
   "cell_type": "code",
   "execution_count": 29,
   "metadata": {
    "colab": {
     "base_uri": "https://localhost:8080/",
     "height": 68
    },
    "colab_type": "code",
    "id": "qhgVoStVw0ea",
    "outputId": "22c98800-b6fb-48d0-9ed9-78088389f0ea"
   },
   "outputs": [
    {
     "data": {
      "text/plain": [
       "array([[20,  2,  4, ...,  0,  2,  1],\n",
       "       [ 2,  0,  2, ...,  0,  0,  0],\n",
       "       [ 0,  0,  0, ...,  1,  0,  0]], dtype=int64)"
      ]
     },
     "execution_count": 29,
     "metadata": {},
     "output_type": "execute_result"
    }
   ],
   "source": [
    "X.toarray()"
   ]
  },
  {
   "cell_type": "markdown",
   "metadata": {
    "colab_type": "text",
    "id": "S1-NtmPfBvJT"
   },
   "source": [
    "NOTE: each row corresponds to each document; each column of words in our vocabulary"
   ]
  },
  {
   "cell_type": "code",
   "execution_count": 30,
   "metadata": {
    "colab": {
     "base_uri": "https://localhost:8080/",
     "height": 34
    },
    "colab_type": "code",
    "id": "1podXJFeuOgg",
    "outputId": "94aab82a-5f4d-4633-b613-6899bd1eaeab"
   },
   "outputs": [
    {
     "name": "stdout",
     "output_type": "stream",
     "text": [
      "The ID of the word 'piece' is  10968\n"
     ]
    }
   ],
   "source": [
    "print(\"The ID of the word 'piece' is \", str(count_vectorizer.vocabulary_.get('piece')))"
   ]
  },
  {
   "cell_type": "markdown",
   "metadata": {
    "colab_type": "text",
    "id": "wrijrmQH2eNx"
   },
   "source": [
    "The dimensions of the matrix are given by the shape property."
   ]
  },
  {
   "cell_type": "code",
   "execution_count": 31,
   "metadata": {
    "colab": {
     "base_uri": "https://localhost:8080/",
     "height": 34
    },
    "colab_type": "code",
    "id": "btnKmwIS2Sg1",
    "outputId": "f44fe033-bb88-48f1-a213-32e36c2e212c"
   },
   "outputs": [
    {
     "data": {
      "text/plain": [
       "(3, 21615)"
      ]
     },
     "execution_count": 31,
     "metadata": {},
     "output_type": "execute_result"
    }
   ],
   "source": [
    "X.toarray().shape"
   ]
  },
  {
   "cell_type": "code",
   "execution_count": 32,
   "metadata": {
    "colab": {
     "base_uri": "https://localhost:8080/",
     "height": 34
    },
    "colab_type": "code",
    "id": "efcIAA4W2sxG",
    "outputId": "2db82a5c-053c-4407-fbe7-2e64650eaee7"
   },
   "outputs": [
    {
     "name": "stdout",
     "output_type": "stream",
     "text": [
      "The doc-term matrix has 3 documents and 21615 dimensions.\n"
     ]
    }
   ],
   "source": [
    "print(\"The doc-term matrix has {} documents and {} dimensions.\".format(str(X.toarray().shape[0]), str(X.toarray().shape[1])))"
   ]
  },
  {
   "cell_type": "markdown",
   "metadata": {
    "colab_type": "text",
    "id": "hHiU380X3b7R"
   },
   "source": [
    "These dimensions represent one unique vocabulary. "
   ]
  },
  {
   "cell_type": "code",
   "execution_count": 33,
   "metadata": {
    "colab": {
     "base_uri": "https://localhost:8080/",
     "height": 17034
    },
    "colab_type": "code",
    "id": "MnHKIQ5Bw0bq",
    "outputId": "02d4196a-3860-4aa3-c60c-26e7afe820c9"
   },
   "outputs": [
    {
     "data": {
      "text/plain": [
       "['000',\n",
       " '1',\n",
       " '10',\n",
       " '100',\n",
       " '101',\n",
       " '102',\n",
       " '103',\n",
       " '104',\n",
       " '105',\n",
       " '106',\n",
       " '107',\n",
       " '108',\n",
       " '109',\n",
       " '11',\n",
       " '110',\n",
       " '111',\n",
       " '112',\n",
       " '113',\n",
       " '114',\n",
       " '115',\n",
       " '116',\n",
       " '117',\n",
       " '118',\n",
       " '119',\n",
       " '12',\n",
       " '120',\n",
       " '121',\n",
       " '122',\n",
       " '123',\n",
       " '124',\n",
       " '125',\n",
       " '126',\n",
       " '127',\n",
       " '128',\n",
       " '129',\n",
       " '13',\n",
       " '130',\n",
       " '131',\n",
       " '132',\n",
       " '133',\n",
       " '134',\n",
       " '135',\n",
       " '14',\n",
       " '1414',\n",
       " '144',\n",
       " '1492',\n",
       " '15',\n",
       " '150',\n",
       " '15o',\n",
       " '15th',\n",
       " '16',\n",
       " '1652',\n",
       " '1668',\n",
       " '1671',\n",
       " '1690',\n",
       " '1695',\n",
       " '16th',\n",
       " '17',\n",
       " '1726',\n",
       " '1729',\n",
       " '1750',\n",
       " '1772',\n",
       " '1775',\n",
       " '1776',\n",
       " '1778',\n",
       " '1779',\n",
       " '1788',\n",
       " '1791',\n",
       " '1793',\n",
       " '1795',\n",
       " '1799',\n",
       " '17oo',\n",
       " '17th',\n",
       " '18',\n",
       " '180',\n",
       " '1807',\n",
       " '1816',\n",
       " '1819',\n",
       " '1820',\n",
       " '1821',\n",
       " '1825',\n",
       " '1828',\n",
       " '1833',\n",
       " '1836',\n",
       " '1839',\n",
       " '1840',\n",
       " '1842',\n",
       " '1846',\n",
       " '1850',\n",
       " '1851',\n",
       " '18th',\n",
       " '19',\n",
       " '1st',\n",
       " '2',\n",
       " '20',\n",
       " '2000',\n",
       " '200th',\n",
       " '21',\n",
       " '21st',\n",
       " '22',\n",
       " '22nd',\n",
       " '23',\n",
       " '23rd',\n",
       " '24',\n",
       " '24th',\n",
       " '25',\n",
       " '25th',\n",
       " '26',\n",
       " '26th',\n",
       " '27',\n",
       " '275th',\n",
       " '28',\n",
       " '28th',\n",
       " '29',\n",
       " '299',\n",
       " '29th',\n",
       " '2nd',\n",
       " '3',\n",
       " '30',\n",
       " '31',\n",
       " '31st',\n",
       " '32',\n",
       " '33',\n",
       " '34',\n",
       " '35',\n",
       " '36',\n",
       " '37',\n",
       " '38',\n",
       " '39',\n",
       " '3d',\n",
       " '3rd',\n",
       " '4',\n",
       " '40',\n",
       " '400',\n",
       " '41',\n",
       " '42',\n",
       " '421',\n",
       " '43',\n",
       " '44',\n",
       " '440',\n",
       " '45',\n",
       " '46',\n",
       " '47',\n",
       " '48',\n",
       " '49',\n",
       " '4th',\n",
       " '5',\n",
       " '50',\n",
       " '500',\n",
       " '51',\n",
       " '52',\n",
       " '53',\n",
       " '54',\n",
       " '55',\n",
       " '550',\n",
       " '56',\n",
       " '57',\n",
       " '58',\n",
       " '59',\n",
       " '5th',\n",
       " '6',\n",
       " '60',\n",
       " '61',\n",
       " '62',\n",
       " '63',\n",
       " '64',\n",
       " '65',\n",
       " '66',\n",
       " '67',\n",
       " '68',\n",
       " '69',\n",
       " '6th',\n",
       " '7',\n",
       " '70',\n",
       " '71',\n",
       " '72',\n",
       " '73',\n",
       " '74',\n",
       " '75',\n",
       " '76',\n",
       " '77',\n",
       " '78',\n",
       " '79',\n",
       " '7th',\n",
       " '8',\n",
       " '80',\n",
       " '800',\n",
       " '81',\n",
       " '82',\n",
       " '83',\n",
       " '84',\n",
       " '85',\n",
       " '86',\n",
       " '87',\n",
       " '88',\n",
       " '89',\n",
       " '890',\n",
       " '8oo',\n",
       " '8th',\n",
       " '9',\n",
       " '90',\n",
       " '91',\n",
       " '92',\n",
       " '93',\n",
       " '94',\n",
       " '95',\n",
       " '96',\n",
       " '97',\n",
       " '98',\n",
       " '99',\n",
       " '_',\n",
       " '_______',\n",
       " '_____________',\n",
       " '_a_',\n",
       " '_accepted_',\n",
       " '_adair_',\n",
       " '_addition_',\n",
       " '_all_',\n",
       " '_almost_',\n",
       " '_alone_',\n",
       " '_amor_',\n",
       " '_and_',\n",
       " '_answer_',\n",
       " '_any_',\n",
       " '_appropriation_',\n",
       " '_as_',\n",
       " '_assistance_',\n",
       " '_at_',\n",
       " '_bath_',\n",
       " '_be_',\n",
       " '_been_',\n",
       " '_blunder_',\n",
       " '_boiled_',\n",
       " '_both_',\n",
       " '_bride_',\n",
       " '_broke_',\n",
       " '_caro_',\n",
       " '_cause_',\n",
       " '_chaperon_',\n",
       " '_compassion_',\n",
       " '_compliments_',\n",
       " '_court_',\n",
       " '_courtship_',\n",
       " '_did_',\n",
       " '_dissolved_',\n",
       " '_dixon_',\n",
       " '_dixons_',\n",
       " '_doubts_',\n",
       " '_each_',\n",
       " '_eighteen_',\n",
       " '_elton_',\n",
       " '_engagement_',\n",
       " '_evening_',\n",
       " '_felt_',\n",
       " '_first_',\n",
       " '_gentleman_',\n",
       " '_great_',\n",
       " '_greater_',\n",
       " '_h_arbour',\n",
       " '_h_arm',\n",
       " '_h_earth',\n",
       " '_had_',\n",
       " '_half_',\n",
       " '_happily_',\n",
       " '_has_',\n",
       " '_have_',\n",
       " '_he_',\n",
       " '_her_',\n",
       " '_here_',\n",
       " '_him_',\n",
       " '_his_',\n",
       " '_home_',\n",
       " '_housebreaking_',\n",
       " '_i',\n",
       " '_i_',\n",
       " '_introduction_',\n",
       " '_invite_',\n",
       " '_is_',\n",
       " '_it_',\n",
       " '_joint_',\n",
       " '_just_',\n",
       " '_lady_',\n",
       " '_letting_',\n",
       " '_little_',\n",
       " '_man_',\n",
       " '_married_',\n",
       " '_marry_',\n",
       " '_may_',\n",
       " '_me_',\n",
       " '_mediocre_',\n",
       " '_misery_',\n",
       " '_miss_',\n",
       " '_moment_',\n",
       " '_more_',\n",
       " '_most_',\n",
       " '_mr_',\n",
       " '_mrs',\n",
       " '_mrs_',\n",
       " '_must_',\n",
       " '_my_',\n",
       " '_named_',\n",
       " '_names_',\n",
       " '_nearer_',\n",
       " '_not_',\n",
       " '_now_',\n",
       " '_of_',\n",
       " '_one_',\n",
       " '_our_',\n",
       " '_own_',\n",
       " '_part_',\n",
       " '_particular_',\n",
       " '_party_',\n",
       " '_patriae_',\n",
       " '_perfection_',\n",
       " '_philip_',\n",
       " '_precious_',\n",
       " '_present_',\n",
       " '_presume_',\n",
       " '_promise_',\n",
       " '_purport_',\n",
       " '_recollecting_',\n",
       " '_refused_',\n",
       " '_repentance_',\n",
       " '_respect_',\n",
       " '_rev',\n",
       " '_robin_',\n",
       " '_sacrifice_',\n",
       " '_say_',\n",
       " '_secret_',\n",
       " '_sensation_',\n",
       " '_shall_',\n",
       " '_she_',\n",
       " '_ship_',\n",
       " '_should_',\n",
       " '_small_',\n",
       " '_some_',\n",
       " '_source_',\n",
       " '_sposo_',\n",
       " '_taylor_',\n",
       " '_tell_',\n",
       " '_ten_',\n",
       " '_that_',\n",
       " '_the_',\n",
       " '_them_',\n",
       " '_then_',\n",
       " '_there_',\n",
       " '_they_',\n",
       " '_thing_',\n",
       " '_think_',\n",
       " '_thoughts_',\n",
       " '_three_',\n",
       " '_time_',\n",
       " '_times_',\n",
       " '_to_',\n",
       " '_told_',\n",
       " '_treasures_',\n",
       " '_try_',\n",
       " '_two_',\n",
       " '_understand_',\n",
       " '_unreasonable_',\n",
       " '_unrequited_',\n",
       " '_us_',\n",
       " '_very_',\n",
       " '_wanted_',\n",
       " '_was_',\n",
       " '_way_',\n",
       " '_we_',\n",
       " '_well_',\n",
       " '_were_',\n",
       " '_what_',\n",
       " '_when_',\n",
       " '_white',\n",
       " '_who_',\n",
       " '_will_',\n",
       " '_wish_',\n",
       " '_with_',\n",
       " '_woman_',\n",
       " '_woodhouse_',\n",
       " '_world_',\n",
       " '_would_',\n",
       " '_you_',\n",
       " '_your_',\n",
       " 'a',\n",
       " 'ab',\n",
       " 'aback',\n",
       " 'abaft',\n",
       " 'abandon',\n",
       " 'abandoned',\n",
       " 'abandonedly',\n",
       " 'abandonment',\n",
       " 'abased',\n",
       " 'abasement',\n",
       " 'abashed',\n",
       " 'abate',\n",
       " 'abated',\n",
       " 'abatement',\n",
       " 'abating',\n",
       " 'abbey',\n",
       " 'abbots',\n",
       " 'abbreviate',\n",
       " 'abbreviation',\n",
       " 'abdy',\n",
       " 'abeam',\n",
       " 'abed',\n",
       " 'abednego',\n",
       " 'abel',\n",
       " 'abhor',\n",
       " 'abhorred',\n",
       " 'abhorrence',\n",
       " 'abhorrent',\n",
       " 'abhorring',\n",
       " 'abide',\n",
       " 'abided',\n",
       " 'abiding',\n",
       " 'abilities',\n",
       " 'ability',\n",
       " 'abject',\n",
       " 'abjectly',\n",
       " 'abjectus',\n",
       " 'able',\n",
       " 'ablutions',\n",
       " 'aboard',\n",
       " 'abode',\n",
       " 'abolition',\n",
       " 'abominable',\n",
       " 'abominate',\n",
       " 'abominated',\n",
       " 'abomination',\n",
       " 'aboriginal',\n",
       " 'aboriginally',\n",
       " 'aboriginalness',\n",
       " 'abortion',\n",
       " 'abortions',\n",
       " 'abound',\n",
       " 'abounded',\n",
       " 'abounding',\n",
       " 'aboundingly',\n",
       " 'about',\n",
       " 'above',\n",
       " 'abraham',\n",
       " 'abreast',\n",
       " 'abridged',\n",
       " 'abroad',\n",
       " 'abrupt',\n",
       " 'abruptly',\n",
       " 'abruptness',\n",
       " 'absence',\n",
       " 'absences',\n",
       " 'absent',\n",
       " 'absented',\n",
       " 'absenting',\n",
       " 'absolute',\n",
       " 'absolutely',\n",
       " 'absorbed',\n",
       " 'absorbing',\n",
       " 'absorbingly',\n",
       " 'abstained',\n",
       " 'abstemious',\n",
       " 'abstinence',\n",
       " 'abstract',\n",
       " 'abstracted',\n",
       " 'abstraction',\n",
       " 'absurd',\n",
       " 'absurdities',\n",
       " 'absurdity',\n",
       " 'absurdly',\n",
       " 'abundance',\n",
       " 'abundant',\n",
       " 'abundantly',\n",
       " 'abused',\n",
       " 'abusing',\n",
       " 'academy',\n",
       " 'acceded',\n",
       " 'accelerate',\n",
       " 'accelerated',\n",
       " 'accelerating',\n",
       " 'accent',\n",
       " 'accents',\n",
       " 'accept',\n",
       " 'acceptable',\n",
       " 'acceptance',\n",
       " 'accepted',\n",
       " 'accepting',\n",
       " 'accepts',\n",
       " 'access',\n",
       " 'accessible',\n",
       " 'accession',\n",
       " 'accessory',\n",
       " 'accident',\n",
       " 'accidental',\n",
       " 'accidentally',\n",
       " 'accidents',\n",
       " 'acclamations',\n",
       " 'accommodate',\n",
       " 'accommodated',\n",
       " 'accommodation',\n",
       " 'accommodations',\n",
       " 'accompanied',\n",
       " 'accompanies',\n",
       " 'accompaniment',\n",
       " 'accompaniments',\n",
       " 'accompany',\n",
       " 'accompanying',\n",
       " 'accomplice',\n",
       " 'accomplices',\n",
       " 'accomplish',\n",
       " 'accomplished',\n",
       " 'accomplishing',\n",
       " 'accomplishment',\n",
       " 'accomplishments',\n",
       " 'accord',\n",
       " 'accordance',\n",
       " 'accordant',\n",
       " 'according',\n",
       " 'accordingly',\n",
       " 'accosted',\n",
       " 'accosting',\n",
       " 'account',\n",
       " 'accountable',\n",
       " 'accountants',\n",
       " 'accounted',\n",
       " 'accounting',\n",
       " 'accounts',\n",
       " 'accoutrements',\n",
       " 'accrue',\n",
       " 'accumulate',\n",
       " 'accumulated',\n",
       " 'accumulating',\n",
       " 'accumulation',\n",
       " 'accumulations',\n",
       " 'accuracy',\n",
       " 'accurate',\n",
       " 'accurately',\n",
       " 'accursed',\n",
       " 'accusation',\n",
       " 'accuse',\n",
       " 'accused',\n",
       " 'accustomed',\n",
       " 'acerbities',\n",
       " 'ache',\n",
       " 'ached',\n",
       " 'aches',\n",
       " 'achieve',\n",
       " 'achieved',\n",
       " 'achievement',\n",
       " 'achilles',\n",
       " 'acid',\n",
       " 'acknowledge',\n",
       " 'acknowledged',\n",
       " 'acknowledges',\n",
       " 'acknowledging',\n",
       " 'acknowledgment',\n",
       " 'acknowledgments',\n",
       " 'acqua',\n",
       " 'acquaintance',\n",
       " 'acquaintances',\n",
       " 'acquainted',\n",
       " 'acquiesce',\n",
       " 'acquiesced',\n",
       " 'acquiescence',\n",
       " 'acquire',\n",
       " 'acquired',\n",
       " 'acquirements',\n",
       " 'acquiring',\n",
       " 'acquisition',\n",
       " 'acquistato',\n",
       " 'acquit',\n",
       " 'acquittal',\n",
       " 'acquitted',\n",
       " 'acre',\n",
       " 'acres',\n",
       " 'acridness',\n",
       " 'across',\n",
       " 'acrostic',\n",
       " 'act',\n",
       " 'acted',\n",
       " 'actest',\n",
       " 'acting',\n",
       " 'action',\n",
       " 'actions',\n",
       " 'actium',\n",
       " 'active',\n",
       " 'actively',\n",
       " 'activity',\n",
       " 'actor',\n",
       " 'actors',\n",
       " 'actresses',\n",
       " 'acts',\n",
       " 'actual',\n",
       " 'actually',\n",
       " 'actuated',\n",
       " 'actuates',\n",
       " 'acushnet',\n",
       " 'acute',\n",
       " 'acuteness',\n",
       " 'ad',\n",
       " 'adam',\n",
       " 'adamite',\n",
       " 'adapt',\n",
       " 'adapted',\n",
       " 'add',\n",
       " 'added',\n",
       " 'adding',\n",
       " 'addison',\n",
       " 'addition',\n",
       " 'additional',\n",
       " 'address',\n",
       " 'addressed',\n",
       " 'addresses',\n",
       " 'addressing',\n",
       " 'adds',\n",
       " 'adelaide',\n",
       " 'adequate',\n",
       " 'adequately',\n",
       " 'adherence',\n",
       " 'adhering',\n",
       " 'adhesiveness',\n",
       " 'adieu',\n",
       " 'adieus',\n",
       " 'adieux',\n",
       " 'adios',\n",
       " 'adjacent',\n",
       " 'adjoining',\n",
       " 'adjourned',\n",
       " 'adjudged',\n",
       " 'adjust',\n",
       " 'adjusted',\n",
       " 'adjusting',\n",
       " 'admeasurement',\n",
       " 'admeasurements',\n",
       " 'administer',\n",
       " 'administered',\n",
       " 'administering',\n",
       " 'admirable',\n",
       " 'admirably',\n",
       " 'admiral',\n",
       " 'admirals',\n",
       " 'admiration',\n",
       " 'admire',\n",
       " 'admired',\n",
       " 'admirer',\n",
       " 'admirers',\n",
       " 'admires',\n",
       " 'admiring',\n",
       " 'admissible',\n",
       " 'admission',\n",
       " 'admit',\n",
       " 'admits',\n",
       " 'admitted',\n",
       " 'admitting',\n",
       " 'admonish',\n",
       " 'admonished',\n",
       " 'admonishing',\n",
       " 'admonitions',\n",
       " 'admonitory',\n",
       " 'ado',\n",
       " 'adolescence',\n",
       " 'adopt',\n",
       " 'adopted',\n",
       " 'adopting',\n",
       " 'adoption',\n",
       " 'adoration',\n",
       " 'adore',\n",
       " 'adored',\n",
       " 'adoring',\n",
       " 'adorned',\n",
       " 'adorning',\n",
       " 'adornment',\n",
       " 'adown',\n",
       " 'adrift',\n",
       " 'adroit',\n",
       " 'adroitly',\n",
       " 'adroop',\n",
       " 'adult',\n",
       " 'adulterer',\n",
       " 'advance',\n",
       " 'advanced',\n",
       " 'advancement',\n",
       " 'advances',\n",
       " 'advancing',\n",
       " 'advantage',\n",
       " 'advantageous',\n",
       " 'advantages',\n",
       " 'advent',\n",
       " 'adventure',\n",
       " 'adventures',\n",
       " 'adventuring',\n",
       " 'adventurous',\n",
       " 'adventurously',\n",
       " 'adversary',\n",
       " 'adverse',\n",
       " 'adversity',\n",
       " 'advert',\n",
       " 'advertise',\n",
       " 'advertised',\n",
       " 'advertisement',\n",
       " 'advertising',\n",
       " 'advice',\n",
       " 'advisable',\n",
       " 'advise',\n",
       " 'advised',\n",
       " 'adviser',\n",
       " 'advising',\n",
       " 'advocate',\n",
       " 'aerated',\n",
       " 'aesthetically',\n",
       " 'aesthetics',\n",
       " 'afar',\n",
       " 'affability',\n",
       " 'affable',\n",
       " 'affair',\n",
       " 'affairs',\n",
       " 'affect',\n",
       " 'affectation',\n",
       " 'affected',\n",
       " 'affectedly',\n",
       " 'affecting',\n",
       " 'affection',\n",
       " 'affectionate',\n",
       " 'affectionately',\n",
       " 'affections',\n",
       " 'affghanistan',\n",
       " 'affidavit',\n",
       " 'affinities',\n",
       " 'affirm',\n",
       " 'affirmative',\n",
       " 'affirmed',\n",
       " 'affirms',\n",
       " 'affix',\n",
       " 'affixed',\n",
       " 'afflicted',\n",
       " 'affliction',\n",
       " 'afflictions',\n",
       " 'affluent',\n",
       " 'afford',\n",
       " 'afforded',\n",
       " 'affording',\n",
       " 'affords',\n",
       " 'affright',\n",
       " 'affrighted',\n",
       " 'affrights',\n",
       " 'affront',\n",
       " 'affronted',\n",
       " 'afire',\n",
       " 'afloat',\n",
       " 'afoam',\n",
       " 'afore',\n",
       " 'aforehand',\n",
       " 'aforesaid',\n",
       " 'aforethought',\n",
       " 'afoul',\n",
       " 'afraid',\n",
       " 'afresh',\n",
       " 'afric',\n",
       " 'africa',\n",
       " 'african',\n",
       " 'africans',\n",
       " 'aft',\n",
       " 'after',\n",
       " 'afternoon',\n",
       " 'afternoons',\n",
       " 'afterwards',\n",
       " 'again',\n",
       " 'againe',\n",
       " 'against',\n",
       " 'agassiz',\n",
       " 'age',\n",
       " 'aged',\n",
       " 'agencies',\n",
       " 'agency',\n",
       " 'agent',\n",
       " 'agents',\n",
       " 'ages',\n",
       " 'aggrandise',\n",
       " 'aggravate',\n",
       " 'aggregate',\n",
       " 'aggregated',\n",
       " 'aggregation',\n",
       " 'aggregations',\n",
       " 'aggression',\n",
       " 'aggrieved',\n",
       " 'agh',\n",
       " 'aghast',\n",
       " 'agile',\n",
       " 'agitate',\n",
       " 'agitated',\n",
       " 'agitating',\n",
       " 'agitation',\n",
       " 'aglow',\n",
       " 'ago',\n",
       " 'agonies',\n",
       " 'agonized',\n",
       " 'agonizing',\n",
       " 'agonizingly',\n",
       " 'agony',\n",
       " 'agrarian',\n",
       " 'agree',\n",
       " 'agreeable',\n",
       " 'agreeableness',\n",
       " 'agreeably',\n",
       " 'agreed',\n",
       " 'agreeing',\n",
       " 'agreement',\n",
       " 'agrees',\n",
       " 'agricultural',\n",
       " 'agriculture',\n",
       " 'aground',\n",
       " 'ague',\n",
       " 'ah',\n",
       " 'ahab',\n",
       " 'ahabs',\n",
       " 'ahasuerus',\n",
       " 'ahaz',\n",
       " 'ahead',\n",
       " 'ahoy',\n",
       " 'aid',\n",
       " 'aider',\n",
       " 'aides',\n",
       " 'aids',\n",
       " 'ails',\n",
       " 'aim',\n",
       " 'aimable',\n",
       " 'aimed',\n",
       " 'aiming',\n",
       " 'aimlessly',\n",
       " 'ain',\n",
       " 'aint',\n",
       " 'air',\n",
       " 'aired',\n",
       " 'airing',\n",
       " 'airley',\n",
       " 'airly',\n",
       " 'airs',\n",
       " 'airth',\n",
       " 'airy',\n",
       " 'aisle',\n",
       " 'ajar',\n",
       " 'akimbo',\n",
       " 'akin',\n",
       " 'al',\n",
       " 'alabama',\n",
       " 'alack',\n",
       " 'alacrity',\n",
       " 'aladdin',\n",
       " 'alarm',\n",
       " 'alarmed',\n",
       " 'alarming',\n",
       " 'alarms',\n",
       " 'alas',\n",
       " 'alb',\n",
       " 'albatross',\n",
       " 'albatrosses',\n",
       " 'albemarle',\n",
       " 'albert',\n",
       " 'albicore',\n",
       " 'albino',\n",
       " 'alcoves',\n",
       " 'alderman',\n",
       " 'aldermen',\n",
       " 'alderneys',\n",
       " 'aldrovandi',\n",
       " 'aldrovandus',\n",
       " 'ale',\n",
       " 'aleak',\n",
       " 'alehouse',\n",
       " 'alert',\n",
       " 'alertness',\n",
       " 'alewives',\n",
       " 'alexander',\n",
       " 'alexanders',\n",
       " 'alfred',\n",
       " 'algerine',\n",
       " 'algiers',\n",
       " 'alias',\n",
       " 'alice',\n",
       " 'alien',\n",
       " 'aliens',\n",
       " 'alights',\n",
       " 'alike',\n",
       " 'aliment',\n",
       " 'alive',\n",
       " 'all',\n",
       " 'allay',\n",
       " 'allaying',\n",
       " 'alleged',\n",
       " 'alleghanian',\n",
       " 'alleghanies',\n",
       " 'allegiance',\n",
       " 'allegorical',\n",
       " 'allegory',\n",
       " 'alleviation',\n",
       " 'alleviations',\n",
       " 'alley',\n",
       " 'alleys',\n",
       " 'alliance',\n",
       " 'alliances',\n",
       " 'allied',\n",
       " 'allies',\n",
       " 'allotted',\n",
       " 'allow',\n",
       " 'allowable',\n",
       " 'allowance',\n",
       " 'allowances',\n",
       " 'allowed',\n",
       " 'allowing',\n",
       " 'alloy',\n",
       " 'allude',\n",
       " 'alluded',\n",
       " 'alluding',\n",
       " 'allured',\n",
       " 'allurements',\n",
       " 'allures',\n",
       " 'alluring',\n",
       " 'alluringly',\n",
       " 'allurings',\n",
       " 'allusion',\n",
       " 'allusions',\n",
       " 'ally',\n",
       " 'almanac',\n",
       " 'almanack',\n",
       " 'almane',\n",
       " 'almighty',\n",
       " 'almond',\n",
       " 'almonds',\n",
       " 'almost',\n",
       " 'alms',\n",
       " 'aloft',\n",
       " 'alone',\n",
       " 'along',\n",
       " 'alongside',\n",
       " 'aloof',\n",
       " 'aloud',\n",
       " 'alow',\n",
       " 'alpacas',\n",
       " 'alphabet',\n",
       " 'alphabetically',\n",
       " 'alphabets',\n",
       " 'alpine',\n",
       " 'alps',\n",
       " 'already',\n",
       " 'also',\n",
       " 'altar',\n",
       " 'alter',\n",
       " 'alteration',\n",
       " 'altered',\n",
       " 'altering',\n",
       " 'alternate',\n",
       " 'alternately',\n",
       " 'alternating',\n",
       " 'alternative',\n",
       " 'although',\n",
       " 'altitude',\n",
       " 'altitudes',\n",
       " 'altogether',\n",
       " 'alway',\n",
       " 'always',\n",
       " 'am',\n",
       " 'amain',\n",
       " 'amaze',\n",
       " 'amazed',\n",
       " 'amazement',\n",
       " 'amazing',\n",
       " 'amazingly',\n",
       " 'ambassador',\n",
       " 'amber',\n",
       " 'ambergriese',\n",
       " 'ambergris',\n",
       " 'ambiguous',\n",
       " 'ambition',\n",
       " 'ambitious',\n",
       " 'amelia',\n",
       " 'amen',\n",
       " 'amend',\n",
       " 'amended',\n",
       " 'amendment',\n",
       " 'amends',\n",
       " 'america',\n",
       " 'american',\n",
       " 'americans',\n",
       " 'americas',\n",
       " 'amiable',\n",
       " 'amiableness',\n",
       " 'amid',\n",
       " 'amidst',\n",
       " 'amiss',\n",
       " 'amittai',\n",
       " 'amity',\n",
       " 'among',\n",
       " 'amongst',\n",
       " 'amorous',\n",
       " 'amount',\n",
       " 'amounted',\n",
       " 'amounting',\n",
       " 'amounts',\n",
       " 'amours',\n",
       " 'amphibious',\n",
       " 'amphitheatre',\n",
       " 'amphitheatrical',\n",
       " 'ample',\n",
       " 'amplification',\n",
       " ...]"
      ]
     },
     "execution_count": 33,
     "metadata": {},
     "output_type": "execute_result"
    }
   ],
   "source": [
    "lit_vectorizer.get_feature_names() "
   ]
  },
  {
   "cell_type": "markdown",
   "metadata": {
    "colab_type": "text",
    "id": "mULrSjzB4T_w"
   },
   "source": [
    "Let's get vocab ID's for 'happy', 'sad', 'angry'"
   ]
  },
  {
   "cell_type": "code",
   "execution_count": 35,
   "metadata": {
    "colab": {
     "base_uri": "https://localhost:8080/",
     "height": 85
    },
    "colab_type": "code",
    "id": "BWuN5RId38CT",
    "outputId": "02757bf6-e10a-4552-ee41-b566fc871a38"
   },
   "outputs": [
    {
     "name": "stdout",
     "output_type": "stream",
     "text": [
      "8860\n",
      "16233\n",
      "1059\n"
     ]
    }
   ],
   "source": [
    "print(lit_vectorizer.vocabulary_.get('happy'))\n",
    "print(lit_vectorizer.vocabulary_.get('sad'))\n",
    "print(lit_vectorizer.vocabulary_.get('angry'))"
   ]
  },
  {
   "cell_type": "markdown",
   "metadata": {
    "colab_type": "text",
    "id": "774DpqAmqPOD"
   },
   "source": [
    "Word-word Matrix"
   ]
  },
  {
   "cell_type": "code",
   "execution_count": 36,
   "metadata": {
    "colab": {},
    "colab_type": "code",
    "id": "jEvSa6KM_F0Y"
   },
   "outputs": [],
   "source": [
    "WW = X.T * X"
   ]
  },
  {
   "cell_type": "markdown",
   "metadata": {
    "colab_type": "text",
    "id": "KI_NJ1WyCbGS"
   },
   "source": [
    "Talk about the matrix math; symmetric matrix"
   ]
  },
  {
   "cell_type": "code",
   "execution_count": 37,
   "metadata": {
    "colab": {
     "base_uri": "https://localhost:8080/",
     "height": 136
    },
    "colab_type": "code",
    "id": "doALHVre_Kxw",
    "outputId": "27ed099d-cdab-42e3-a777-8d8bfc396ef4"
   },
   "outputs": [
    {
     "data": {
      "text/plain": [
       "array([[404,  40,  84, ...,   0,  40,  20],\n",
       "       [ 40,   4,   8, ...,   0,   4,   2],\n",
       "       [ 84,   8,  20, ...,   0,   8,   4],\n",
       "       ...,\n",
       "       [  0,   0,   0, ...,   1,   0,   0],\n",
       "       [ 40,   4,   8, ...,   0,   4,   2],\n",
       "       [ 20,   2,   4, ...,   0,   2,   1]], dtype=int64)"
      ]
     },
     "execution_count": 37,
     "metadata": {},
     "output_type": "execute_result"
    }
   ],
   "source": [
    "WW.toarray()"
   ]
  },
  {
   "cell_type": "code",
   "execution_count": 38,
   "metadata": {
    "colab": {
     "base_uri": "https://localhost:8080/",
     "height": 34
    },
    "colab_type": "code",
    "id": "nwIvToh7_O02",
    "outputId": "e60753b9-c38c-49a2-d4cc-c392badd5a32"
   },
   "outputs": [
    {
     "data": {
      "text/plain": [
       "(21615, 21615)"
      ]
     },
     "execution_count": 38,
     "metadata": {},
     "output_type": "execute_result"
    }
   ],
   "source": [
    "WW.shape"
   ]
  },
  {
   "cell_type": "code",
   "execution_count": 39,
   "metadata": {
    "colab": {},
    "colab_type": "code",
    "id": "qu8v9pzY4pD6"
   },
   "outputs": [],
   "source": [
    "happy_vector = WW[3775,:]\n",
    "sad_vector = WW[6941,:]\n",
    "angry_vector = WW[381,:]"
   ]
  },
  {
   "cell_type": "code",
   "execution_count": 40,
   "metadata": {
    "colab": {
     "base_uri": "https://localhost:8080/",
     "height": 34
    },
    "colab_type": "code",
    "id": "OiKFAW2f5A-O",
    "outputId": "564daa42-922b-49f7-ccf1-4a72c3b52d46"
   },
   "outputs": [
    {
     "data": {
      "text/plain": [
       "array([[10,  0, 10, ...,  0,  0,  0]])"
      ]
     },
     "execution_count": 40,
     "metadata": {},
     "output_type": "execute_result"
    }
   ],
   "source": [
    "angry_vector.toarray()"
   ]
  },
  {
   "cell_type": "markdown",
   "metadata": {
    "colab_type": "text",
    "id": "Ota8XdGSrAXO"
   },
   "source": [
    "PPMI Matrix"
   ]
  },
  {
   "cell_type": "markdown",
   "metadata": {
    "colab_type": "text",
    "id": "eT_d-Y49rkGQ"
   },
   "source": [
    "**Dense Vectorization**"
   ]
  },
  {
   "cell_type": "markdown",
   "metadata": {
    "colab_type": "text",
    "id": "chy7ocWIrmpb"
   },
   "source": [
    "SVD"
   ]
  },
  {
   "cell_type": "code",
   "execution_count": 41,
   "metadata": {
    "colab": {},
    "colab_type": "code",
    "id": "jesnsy1iBe0_"
   },
   "outputs": [],
   "source": [
    "from sklearn.decomposition import TruncatedSVD\n",
    "svd = TruncatedSVD(n_components=8)"
   ]
  },
  {
   "cell_type": "code",
   "execution_count": 42,
   "metadata": {
    "colab": {},
    "colab_type": "code",
    "id": "GAs3YDPPCfLi"
   },
   "outputs": [],
   "source": [
    "dense = svd.fit_transform(WW) #n_samples, n_dims"
   ]
  },
  {
   "cell_type": "code",
   "execution_count": 43,
   "metadata": {
    "colab": {
     "base_uri": "https://localhost:8080/",
     "height": 34
    },
    "colab_type": "code",
    "id": "akYkC0mpCnyy",
    "outputId": "71dff9ca-640d-4ab7-f8fe-1dc71e141bd6"
   },
   "outputs": [
    {
     "data": {
      "text/plain": [
       "(21615, 8)"
      ]
     },
     "execution_count": 43,
     "metadata": {},
     "output_type": "execute_result"
    }
   ],
   "source": [
    "dense.shape"
   ]
  },
  {
   "cell_type": "code",
   "execution_count": 44,
   "metadata": {
    "colab": {},
    "colab_type": "code",
    "id": "jutSseTg4--s"
   },
   "outputs": [],
   "source": [
    "happy_vector_dense = dense[3775,:]\n",
    "sad_vector_dense = dense[6941,:]\n",
    "angry_vector_dense = dense[381,:]"
   ]
  },
  {
   "cell_type": "code",
   "execution_count": 45,
   "metadata": {
    "colab": {
     "base_uri": "https://localhost:8080/",
     "height": 51
    },
    "colab_type": "code",
    "id": "qmF1kLZE2ajU",
    "outputId": "f3f26d7f-3391-462a-d788-e27e2c2f4a05"
   },
   "outputs": [
    {
     "data": {
      "text/plain": [
       "array([ 6.17428676e+04,  1.41191503e+04, -1.61616505e+03,  5.76041794e-11,\n",
       "       -7.92371788e-12, -5.54421465e-12, -8.12995032e-12,  2.63880898e-11])"
      ]
     },
     "execution_count": 45,
     "metadata": {},
     "output_type": "execute_result"
    }
   ],
   "source": [
    "happy_vector_dense"
   ]
  },
  {
   "cell_type": "markdown",
   "metadata": {
    "colab_type": "text",
    "id": "4vq8gl8CFv2M"
   },
   "source": [
    "**Vector** **Math**"
   ]
  },
  {
   "cell_type": "markdown",
   "metadata": {
    "colab_type": "text",
    "id": "13TWG94f-FBx"
   },
   "source": [
    "There are several ways of working with vectors in data science. Since we are working with text data converted into numerial vectors, many of these methods can be applied for text analysis too. Some specific methods tend to perform better for text and these include cosine similarity (over euclidean distance) and k-means (over k-mode or others). \n"
   ]
  },
  {
   "cell_type": "markdown",
   "metadata": {
    "colab_type": "text",
    "id": "8B0PVzF0FzBu"
   },
   "source": [
    "Cosine Similarity"
   ]
  },
  {
   "cell_type": "code",
   "execution_count": 46,
   "metadata": {
    "colab": {},
    "colab_type": "code",
    "id": "I8dz1im5F0J5"
   },
   "outputs": [],
   "source": [
    "from sklearn.metrics.pairwise import cosine_similarity as cossim"
   ]
  },
  {
   "cell_type": "code",
   "execution_count": 49,
   "metadata": {},
   "outputs": [
    {
     "name": "stdout",
     "output_type": "stream",
     "text": [
      "2226\n"
     ]
    }
   ],
   "source": [
    "# So that we can see more contrast when evaluating similarity, let's add in a rather different word: 'biscuit'.\n",
    "print(lit_vectorizer.vocabulary_.get('biscuit'))\n",
    "biscuit_vector_dense = dense[2226,:]"
   ]
  },
  {
   "cell_type": "code",
   "execution_count": 51,
   "metadata": {
    "colab": {},
    "colab_type": "code",
    "id": "iZvvjLEbGFm2"
   },
   "outputs": [],
   "source": [
    "happy_vector = happy_vector_dense.reshape(1,-1) #n_samples_X, n_features\n",
    "sad_vector = sad_vector_dense.reshape(1,-1)\n",
    "angry_vector = angry_vector_dense.reshape(1,-1)\n",
    "biscuit_vector = biscuit_vector_dense.reshape(1,-1)"
   ]
  },
  {
   "cell_type": "code",
   "execution_count": 52,
   "metadata": {
    "colab": {
     "base_uri": "https://localhost:8080/",
     "height": 34
    },
    "colab_type": "code",
    "id": "CRN_oWSpGDzN",
    "outputId": "2dd4cf18-f2f1-4195-cac4-68eb4352561b"
   },
   "outputs": [
    {
     "data": {
      "text/plain": [
       "array([[0.90384606]])"
      ]
     },
     "execution_count": 52,
     "metadata": {},
     "output_type": "execute_result"
    }
   ],
   "source": [
    "cossim(happy_vector, sad_vector)"
   ]
  },
  {
   "cell_type": "code",
   "execution_count": 53,
   "metadata": {
    "colab": {
     "base_uri": "https://localhost:8080/",
     "height": 34
    },
    "colab_type": "code",
    "id": "d3qknGoy5zRt",
    "outputId": "9d67d41e-088c-425c-9df1-226b77d32197"
   },
   "outputs": [
    {
     "data": {
      "text/plain": [
       "array([[0.99307557]])"
      ]
     },
     "execution_count": 53,
     "metadata": {},
     "output_type": "execute_result"
    }
   ],
   "source": [
    "cossim(angry_vector, sad_vector)"
   ]
  },
  {
   "cell_type": "code",
   "execution_count": 54,
   "metadata": {
    "colab": {
     "base_uri": "https://localhost:8080/",
     "height": 34
    },
    "colab_type": "code",
    "id": "fU0OXeJx6KFy",
    "outputId": "df71d8f9-7b5d-429e-b064-35f490d3ba58"
   },
   "outputs": [
    {
     "data": {
      "text/plain": [
       "array([[1.]])"
      ]
     },
     "execution_count": 54,
     "metadata": {},
     "output_type": "execute_result"
    }
   ],
   "source": [
    "cossim(happy_vector, biscuit_vector)"
   ]
  },
  {
   "cell_type": "markdown",
   "metadata": {
    "colab_type": "text",
    "id": "2sGJkBnkIbo7"
   },
   "source": [
    "Clustering - k-means"
   ]
  },
  {
   "cell_type": "markdown",
   "metadata": {
    "colab_type": "text",
    "id": "l_-8lN32_Op1"
   },
   "source": [
    "Let's work with a small set of words\n",
    "\n"
   ]
  },
  {
   "cell_type": "code",
   "execution_count": 55,
   "metadata": {
    "colab": {},
    "colab_type": "code",
    "id": "L0YJiABxHtmb"
   },
   "outputs": [],
   "source": [
    "selection = ['happy','sad','angry','biscuit','bible']"
   ]
  },
  {
   "cell_type": "code",
   "execution_count": 57,
   "metadata": {
    "colab": {},
    "colab_type": "code",
    "id": "qXtgAFfd_EhR"
   },
   "outputs": [
    {
     "data": {
      "text/plain": [
       "array([[ 2.70676246e+06, -6.69452845e+05, -8.68874489e+04,\n",
       "         1.94644020e-09, -5.59598554e-10,  1.02761963e-10,\n",
       "         5.03016318e-10, -8.37499974e-10],\n",
       "       [ 5.82739322e+05, -8.19008773e+04, -3.81291667e+04,\n",
       "         3.17497961e-10, -3.89091964e-10,  4.38609509e-11,\n",
       "         1.13593135e-10, -1.81024632e-10],\n",
       "       [ 8.01710085e+05, -1.63853195e+05,  4.65752330e+04,\n",
       "        -2.99955507e-10, -1.66110047e-10,  4.25557943e-10,\n",
       "         2.18261171e-11, -1.13986247e-10],\n",
       "       [ 1.85228603e+05,  4.23574508e+04, -4.84849514e+03,\n",
       "         2.14488862e-10, -2.33790155e-11, -8.61232401e-11,\n",
       "        -6.32689481e-11,  4.96184747e-11],\n",
       "       [ 2.56366796e+05,  4.71317164e+04, -1.39482054e+03,\n",
       "         6.97057802e-11, -5.94750251e-11, -6.11835314e-11,\n",
       "        -2.58932946e-11,  1.36055935e-10]])"
      ]
     },
     "execution_count": 57,
     "metadata": {},
     "output_type": "execute_result"
    }
   ],
   "source": [
    "#iterate through all of these words to make a matrix\n",
    "select_matrix = []\n",
    "for word in selection:\n",
    "  word_id = lit_vectorizer.vocabulary_.get(word)\n",
    "  select_matrix.append(dense[word_id,:])\n",
    "select_matrix = np.array(select_matrix)\n",
    "select_matrix"
   ]
  },
  {
   "cell_type": "code",
   "execution_count": 58,
   "metadata": {
    "colab": {
     "base_uri": "https://localhost:8080/",
     "height": 34
    },
    "colab_type": "code",
    "id": "MU99nlfeATbd",
    "outputId": "bde748c7-0256-49ea-df9e-a4617559cad0"
   },
   "outputs": [
    {
     "data": {
      "text/plain": [
       "(5, 8)"
      ]
     },
     "execution_count": 58,
     "metadata": {},
     "output_type": "execute_result"
    }
   ],
   "source": [
    "np.array(select_matrix).shape"
   ]
  },
  {
   "cell_type": "code",
   "execution_count": 59,
   "metadata": {
    "colab": {},
    "colab_type": "code",
    "id": "wQ7qjbNCGDxK"
   },
   "outputs": [],
   "source": [
    "from sklearn.cluster import KMeans"
   ]
  },
  {
   "cell_type": "code",
   "execution_count": 60,
   "metadata": {
    "colab": {},
    "colab_type": "code",
    "id": "5948ycvpGDuA"
   },
   "outputs": [],
   "source": [
    "kmeans = KMeans(n_clusters=3)"
   ]
  },
  {
   "cell_type": "code",
   "execution_count": 62,
   "metadata": {
    "colab": {
     "base_uri": "https://localhost:8080/",
     "height": 34
    },
    "colab_type": "code",
    "id": "BoEF5i6pJc0U",
    "outputId": "ec1a9bfc-d1cf-4a71-9dd6-e80b3f662713"
   },
   "outputs": [
    {
     "data": {
      "text/plain": [
       "array([1, 0, 0, 2, 2], dtype=int32)"
      ]
     },
     "execution_count": 62,
     "metadata": {},
     "output_type": "execute_result"
    }
   ],
   "source": [
    "predictions = kmeans.fit_predict(select_matrix)\n",
    "predictions"
   ]
  },
  {
   "cell_type": "markdown",
   "metadata": {
    "colab_type": "text",
    "id": "-U7zY5kXJ1vN"
   },
   "source": [
    "**Visualizations**"
   ]
  },
  {
   "cell_type": "markdown",
   "metadata": {
    "colab_type": "text",
    "id": "DKY4c3g9Kav2"
   },
   "source": [
    "t-sne"
   ]
  },
  {
   "cell_type": "code",
   "execution_count": 63,
   "metadata": {
    "colab": {},
    "colab_type": "code",
    "id": "tfJDByCCKeTn"
   },
   "outputs": [],
   "source": [
    "from sklearn.manifold import TSNE\n",
    "tsne = TSNE(n_components=2) #n-components = reduced dimensions"
   ]
  },
  {
   "cell_type": "markdown",
   "metadata": {
    "colab_type": "text",
    "id": "oeDqU4Zu_NxH"
   },
   "source": []
  },
  {
   "cell_type": "code",
   "execution_count": 64,
   "metadata": {
    "colab": {},
    "colab_type": "code",
    "id": "d9HTginIJcp1"
   },
   "outputs": [],
   "source": [
    "embed = tsne.fit_transform(select_matrix)"
   ]
  },
  {
   "cell_type": "code",
   "execution_count": 65,
   "metadata": {
    "colab": {
     "base_uri": "https://localhost:8080/",
     "height": 379
    },
    "colab_type": "code",
    "id": "j7GKqDoJKpBP",
    "outputId": "7ce6b2c3-0f16-4b48-de42-8e76830fbb83"
   },
   "outputs": [
    {
     "data": {
      "image/png": "[encoded data removed]",
      "text/plain": [
       "<Figure size 432x288 with 1 Axes>"
      ]
     },
     "metadata": {},
     "output_type": "display_data"
    }
   ],
   "source": [
    "random_x, random_y = zip(*embed)\n",
    "plt.scatter(random_x,random_y)\n",
    "plt.title(\"tsne visual of 5 word embeddings\")\n",
    "plt.show()"
   ]
  },
  {
   "cell_type": "markdown",
   "metadata": {
    "colab_type": "text",
    "id": "ZZ3PkjTtLeYu"
   },
   "source": [
    "Clustering"
   ]
  },
  {
   "cell_type": "code",
   "execution_count": 66,
   "metadata": {
    "colab": {},
    "colab_type": "code",
    "id": "ed0bRoXFLeGc"
   },
   "outputs": [],
   "source": [
    "first_cluster = np.array(embed[np.where(predictions == 0)])\n",
    "second_cluster = np.array(embed[np.where(predictions == 1)])\n",
    "third_cluster = np.array(embed[np.where(predictions == 2)])"
   ]
  },
  {
   "cell_type": "code",
   "execution_count": 67,
   "metadata": {
    "colab": {
     "base_uri": "https://localhost:8080/",
     "height": 34
    },
    "colab_type": "code",
    "id": "RNV8YRmfOosZ",
    "outputId": "2a1f45c6-8d6d-4c4e-c2e5-731b71375123"
   },
   "outputs": [
    {
     "data": {
      "text/plain": [
       "array([[  96.82745,  -92.75976],\n",
       "       [  24.85106, -195.75827]], dtype=float32)"
      ]
     },
     "execution_count": 67,
     "metadata": {},
     "output_type": "execute_result"
    }
   ],
   "source": [
    "first_cluster"
   ]
  },
  {
   "cell_type": "code",
   "execution_count": 68,
   "metadata": {
    "colab": {
     "base_uri": "https://localhost:8080/",
     "height": 51
    },
    "colab_type": "code",
    "id": "VSgp_3TtOvKn",
    "outputId": "9d187ecb-4cf1-4f86-9778-e7ba4602def5"
   },
   "outputs": [
    {
     "data": {
      "text/plain": [
       "array([[91.42209, 32.78118]], dtype=float32)"
      ]
     },
     "execution_count": 68,
     "metadata": {},
     "output_type": "execute_result"
    }
   ],
   "source": [
    "second_cluster"
   ]
  },
  {
   "cell_type": "code",
   "execution_count": 69,
   "metadata": {
    "colab": {
     "base_uri": "https://localhost:8080/",
     "height": 379
    },
    "colab_type": "code",
    "id": "3apxF8evOvtL",
    "outputId": "b272d4c6-70ea-4cbf-d74f-5e4366a077b8"
   },
   "outputs": [
    {
     "data": {
      "text/plain": [
       "Text(0.5,1,'k-means clustering of tsne example')"
      ]
     },
     "execution_count": 69,
     "metadata": {},
     "output_type": "execute_result"
    },
    {
     "data": {
      "image/png": "[encoded data removed]",
      "text/plain": [
       "<Figure size 432x288 with 1 Axes>"
      ]
     },
     "metadata": {},
     "output_type": "display_data"
    }
   ],
   "source": [
    "plt.scatter(first_cluster[:,0],first_cluster[:,1], color=\"blue\") #first cluster\n",
    "plt.scatter(second_cluster[:,0],second_cluster[:,1], color=\"red\") #second cluster\n",
    "plt.scatter(third_cluster[:,0],third_cluster[:,1], color=\"green\") #second cluster\n",
    "plt.title(\"k-means clustering of tsne example\")"
   ]
  },
  {
   "cell_type": "markdown",
   "metadata": {
    "colab_type": "text",
    "id": "Sx3VVV2sIYNC"
   },
   "source": [
    "Now, let's do this with the entire set."
   ]
  },
  {
   "cell_type": "code",
   "execution_count": 70,
   "metadata": {
    "colab": {},
    "colab_type": "code",
    "id": "yDVlb1aiIYAP"
   },
   "outputs": [],
   "source": [
    "kmeans = KMeans(n_clusters=15)\n",
    "predictions = kmeans.fit_predict(dense)\n",
    "tsne = TSNE(n_components=2)"
   ]
  },
  {
   "cell_type": "code",
   "execution_count": 71,
   "metadata": {
    "colab": {
     "base_uri": "https://localhost:8080/",
     "height": 870
    },
    "colab_type": "code",
    "id": "i8h7A5kpQKws",
    "outputId": "eb779dc0-c2d0-46f4-ef1a-f547d0fc7408"
   },
   "outputs": [
    {
     "data": {
      "text/plain": [
       "Text(0.5,1,'tsne visual of 5 word embeddings')"
      ]
     },
     "execution_count": 71,
     "metadata": {},
     "output_type": "execute_result"
    },
    {
     "data": {
      "image/png": "[encoded data removed]",
      "text/plain": [
       "<Figure size 432x288 with 1 Axes>"
      ]
     },
     "metadata": {},
     "output_type": "display_data"
    }
   ],
   "source": [
    "embed = tsne.fit_transform(dense)\n",
    "random_x, random_y = zip(*embed)\n",
    "plt.scatter(random_x,random_y)\n",
    "plt.title(\"tsne visual of 5 word embeddings\")"
   ]
  },
  {
   "cell_type": "code",
   "execution_count": 72,
   "metadata": {
    "colab": {},
    "colab_type": "code",
    "id": "GqVbhvK_JIA1"
   },
   "outputs": [],
   "source": [
    "first_cluster = np.array(embed[np.where(predictions == 0)])\n",
    "second_cluster = np.array(embed[np.where(predictions == 1)])\n",
    "third_cluster = np.array(embed[np.where(predictions == 2)])"
   ]
  },
  {
   "cell_type": "code",
   "execution_count": 73,
   "metadata": {
    "colab": {},
    "colab_type": "code",
    "id": "Wc9NXTDlJPyD"
   },
   "outputs": [
    {
     "data": {
      "text/plain": [
       "Text(0.5,1,'k-means clustering of tsne example')"
      ]
     },
     "execution_count": 73,
     "metadata": {},
     "output_type": "execute_result"
    },
    {
     "data": {
      "image/png": "[encoded data removed]",
      "text/plain": [
       "<Figure size 432x288 with 1 Axes>"
      ]
     },
     "metadata": {},
     "output_type": "display_data"
    }
   ],
   "source": [
    "plt.scatter(first_cluster[:,0],first_cluster[:,1], color=\"blue\") #first cluster\n",
    "plt.scatter(second_cluster[:,0],second_cluster[:,1], color=\"red\") #second cluster\n",
    "plt.scatter(third_cluster[:,0],third_cluster[:,1], color=\"green\") #second cluster\n",
    "plt.title(\"k-means clustering of tsne example\")"
   ]
  },
  {
   "cell_type": "markdown",
   "metadata": {
    "colab_type": "text",
    "id": "mC0Ca57F3jnt"
   },
   "source": [
    "# 2. Word Vectors via Word2Vec"
   ]
  },
  {
   "cell_type": "markdown",
   "metadata": {
    "colab_type": "text",
    "id": "BmIAksHbbORY"
   },
   "source": [
    "This unit will focus on Word2Vec as an example of neural net-based approaches of vector encodings, starting with a conceptual overview of the algorithm itself and end with an activity to train participants’ own vectors.\n",
    "- 0:00 - 0:15 Conceptual explanation of Word2Vec\n",
    "- 0:15 - 0:30 Word2Vec Visualization and Vectorial Features and Math\n",
    "- 0:30 - 0:50 [Activity 2] Word2Vec Construction [using Gensim] and Visualization (from part 1) [We provide corpus]"
   ]
  },
  {
   "cell_type": "markdown",
   "metadata": {
    "colab_type": "text",
    "id": "i2Z7WP341e4o"
   },
   "source": [
    "https://arxiv.org/pdf/1310.4546.pdf \n",
    "\n",
    "\n",
    "Some theory on Word2Vec & Deep Learning-based representations\n",
    "\n",
    "> Indented block\n",
    "\n"
   ]
  },
  {
   "cell_type": "code",
   "execution_count": null,
   "metadata": {
    "colab": {
     "base_uri": "https://localhost:8080/",
     "height": 734
    },
    "colab_type": "code",
    "id": "t-Twq7IobbVe",
    "outputId": "a0215d56-97ce-4533-851d-753030b6e619"
   },
   "outputs": [],
   "source": [
    "! pip install gensim"
   ]
  },
  {
   "cell_type": "markdown",
   "metadata": {
    "colab_type": "text",
    "id": "Ez954Qe6bbEj"
   },
   "source": []
  },
  {
   "cell_type": "markdown",
   "metadata": {
    "colab_type": "text",
    "id": "GgOEdLl55YKs"
   },
   "source": [
    "THEORIES: What is Word2Vec/GloVe, Deep Learning-based Word Vectors\n"
   ]
  },
  {
   "cell_type": "code",
   "execution_count": null,
   "metadata": {
    "colab": {},
    "colab_type": "code",
    "id": "9_jjq8kgbVDx"
   },
   "outputs": [],
   "source": [
    "import gensim\n",
    "from nltk.tokenize import sent_tokenize\n",
    "from nltk.tokenize.treebank import TreebankWordTokenizer"
   ]
  },
  {
   "cell_type": "code",
   "execution_count": null,
   "metadata": {
    "colab": {
     "base_uri": "https://localhost:8080/",
     "height": 88
    },
    "colab_type": "code",
    "id": "Q3ba7bu2bWj5",
    "outputId": "2dd2505f-1a94-4051-c16a-1a1db539ccad"
   },
   "outputs": [],
   "source": [
    "#Remember our large corpus with three novels?\n",
    "corpus"
   ]
  },
  {
   "cell_type": "code",
   "execution_count": null,
   "metadata": {
    "colab": {},
    "colab_type": "code",
    "id": "Ua_EyJDOeJRH"
   },
   "outputs": [],
   "source": [
    "sentences = sent_tokenize(corpus[0])  ### split your corpus into sentences\n"
   ]
  },
  {
   "cell_type": "code",
   "execution_count": null,
   "metadata": {
    "colab": {},
    "colab_type": "code",
    "id": "95Ynf_U6i_YM"
   },
   "outputs": [],
   "source": [
    "tokenizer = TreebankWordTokenizer()"
   ]
  },
  {
   "cell_type": "code",
   "execution_count": null,
   "metadata": {
    "colab": {},
    "colab_type": "code",
    "id": "pY08urHpe10z"
   },
   "outputs": [],
   "source": [
    "#takes as input a list of txt and converts it for gensim word2vec model (lower case, sentence tokenization, tokenization)\n",
    "# sentences = [['hi', 'sentence'], ['this', 'is', 'a', 'sentence']]\n",
    "\n",
    "def makeSentences(list_txt):\n",
    "  all_txt = []\n",
    "  for txt in list_txt:\n",
    "    lower_txt = txt.lower()\n",
    "    sentences = sent_tokenize(lower_txt)\n",
    "    sentences = [tokenizer.tokenize(sent) for sent in sentences]\n",
    "    all_txt += sentences\n",
    "    print(len(sentences))\n",
    "  return all_txt"
   ]
  },
  {
   "cell_type": "code",
   "execution_count": null,
   "metadata": {
    "colab": {
     "base_uri": "https://localhost:8080/",
     "height": 68
    },
    "colab_type": "code",
    "id": "zXozpwAVhmGB",
    "outputId": "bd8057d2-cddd-4260-d5a3-c04a5d37fabd"
   },
   "outputs": [],
   "source": [
    "sentences = makeSentences(corpus) "
   ]
  },
  {
   "cell_type": "code",
   "execution_count": null,
   "metadata": {
    "colab": {},
    "colab_type": "code",
    "id": "Fz2O4OipjlcP"
   },
   "outputs": [],
   "source": [
    "model = gensim.models.Word2Vec(sentences, min_count=1, size=100)\n",
    "#Talk about parameters here: what is the min_count? size?"
   ]
  },
  {
   "cell_type": "code",
   "execution_count": null,
   "metadata": {
    "colab": {},
    "colab_type": "code",
    "id": "K0_-ZWmpn13t"
   },
   "outputs": [],
   "source": [
    "model.save('/tmp/model')"
   ]
  },
  {
   "cell_type": "code",
   "execution_count": null,
   "metadata": {
    "colab": {},
    "colab_type": "code",
    "id": "Pl9Z77T8ovA7"
   },
   "outputs": [],
   "source": [
    "our_model = gensim.models.Word2Vec.load('/tmp/model')"
   ]
  },
  {
   "cell_type": "code",
   "execution_count": null,
   "metadata": {
    "colab": {
     "base_uri": "https://localhost:8080/",
     "height": 459
    },
    "colab_type": "code",
    "id": "kfXeSgtWo0BY",
    "outputId": "dd21adf0-68fa-4c46-f5ea-65054925c759"
   },
   "outputs": [],
   "source": [
    "model.wv['is']"
   ]
  },
  {
   "cell_type": "code",
   "execution_count": null,
   "metadata": {
    "colab": {
     "base_uri": "https://localhost:8080/",
     "height": 374
    },
    "colab_type": "code",
    "id": "3aqN1WPco_Xw",
    "outputId": "c9833aca-4a5f-4003-f4ca-f30a4fd54a82"
   },
   "outputs": [],
   "source": [
    "model.wv['you']"
   ]
  },
  {
   "cell_type": "code",
   "execution_count": null,
   "metadata": {
    "colab": {
     "base_uri": "https://localhost:8080/",
     "height": 374
    },
    "colab_type": "code",
    "id": "QYcL8lhVpSM5",
    "outputId": "2b45d99d-58d4-42a8-e1e5-a40698a68b88"
   },
   "outputs": [],
   "source": [
    "model.wv['love']"
   ]
  },
  {
   "cell_type": "code",
   "execution_count": null,
   "metadata": {
    "colab": {
     "base_uri": "https://localhost:8080/",
     "height": 34
    },
    "colab_type": "code",
    "id": "SoRdvxLppTp4",
    "outputId": "078f248b-9f4c-434d-eb84-18633a4af2e0"
   },
   "outputs": [],
   "source": [
    "type(model.wv)"
   ]
  },
  {
   "cell_type": "code",
   "execution_count": null,
   "metadata": {
    "colab": {},
    "colab_type": "code",
    "id": "BK_mbZvZprxR"
   },
   "outputs": [],
   "source": [
    "my_model = model.wv"
   ]
  },
  {
   "cell_type": "code",
   "execution_count": null,
   "metadata": {
    "colab": {},
    "colab_type": "code",
    "id": "71nV3dBdsFg7"
   },
   "outputs": [],
   "source": [
    "del model #to save RAM\n"
   ]
  },
  {
   "cell_type": "code",
   "execution_count": null,
   "metadata": {
    "colab": {
     "base_uri": "https://localhost:8080/",
     "height": 34
    },
    "colab_type": "code",
    "id": "wK8zeds0tAcM",
    "outputId": "2fee1897-8f3a-45ac-9b02-9246f51d20db"
   },
   "outputs": [],
   "source": [
    "len(my_model.vocab) #number of words in our model"
   ]
  },
  {
   "cell_type": "code",
   "execution_count": null,
   "metadata": {
    "colab": {},
    "colab_type": "code",
    "id": "NEO8kpZctDMF"
   },
   "outputs": [],
   "source": [
    "#similarity tasks"
   ]
  },
  {
   "cell_type": "code",
   "execution_count": null,
   "metadata": {
    "colab": {
     "base_uri": "https://localhost:8080/",
     "height": 187
    },
    "colab_type": "code",
    "id": "LVtAa_mItlrC",
    "outputId": "eddc556e-2821-45c5-e4f1-4b858788aabc"
   },
   "outputs": [],
   "source": [
    "my_model.most_similar(positive=['love','happy'], negative=['murder'])"
   ]
  },
  {
   "cell_type": "code",
   "execution_count": null,
   "metadata": {
    "colab": {
     "base_uri": "https://localhost:8080/",
     "height": 187
    },
    "colab_type": "code",
    "id": "m_mQog_NtsPk",
    "outputId": "b91f0da0-6b97-4d62-e352-ea060eb9dc3b"
   },
   "outputs": [],
   "source": [
    "my_model.most_similar_cosmul(positive=['woman','king'], negative=['man'])"
   ]
  },
  {
   "cell_type": "code",
   "execution_count": null,
   "metadata": {
    "colab": {
     "base_uri": "https://localhost:8080/",
     "height": 34
    },
    "colab_type": "code",
    "id": "MFvHzzQduHxS",
    "outputId": "9f2db98e-2df9-48bc-ae41-fc9e2d68238a"
   },
   "outputs": [],
   "source": [
    "my_model.similarity('woman','man')"
   ]
  },
  {
   "cell_type": "code",
   "execution_count": null,
   "metadata": {
    "colab": {
     "base_uri": "https://localhost:8080/",
     "height": 34
    },
    "colab_type": "code",
    "id": "HMzu5o8QuNv2",
    "outputId": "fdfd0742-c624-443c-b95a-b0e4bed7dad4"
   },
   "outputs": [],
   "source": [
    "my_model.similarity('woman','dance')"
   ]
  },
  {
   "cell_type": "code",
   "execution_count": null,
   "metadata": {
    "colab": {},
    "colab_type": "code",
    "id": "zbb-U2M4uRTq"
   },
   "outputs": [],
   "source": [
    "# see documentation here for more built-in tools! https://radimrehurek.com/gensim/models/keyedvectors.html\n",
    "\n"
   ]
  },
  {
   "cell_type": "markdown",
   "metadata": {
    "colab_type": "text",
    "id": "GJGnks7v6CL9"
   },
   "source": [
    "TODO: Theory on different parameters of Word2Vec that you can tune!"
   ]
  },
  {
   "cell_type": "code",
   "execution_count": null,
   "metadata": {
    "colab": {},
    "colab_type": "code",
    "id": "1ZICkWG4ucbz"
   },
   "outputs": [],
   "source": [
    "#For now, let's work with some pretrained vectors"
   ]
  },
  {
   "cell_type": "markdown",
   "metadata": {
    "colab_type": "text",
    "id": "jcbuFUuy6Gov"
   },
   "source": [
    "TODO What are good vectors? What are bad vectors? How much training/data do we need?"
   ]
  },
  {
   "cell_type": "code",
   "execution_count": null,
   "metadata": {
    "colab": {},
    "colab_type": "code",
    "id": "QkCJ8CLrm26g"
   },
   "outputs": [],
   "source": [
    "import gensim.downloader as pretrained"
   ]
  },
  {
   "cell_type": "code",
   "execution_count": null,
   "metadata": {
    "colab": {
     "base_uri": "https://localhost:8080/",
     "height": 54
    },
    "colab_type": "code",
    "id": "tI1eIIVPuRZk",
    "outputId": "59ed19a0-5f82-488c-846b-a43276935149"
   },
   "outputs": [],
   "source": [
    "#all corpora available\n",
    "pretrained.info()['corpora'].keys()\n"
   ]
  },
  {
   "cell_type": "code",
   "execution_count": null,
   "metadata": {
    "colab": {
     "base_uri": "https://localhost:8080/",
     "height": 2621
    },
    "colab_type": "code",
    "id": "yIGhNCir4J4J",
    "outputId": "fe3a2725-f7d2-440f-9f9c-b2bb5e7aad40"
   },
   "outputs": [],
   "source": [
    "pretrained.info()['corpora']"
   ]
  },
  {
   "cell_type": "code",
   "execution_count": null,
   "metadata": {
    "colab": {
     "base_uri": "https://localhost:8080/",
     "height": 54
    },
    "colab_type": "code",
    "id": "v4HANfbmuWXB",
    "outputId": "ff4ac4a6-ad13-4ea3-b9b9-dd9fe6728125"
   },
   "outputs": [],
   "source": [
    "#all models available\n",
    "pretrained.info()['models'].keys()"
   ]
  },
  {
   "cell_type": "code",
   "execution_count": null,
   "metadata": {
    "colab": {
     "base_uri": "https://localhost:8080/",
     "height": 275
    },
    "colab_type": "code",
    "id": "tvMxUDonvGVh",
    "outputId": "981058dd-9446-4e0f-8252-0ea8828426d7"
   },
   "outputs": [],
   "source": [
    "#let's work with the word2vec trained on google news\n",
    "#let's look at some description\n",
    "pretrained.info('')"
   ]
  },
  {
   "cell_type": "code",
   "execution_count": null,
   "metadata": {
    "colab": {},
    "colab_type": "code",
    "id": "wb43yxAevXe6"
   },
   "outputs": [],
   "source": [
    "news_model = pretrained.load('word2vec-google-news-300')"
   ]
  },
  {
   "cell_type": "code",
   "execution_count": null,
   "metadata": {
    "colab": {
     "base_uri": "https://localhost:8080/",
     "height": 187
    },
    "colab_type": "code",
    "id": "xZyawfSt18PM",
    "outputId": "78b65947-88bc-4d6d-ff10-02a45dfd02cc"
   },
   "outputs": [],
   "source": [
    "news_model.most_similar(positive=['love','happy'], negative=['murder'])"
   ]
  },
  {
   "cell_type": "code",
   "execution_count": null,
   "metadata": {
    "colab": {},
    "colab_type": "code",
    "id": "-3KLTgAm2yhF"
   },
   "outputs": [],
   "source": []
  },
  {
   "cell_type": "code",
   "execution_count": null,
   "metadata": {
    "colab": {},
    "colab_type": "code",
    "id": "bJLZfUom18eL"
   },
   "outputs": [],
   "source": []
  },
  {
   "cell_type": "code",
   "execution_count": null,
   "metadata": {
    "colab": {},
    "colab_type": "code",
    "id": "RrJES7pivlhy"
   },
   "outputs": [],
   "source": []
  },
  {
   "cell_type": "markdown",
   "metadata": {
    "colab_type": "text",
    "id": "Xqvruymd4N3k"
   },
   "source": [
    "# 3. Pre-trained Models and Extended Vector Algorithms"
   ]
  },
  {
   "cell_type": "markdown",
   "metadata": {
    "colab_type": "text",
    "id": "M6yxJa_-4zNv"
   },
   "source": []
  },
  {
   "cell_type": "markdown",
   "metadata": {
    "colab_type": "text",
    "id": "fb1-Ea5t4Qgp"
   },
   "source": [
    "# 4. Role of Bias in Word Embeddings"
   ]
  },
  {
   "cell_type": "code",
   "execution_count": null,
   "metadata": {
    "colab": {},
    "colab_type": "code",
    "id": "69ORpTNM4ROV"
   },
   "outputs": [],
   "source": []
  }
 ],
 "metadata": {
  "colab": {
   "name": "dh2018_workshop_wordvectors.ipynb",
   "provenance": [],
   "toc_visible": true,
   "version": "0.3.2"
  },
  "kernelspec": {
   "display_name": "Python 3",
   "language": "python",
   "name": "python3"
  },
  "language_info": {
   "codemirror_mode": {
    "name": "ipython",
    "version": 3
   },
   "file_extension": ".py",
   "mimetype": "text/x-python",
   "name": "python",
   "nbconvert_exporter": "python",
   "pygments_lexer": "ipython3",
   "version": "3.6.1"
  }
 },
 "nbformat": 4,
 "nbformat_minor": 2
}
