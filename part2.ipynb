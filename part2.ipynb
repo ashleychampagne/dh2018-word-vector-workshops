{
 "cells": [
  {
   "cell_type": "markdown",
   "metadata": {},
   "source": [
    "# Machine Reading: Advanced Topics in Word Vectors\n",
    "## Part II. Word Vectors via Word2Vec (50 mins)\n",
    "\n",
    "This is a 4-part series of Jupyter notebooks on the topic of word embeddings originally created for a workshop during the Digital Humanities 2018 Conference in Mexico City. Each part is comprised of a mix of theoretical explanations and fill-in-the-blanks activities of increasing difficulty.\n",
    "\n",
    "Instructors:\n",
    "- Eun Seo Jo, <a href=\"mailto:eunseo@stanford.edu\">*eunseo@stanford.edu*</a>, Stanford University\n",
    "- Javier de la Rosa, <a href=\"mailto:versae@stanford.edu\">*versae@stanford.edu*</a>, Stanford University\n",
    "- Scott Bailey, <a href=\"mailto:scottbailey@stanford.edu\">*scottbailey@stanford.edu*</a>, Stanford University"
   ]
  },
  {
   "cell_type": "markdown",
   "metadata": {},
   "source": [
    "This unit will focus on Word2Vec as an example of neural net-based approaches of vector encodings, starting with a conceptual overview of the algorithm itself and end with an activity to train participants’ own vectors.\n",
    "\n",
    "● 0:00 - 0:15 Conceptual explanation of Word2Vec\n",
    "\n",
    "● 0:15 - 0:30 Word2Vec Visualization and Vectorial Features and Math\n",
    "\n",
    "● 0:30 - 0:50 [Activity 2] Word2Vec Construction [using Gensim] and Visualization (from part 1) [We provide corpus]"
   ]
  },
  {
   "cell_type": "markdown",
   "metadata": {},
   "source": []
  },
  {
   "cell_type": "markdown",
   "metadata": {},
   "source": []
  },
  {
   "cell_type": "code",
   "execution_count": 1,
   "metadata": {},
   "outputs": [
    {
     "name": "stdout",
     "output_type": "stream",
     "text": [
      "Requirement already satisfied: gensim in /anaconda3/lib/python3.6/site-packages (3.4.0)\n",
      "Requirement already satisfied: numpy>=1.11.3 in /anaconda3/lib/python3.6/site-packages (from gensim) (1.14.3)\n",
      "Requirement already satisfied: scipy>=0.18.1 in /anaconda3/lib/python3.6/site-packages (from gensim) (1.1.0)\n",
      "Requirement already satisfied: six>=1.5.0 in /anaconda3/lib/python3.6/site-packages (from gensim) (1.11.0)\n",
      "Requirement already satisfied: smart_open>=1.2.1 in /anaconda3/lib/python3.6/site-packages (from gensim) (1.5.7)\n",
      "Requirement already satisfied: boto>=2.32 in /anaconda3/lib/python3.6/site-packages (from smart_open>=1.2.1->gensim) (2.48.0)\n",
      "Requirement already satisfied: bz2file in /anaconda3/lib/python3.6/site-packages (from smart_open>=1.2.1->gensim) (0.98)\n",
      "Requirement already satisfied: requests in /anaconda3/lib/python3.6/site-packages (from smart_open>=1.2.1->gensim) (2.18.4)\n",
      "Requirement already satisfied: boto3 in /anaconda3/lib/python3.6/site-packages (from smart_open>=1.2.1->gensim) (1.7.33)\n",
      "Requirement already satisfied: chardet<3.1.0,>=3.0.2 in /anaconda3/lib/python3.6/site-packages (from requests->smart_open>=1.2.1->gensim) (3.0.4)\n",
      "Requirement already satisfied: idna<2.7,>=2.5 in /anaconda3/lib/python3.6/site-packages (from requests->smart_open>=1.2.1->gensim) (2.6)\n",
      "Requirement already satisfied: urllib3<1.23,>=1.21.1 in /anaconda3/lib/python3.6/site-packages (from requests->smart_open>=1.2.1->gensim) (1.22)\n",
      "Requirement already satisfied: certifi>=2017.4.17 in /anaconda3/lib/python3.6/site-packages (from requests->smart_open>=1.2.1->gensim) (2018.4.16)\n",
      "Requirement already satisfied: botocore<1.11.0,>=1.10.33 in /anaconda3/lib/python3.6/site-packages (from boto3->smart_open>=1.2.1->gensim) (1.10.33)\n",
      "Requirement already satisfied: jmespath<1.0.0,>=0.7.1 in /anaconda3/lib/python3.6/site-packages (from boto3->smart_open>=1.2.1->gensim) (0.9.3)\n",
      "Requirement already satisfied: s3transfer<0.2.0,>=0.1.10 in /anaconda3/lib/python3.6/site-packages (from boto3->smart_open>=1.2.1->gensim) (0.1.13)\n",
      "Requirement already satisfied: docutils>=0.10 in /anaconda3/lib/python3.6/site-packages (from botocore<1.11.0,>=1.10.33->boto3->smart_open>=1.2.1->gensim) (0.14)\n",
      "Requirement already satisfied: python-dateutil<3.0.0,>=2.1 in /anaconda3/lib/python3.6/site-packages (from botocore<1.11.0,>=1.10.33->boto3->smart_open>=1.2.1->gensim) (2.7.3)\n",
      "\u001b[31mdistributed 1.21.8 requires msgpack, which is not installed.\u001b[0m\n"
     ]
    }
   ],
   "source": [
    "! pip install gensim"
   ]
  },
  {
   "cell_type": "code",
   "execution_count": 2,
   "metadata": {},
   "outputs": [],
   "source": [
    "import gensim\n",
    "from nltk.tokenize import sent_tokenize\n",
    "from nltk.tokenize.treebank import TreebankWordTokenizer"
   ]
  },
  {
   "cell_type": "code",
   "execution_count": 3,
   "metadata": {},
   "outputs": [],
   "source": [
    "### reimporting and reloading materials from part 1\n",
    "from nltk.corpus import gutenberg"
   ]
  },
  {
   "cell_type": "code",
   "execution_count": 4,
   "metadata": {},
   "outputs": [],
   "source": [
    "mobydick = gutenberg.raw('melville-moby_dick.txt')\n",
    "emma = gutenberg.raw('austen-emma.txt')\n",
    "parents = gutenberg.raw('edgeworth-parents.txt')\n",
    "\n"
   ]
  },
  {
   "cell_type": "code",
   "execution_count": 5,
   "metadata": {},
   "outputs": [],
   "source": [
    "corpus = [mobydick, emma, parents]"
   ]
  },
  {
   "cell_type": "code",
   "execution_count": 7,
   "metadata": {},
   "outputs": [],
   "source": [
    "#Let's split our corpus into setences. Example of doing this on mobydick.\n",
    "sentences = sent_tokenize(corpus[0])\n"
   ]
  },
  {
   "cell_type": "code",
   "execution_count": 8,
   "metadata": {},
   "outputs": [],
   "source": [
    "tokenizer = TreebankWordTokenizer()"
   ]
  },
  {
   "cell_type": "code",
   "execution_count": 9,
   "metadata": {},
   "outputs": [],
   "source": [
    "#Takes as input a list of text and converts it for gensim word2vec \n",
    "# (lower case, sentence tokenization, tokenization)\n",
    "# sentences = [['hi', 'there'], ['this', 'is', 'a', 'sentence']]\n",
    "\n",
    "def makeSentences(list_txt):\n",
    "  all_txt = []\n",
    "  for txt in list_txt:\n",
    "    lower_txt = txt.lower()\n",
    "    sentences = sent_tokenize(lower_txt)\n",
    "    sentences = [tokenizer.tokenize(sent) for sent in sentences]\n",
    "    all_txt += sentences\n",
    "    print(len(sentences))# let's check how many sentences there are per item\n",
    "  return all_txt"
   ]
  },
  {
   "cell_type": "code",
   "execution_count": 10,
   "metadata": {},
   "outputs": [
    {
     "name": "stdout",
     "output_type": "stream",
     "text": [
      "9822\n",
      "7489\n",
      "10054\n"
     ]
    }
   ],
   "source": [
    "sentences = makeSentences(corpus)"
   ]
  },
  {
   "cell_type": "code",
   "execution_count": 157,
   "metadata": {},
   "outputs": [],
   "source": [
    "#To train our vectors we call this funtion below. This function has a couple dozen parameters some are more important than others.\n",
    "#We will explain a few major parameters here. The fields that are MANDATORY are marked with an asterisk:\n",
    "# 1. sentences*: This is where you provide your data. It must be in a format of iterable of iterables.\n",
    "# 2. sg: Your choice of training algorithm. There are two ways of training W2V vectors -- 'skipgram' and 'CBOW'.\n",
    "#        If you enter 1 here the skip-gram is applied; otherwise, the default is CBOW.\n",
    "# 3. size*: This is the length of your resulting word vectors. If you have a large corpus (>1 billion tokens) you can \n",
    "#          go up to 100-300 dimensions. Generally word vectors with more dimensions gives better results.\n",
    "# 4. window: This is the window of context words you are training on. In other words, how many words come before and after your given word.\n",
    "#          A good number is 50 here but this can vary depending on what you are interested in. For instance, if you are more interested\n",
    "#          in embeddings that embody semantic meaning, smaller window sizes work better. \n",
    "# 5. alpha: learning rate of your model. If you are interested in machine learning experimentations of your vectors you may experiment with this parameter.\n",
    "# 6. seed (int): this is the random seed for your random initialization. All deep learning models initialize the weights with random floats before training.\n",
    "#          This is a useful field if you want to replicate your experiments because giving this a seed will initialize 'randomly' deterministically.\n",
    "# 7. min_count: This is the minimum frequency threshold. If a given word appears with lower frequency than provided it will be ignored. This is here because words with very low\n",
    "#             frequency are hard to train.\n",
    "# 8. iter: This is the number of iterations(entire run) over the corpus, also known as epochs. Usually anything between 1-10 is ok. \n",
    "#        The trade offs are that if you have higher iterations, it will take longer to train and the model may overfit on your dataset.\n",
    "#     However, longer training will allow your vectors to perform better on tasks relevant to your dataset.\n",
    "\n",
    "# Overall, most of these settings wil not concern you unless you are interested in very specific usages of word vectors.\n",
    "\n",
    "model_example = gensim.models.Word2Vec(sentences, min_count=1, size=100)\n"
   ]
  },
  {
   "cell_type": "code",
   "execution_count": 51,
   "metadata": {},
   "outputs": [],
   "source": [
    "#Another way of training word2vec vectors with gensim is to use the LineSentence function\n",
    "linesentence_example = gensim.models.word2vec.LineSentence('text8') #provide the name of the corpus text you want to train on"
   ]
  },
  {
   "cell_type": "code",
   "execution_count": 52,
   "metadata": {},
   "outputs": [],
   "source": [
    "model = gensim.models.Word2Vec(linesentence_example, min_count=1, size=100)"
   ]
  },
  {
   "cell_type": "code",
   "execution_count": 53,
   "metadata": {},
   "outputs": [
    {
     "data": {
      "text/plain": [
       "{'anarchism': <gensim.models.keyedvectors.Vocab at 0x1a38014048>,\n",
       " 'originated': <gensim.models.keyedvectors.Vocab at 0x1a38014080>,\n",
       " 'as': <gensim.models.keyedvectors.Vocab at 0x1a380140b8>,\n",
       " 'a': <gensim.models.keyedvectors.Vocab at 0x1a380140f0>,\n",
       " 'term': <gensim.models.keyedvectors.Vocab at 0x1a38014128>,\n",
       " 'of': <gensim.models.keyedvectors.Vocab at 0x1a38014160>,\n",
       " 'abuse': <gensim.models.keyedvectors.Vocab at 0x1a38014198>,\n",
       " 'first': <gensim.models.keyedvectors.Vocab at 0x1a380141d0>,\n",
       " 'used': <gensim.models.keyedvectors.Vocab at 0x1a38014208>,\n",
       " 'against': <gensim.models.keyedvectors.Vocab at 0x1a38014240>,\n",
       " 'early': <gensim.models.keyedvectors.Vocab at 0x1a38014278>,\n",
       " 'working': <gensim.models.keyedvectors.Vocab at 0x1a380142b0>,\n",
       " 'class': <gensim.models.keyedvectors.Vocab at 0x1a380142e8>,\n",
       " 'radicals': <gensim.models.keyedvectors.Vocab at 0x1a38014320>,\n",
       " 'including': <gensim.models.keyedvectors.Vocab at 0x1a38014358>,\n",
       " 'the': <gensim.models.keyedvectors.Vocab at 0x1a38014390>,\n",
       " 'diggers': <gensim.models.keyedvectors.Vocab at 0x1a380143c8>,\n",
       " 'english': <gensim.models.keyedvectors.Vocab at 0x1a38014400>,\n",
       " 'revolution': <gensim.models.keyedvectors.Vocab at 0x1a38014438>,\n",
       " 'and': <gensim.models.keyedvectors.Vocab at 0x1a38014470>,\n",
       " 'sans': <gensim.models.keyedvectors.Vocab at 0x1a380144a8>,\n",
       " 'culottes': <gensim.models.keyedvectors.Vocab at 0x1a380144e0>,\n",
       " 'french': <gensim.models.keyedvectors.Vocab at 0x1a38014518>,\n",
       " 'whilst': <gensim.models.keyedvectors.Vocab at 0x1a38014550>,\n",
       " 'is': <gensim.models.keyedvectors.Vocab at 0x1a38014588>,\n",
       " 'still': <gensim.models.keyedvectors.Vocab at 0x1a380145c0>,\n",
       " 'in': <gensim.models.keyedvectors.Vocab at 0x1a380145f8>,\n",
       " 'pejorative': <gensim.models.keyedvectors.Vocab at 0x1a38014630>,\n",
       " 'way': <gensim.models.keyedvectors.Vocab at 0x1a38014668>,\n",
       " 'to': <gensim.models.keyedvectors.Vocab at 0x1a380146a0>,\n",
       " 'describe': <gensim.models.keyedvectors.Vocab at 0x1a380146d8>,\n",
       " 'any': <gensim.models.keyedvectors.Vocab at 0x1a38014710>,\n",
       " 'act': <gensim.models.keyedvectors.Vocab at 0x1a38014748>,\n",
       " 'that': <gensim.models.keyedvectors.Vocab at 0x1a38014780>,\n",
       " 'violent': <gensim.models.keyedvectors.Vocab at 0x1a380147b8>,\n",
       " 'means': <gensim.models.keyedvectors.Vocab at 0x1a380147f0>,\n",
       " 'destroy': <gensim.models.keyedvectors.Vocab at 0x1a38014828>,\n",
       " 'organization': <gensim.models.keyedvectors.Vocab at 0x1a38014860>,\n",
       " 'society': <gensim.models.keyedvectors.Vocab at 0x1a38014898>,\n",
       " 'it': <gensim.models.keyedvectors.Vocab at 0x1a380148d0>,\n",
       " 'has': <gensim.models.keyedvectors.Vocab at 0x1a38014908>,\n",
       " 'also': <gensim.models.keyedvectors.Vocab at 0x1a38014940>,\n",
       " 'been': <gensim.models.keyedvectors.Vocab at 0x1a38014978>,\n",
       " 'taken': <gensim.models.keyedvectors.Vocab at 0x1a380149b0>,\n",
       " 'up': <gensim.models.keyedvectors.Vocab at 0x1a380149e8>,\n",
       " 'positive': <gensim.models.keyedvectors.Vocab at 0x1a38014a20>,\n",
       " 'label': <gensim.models.keyedvectors.Vocab at 0x1a38014a58>,\n",
       " 'by': <gensim.models.keyedvectors.Vocab at 0x1a38014a90>,\n",
       " 'self': <gensim.models.keyedvectors.Vocab at 0x1a38014ac8>,\n",
       " 'defined': <gensim.models.keyedvectors.Vocab at 0x1a38014b00>,\n",
       " 'anarchists': <gensim.models.keyedvectors.Vocab at 0x1a38014b38>,\n",
       " 'word': <gensim.models.keyedvectors.Vocab at 0x1a38014b70>,\n",
       " 'derived': <gensim.models.keyedvectors.Vocab at 0x1a38014ba8>,\n",
       " 'from': <gensim.models.keyedvectors.Vocab at 0x1a38014be0>,\n",
       " 'greek': <gensim.models.keyedvectors.Vocab at 0x1a38014c18>,\n",
       " 'without': <gensim.models.keyedvectors.Vocab at 0x1a38014c50>,\n",
       " 'archons': <gensim.models.keyedvectors.Vocab at 0x1a38014cc0>,\n",
       " 'ruler': <gensim.models.keyedvectors.Vocab at 0x1a38014cf8>,\n",
       " 'chief': <gensim.models.keyedvectors.Vocab at 0x1a38014d30>,\n",
       " 'king': <gensim.models.keyedvectors.Vocab at 0x1a38014d68>,\n",
       " 'political': <gensim.models.keyedvectors.Vocab at 0x1a38014da0>,\n",
       " 'philosophy': <gensim.models.keyedvectors.Vocab at 0x1a38014dd8>,\n",
       " 'belief': <gensim.models.keyedvectors.Vocab at 0x1a38014e10>,\n",
       " 'rulers': <gensim.models.keyedvectors.Vocab at 0x1a38014e48>,\n",
       " 'are': <gensim.models.keyedvectors.Vocab at 0x1a38014e80>,\n",
       " 'unnecessary': <gensim.models.keyedvectors.Vocab at 0x1a38014eb8>,\n",
       " 'should': <gensim.models.keyedvectors.Vocab at 0x1a38014ef0>,\n",
       " 'be': <gensim.models.keyedvectors.Vocab at 0x1a38014f28>,\n",
       " 'abolished': <gensim.models.keyedvectors.Vocab at 0x1a38014f60>,\n",
       " 'although': <gensim.models.keyedvectors.Vocab at 0x1a38014f98>,\n",
       " 'there': <gensim.models.keyedvectors.Vocab at 0x1a38014fd0>,\n",
       " 'differing': <gensim.models.keyedvectors.Vocab at 0x1a38028048>,\n",
       " 'interpretations': <gensim.models.keyedvectors.Vocab at 0x1a38028080>,\n",
       " 'what': <gensim.models.keyedvectors.Vocab at 0x1a2407d3c8>,\n",
       " 'this': <gensim.models.keyedvectors.Vocab at 0x1a2b8a3518>,\n",
       " 'refers': <gensim.models.keyedvectors.Vocab at 0x1a2b8a3908>,\n",
       " 'related': <gensim.models.keyedvectors.Vocab at 0x112474e80>,\n",
       " 'social': <gensim.models.keyedvectors.Vocab at 0x1a2b89af28>,\n",
       " 'movements': <gensim.models.keyedvectors.Vocab at 0x1a2b89d438>,\n",
       " 'advocate': <gensim.models.keyedvectors.Vocab at 0x1a2b89d320>,\n",
       " 'elimination': <gensim.models.keyedvectors.Vocab at 0x1a2b89dda0>,\n",
       " 'authoritarian': <gensim.models.keyedvectors.Vocab at 0x1a2b89d6d8>,\n",
       " 'institutions': <gensim.models.keyedvectors.Vocab at 0x1a2b89dbe0>,\n",
       " 'particularly': <gensim.models.keyedvectors.Vocab at 0x1a2b89da90>,\n",
       " 'state': <gensim.models.keyedvectors.Vocab at 0x1a2b89da58>,\n",
       " 'anarchy': <gensim.models.keyedvectors.Vocab at 0x1a2b89d5f8>,\n",
       " 'most': <gensim.models.keyedvectors.Vocab at 0x1a2b89d470>,\n",
       " 'use': <gensim.models.keyedvectors.Vocab at 0x1a2b89d1d0>,\n",
       " 'does': <gensim.models.keyedvectors.Vocab at 0x1a2b89d160>,\n",
       " 'not': <gensim.models.keyedvectors.Vocab at 0x1a2b89d6a0>,\n",
       " 'imply': <gensim.models.keyedvectors.Vocab at 0x1a2b89d588>,\n",
       " 'chaos': <gensim.models.keyedvectors.Vocab at 0x1a2b89de10>,\n",
       " 'nihilism': <gensim.models.keyedvectors.Vocab at 0x1a2b89dc88>,\n",
       " 'or': <gensim.models.keyedvectors.Vocab at 0x1a2b89d978>,\n",
       " 'anomie': <gensim.models.keyedvectors.Vocab at 0x1a2b89d7f0>,\n",
       " 'but': <gensim.models.keyedvectors.Vocab at 0x1a2b89dd30>,\n",
       " 'rather': <gensim.models.keyedvectors.Vocab at 0x1a2b89de80>,\n",
       " 'harmonious': <gensim.models.keyedvectors.Vocab at 0x1a2b89de48>,\n",
       " 'anti': <gensim.models.keyedvectors.Vocab at 0x1a2b89df28>,\n",
       " 'place': <gensim.models.keyedvectors.Vocab at 0x1a2b89d240>,\n",
       " 'regarded': <gensim.models.keyedvectors.Vocab at 0x1a2b89d400>,\n",
       " 'structures': <gensim.models.keyedvectors.Vocab at 0x1a2b89df98>,\n",
       " 'coercive': <gensim.models.keyedvectors.Vocab at 0x1a2b89ddd8>,\n",
       " 'economic': <gensim.models.keyedvectors.Vocab at 0x1a2b89d9b0>,\n",
       " 'relations': <gensim.models.keyedvectors.Vocab at 0x1a2b89d0b8>,\n",
       " 'based': <gensim.models.keyedvectors.Vocab at 0x1a2b89dac8>,\n",
       " 'upon': <gensim.models.keyedvectors.Vocab at 0x1a2b89d390>,\n",
       " 'voluntary': <gensim.models.keyedvectors.Vocab at 0x1a2b89d080>,\n",
       " 'association': <gensim.models.keyedvectors.Vocab at 0x1a2b89db70>,\n",
       " 'autonomous': <gensim.models.keyedvectors.Vocab at 0x1a2b89da20>,\n",
       " 'individuals': <gensim.models.keyedvectors.Vocab at 0x1a380280b8>,\n",
       " 'mutual': <gensim.models.keyedvectors.Vocab at 0x1a380280f0>,\n",
       " 'aid': <gensim.models.keyedvectors.Vocab at 0x1a38028128>,\n",
       " 'governance': <gensim.models.keyedvectors.Vocab at 0x1a38028160>,\n",
       " 'while': <gensim.models.keyedvectors.Vocab at 0x1a38028198>,\n",
       " 'easily': <gensim.models.keyedvectors.Vocab at 0x1a380281d0>,\n",
       " 'offer': <gensim.models.keyedvectors.Vocab at 0x1a38028208>,\n",
       " 'visions': <gensim.models.keyedvectors.Vocab at 0x1a38028240>,\n",
       " 'they': <gensim.models.keyedvectors.Vocab at 0x1a38028278>,\n",
       " 'believe': <gensim.models.keyedvectors.Vocab at 0x1a380282b0>,\n",
       " 'truly': <gensim.models.keyedvectors.Vocab at 0x1a380282e8>,\n",
       " 'free': <gensim.models.keyedvectors.Vocab at 0x1a38028320>,\n",
       " 'however': <gensim.models.keyedvectors.Vocab at 0x1a38028358>,\n",
       " 'ideas': <gensim.models.keyedvectors.Vocab at 0x1a380283c8>,\n",
       " 'about': <gensim.models.keyedvectors.Vocab at 0x1a38028400>,\n",
       " 'how': <gensim.models.keyedvectors.Vocab at 0x1a38028438>,\n",
       " 'an': <gensim.models.keyedvectors.Vocab at 0x1a38028470>,\n",
       " 'anarchist': <gensim.models.keyedvectors.Vocab at 0x1a380284a8>,\n",
       " 'might': <gensim.models.keyedvectors.Vocab at 0x1a380284e0>,\n",
       " 'work': <gensim.models.keyedvectors.Vocab at 0x1a38028518>,\n",
       " 'vary': <gensim.models.keyedvectors.Vocab at 0x1a38028550>,\n",
       " 'considerably': <gensim.models.keyedvectors.Vocab at 0x1a38028588>,\n",
       " 'especially': <gensim.models.keyedvectors.Vocab at 0x1a380285c0>,\n",
       " 'with': <gensim.models.keyedvectors.Vocab at 0x1a380285f8>,\n",
       " 'respect': <gensim.models.keyedvectors.Vocab at 0x1a38028630>,\n",
       " 'economics': <gensim.models.keyedvectors.Vocab at 0x1a38028668>,\n",
       " 'disagreement': <gensim.models.keyedvectors.Vocab at 0x1a380286a0>,\n",
       " 'brought': <gensim.models.keyedvectors.Vocab at 0x1a380286d8>,\n",
       " 'origins': <gensim.models.keyedvectors.Vocab at 0x1a38028710>,\n",
       " 'predecessors': <gensim.models.keyedvectors.Vocab at 0x1a38028748>,\n",
       " 'kropotkin': <gensim.models.keyedvectors.Vocab at 0x1a38028780>,\n",
       " 'others': <gensim.models.keyedvectors.Vocab at 0x1a380287b8>,\n",
       " 'argue': <gensim.models.keyedvectors.Vocab at 0x1a380287f0>,\n",
       " 'before': <gensim.models.keyedvectors.Vocab at 0x1a38028828>,\n",
       " 'recorded': <gensim.models.keyedvectors.Vocab at 0x1a38028860>,\n",
       " 'history': <gensim.models.keyedvectors.Vocab at 0x1a38028898>,\n",
       " 'human': <gensim.models.keyedvectors.Vocab at 0x1a380288d0>,\n",
       " 'was': <gensim.models.keyedvectors.Vocab at 0x1a38028908>,\n",
       " 'organized': <gensim.models.keyedvectors.Vocab at 0x1a38028940>,\n",
       " 'on': <gensim.models.keyedvectors.Vocab at 0x1a38028978>,\n",
       " 'principles': <gensim.models.keyedvectors.Vocab at 0x1a380289b0>,\n",
       " 'anthropologists': <gensim.models.keyedvectors.Vocab at 0x1a380289e8>,\n",
       " 'follow': <gensim.models.keyedvectors.Vocab at 0x1a38028a20>,\n",
       " 'engels': <gensim.models.keyedvectors.Vocab at 0x1a38028a58>,\n",
       " 'believing': <gensim.models.keyedvectors.Vocab at 0x1a38028a90>,\n",
       " 'hunter': <gensim.models.keyedvectors.Vocab at 0x1a38028ac8>,\n",
       " 'gatherer': <gensim.models.keyedvectors.Vocab at 0x1a38028b00>,\n",
       " 'bands': <gensim.models.keyedvectors.Vocab at 0x1a38028b38>,\n",
       " 'were': <gensim.models.keyedvectors.Vocab at 0x1a38028b70>,\n",
       " 'egalitarian': <gensim.models.keyedvectors.Vocab at 0x1a38028ba8>,\n",
       " 'lacked': <gensim.models.keyedvectors.Vocab at 0x1a38028be0>,\n",
       " 'division': <gensim.models.keyedvectors.Vocab at 0x1a38028c18>,\n",
       " 'labour': <gensim.models.keyedvectors.Vocab at 0x1a38028c50>,\n",
       " 'accumulated': <gensim.models.keyedvectors.Vocab at 0x1a38028c88>,\n",
       " 'wealth': <gensim.models.keyedvectors.Vocab at 0x1a38028cc0>,\n",
       " 'decreed': <gensim.models.keyedvectors.Vocab at 0x1a38028cf8>,\n",
       " 'law': <gensim.models.keyedvectors.Vocab at 0x1a38028d30>,\n",
       " 'had': <gensim.models.keyedvectors.Vocab at 0x1a38028d68>,\n",
       " 'equal': <gensim.models.keyedvectors.Vocab at 0x1a38028da0>,\n",
       " 'access': <gensim.models.keyedvectors.Vocab at 0x1a38028dd8>,\n",
       " 'resources': <gensim.models.keyedvectors.Vocab at 0x1a38028e10>,\n",
       " 'william': <gensim.models.keyedvectors.Vocab at 0x1a38028e48>,\n",
       " 'godwin': <gensim.models.keyedvectors.Vocab at 0x1a38028e80>,\n",
       " 'organisation': <gensim.models.keyedvectors.Vocab at 0x1a38028eb8>,\n",
       " 'rothbard': <gensim.models.keyedvectors.Vocab at 0x1a38028ef0>,\n",
       " 'find': <gensim.models.keyedvectors.Vocab at 0x1a38028f28>,\n",
       " 'attitudes': <gensim.models.keyedvectors.Vocab at 0x1a38028f60>,\n",
       " 'taoism': <gensim.models.keyedvectors.Vocab at 0x1a38028f98>,\n",
       " 'ancient': <gensim.models.keyedvectors.Vocab at 0x1a38028fd0>,\n",
       " 'china': <gensim.models.keyedvectors.Vocab at 0x1a3802a048>,\n",
       " 'found': <gensim.models.keyedvectors.Vocab at 0x1a3802a080>,\n",
       " 'similar': <gensim.models.keyedvectors.Vocab at 0x1a3802a0b8>,\n",
       " 'stoic': <gensim.models.keyedvectors.Vocab at 0x1a3802a128>,\n",
       " 'zeno': <gensim.models.keyedvectors.Vocab at 0x1a3802a160>,\n",
       " 'citium': <gensim.models.keyedvectors.Vocab at 0x1a3802a198>,\n",
       " 'according': <gensim.models.keyedvectors.Vocab at 0x1a3802a1d0>,\n",
       " 'repudiated': <gensim.models.keyedvectors.Vocab at 0x1a3802a208>,\n",
       " 'omnipotence': <gensim.models.keyedvectors.Vocab at 0x1a3802a240>,\n",
       " 'its': <gensim.models.keyedvectors.Vocab at 0x1a3802a278>,\n",
       " 'intervention': <gensim.models.keyedvectors.Vocab at 0x1a3802a2b0>,\n",
       " 'regimentation': <gensim.models.keyedvectors.Vocab at 0x1a3802a2e8>,\n",
       " 'proclaimed': <gensim.models.keyedvectors.Vocab at 0x1a3802a320>,\n",
       " 'sovereignty': <gensim.models.keyedvectors.Vocab at 0x1a3802a358>,\n",
       " 'moral': <gensim.models.keyedvectors.Vocab at 0x1a3802a390>,\n",
       " 'individual': <gensim.models.keyedvectors.Vocab at 0x1a3802a3c8>,\n",
       " 'anabaptists': <gensim.models.keyedvectors.Vocab at 0x1a3802a400>,\n",
       " 'one': <gensim.models.keyedvectors.Vocab at 0x1a3802a438>,\n",
       " 'six': <gensim.models.keyedvectors.Vocab at 0x1a3802a470>,\n",
       " 'th': <gensim.models.keyedvectors.Vocab at 0x1a3802a4a8>,\n",
       " 'century': <gensim.models.keyedvectors.Vocab at 0x1a3802a4e0>,\n",
       " 'europe': <gensim.models.keyedvectors.Vocab at 0x1a3802a518>,\n",
       " 'sometimes': <gensim.models.keyedvectors.Vocab at 0x1a3802a550>,\n",
       " 'considered': <gensim.models.keyedvectors.Vocab at 0x1a3802a588>,\n",
       " 'religious': <gensim.models.keyedvectors.Vocab at 0x1a3802a5c0>,\n",
       " 'forerunners': <gensim.models.keyedvectors.Vocab at 0x1a3802a5f8>,\n",
       " 'modern': <gensim.models.keyedvectors.Vocab at 0x1a3802a630>,\n",
       " 'bertrand': <gensim.models.keyedvectors.Vocab at 0x1a3802a668>,\n",
       " 'russell': <gensim.models.keyedvectors.Vocab at 0x1a3802a6a0>,\n",
       " 'his': <gensim.models.keyedvectors.Vocab at 0x1a3802a6d8>,\n",
       " 'western': <gensim.models.keyedvectors.Vocab at 0x1a3802a710>,\n",
       " 'writes': <gensim.models.keyedvectors.Vocab at 0x1a3802a748>,\n",
       " 'all': <gensim.models.keyedvectors.Vocab at 0x1a3802a780>,\n",
       " 'since': <gensim.models.keyedvectors.Vocab at 0x1a3802a7b8>,\n",
       " 'held': <gensim.models.keyedvectors.Vocab at 0x1a3802a7f0>,\n",
       " 'good': <gensim.models.keyedvectors.Vocab at 0x1a3802a828>,\n",
       " 'man': <gensim.models.keyedvectors.Vocab at 0x1a3802a898>,\n",
       " 'will': <gensim.models.keyedvectors.Vocab at 0x1a3802a8d0>,\n",
       " 'guided': <gensim.models.keyedvectors.Vocab at 0x1a3802a908>,\n",
       " 'at': <gensim.models.keyedvectors.Vocab at 0x1a3802a940>,\n",
       " 'every': <gensim.models.keyedvectors.Vocab at 0x1a3802a978>,\n",
       " 'moment': <gensim.models.keyedvectors.Vocab at 0x1a3802a9b0>,\n",
       " 'holy': <gensim.models.keyedvectors.Vocab at 0x1a3802a9e8>,\n",
       " 'spirit': <gensim.models.keyedvectors.Vocab at 0x1a3802aa20>,\n",
       " 'premise': <gensim.models.keyedvectors.Vocab at 0x1a3802aa58>,\n",
       " 'arrive': <gensim.models.keyedvectors.Vocab at 0x1a3802aa90>,\n",
       " 'communism': <gensim.models.keyedvectors.Vocab at 0x1a3802aac8>,\n",
       " 'true': <gensim.models.keyedvectors.Vocab at 0x1a3802ab00>,\n",
       " 'levellers': <gensim.models.keyedvectors.Vocab at 0x1a3802ab38>,\n",
       " 'communistic': <gensim.models.keyedvectors.Vocab at 0x1a3802ab70>,\n",
       " 'movement': <gensim.models.keyedvectors.Vocab at 0x1a3802aba8>,\n",
       " 'during': <gensim.models.keyedvectors.Vocab at 0x1a3802abe0>,\n",
       " 'time': <gensim.models.keyedvectors.Vocab at 0x1a3802ac18>,\n",
       " 'civil': <gensim.models.keyedvectors.Vocab at 0x1a3802ac50>,\n",
       " 'war': <gensim.models.keyedvectors.Vocab at 0x1a3802ac88>,\n",
       " 'some': <gensim.models.keyedvectors.Vocab at 0x1a3802acc0>,\n",
       " 'era': <gensim.models.keyedvectors.Vocab at 0x1a3802acf8>,\n",
       " 'mean': <gensim.models.keyedvectors.Vocab at 0x1a3802ad30>,\n",
       " 'something': <gensim.models.keyedvectors.Vocab at 0x1a3802ad68>,\n",
       " 'other': <gensim.models.keyedvectors.Vocab at 0x1a3802ada0>,\n",
       " 'than': <gensim.models.keyedvectors.Vocab at 0x1a3802add8>,\n",
       " 'louis': <gensim.models.keyedvectors.Vocab at 0x1a3802ae10>,\n",
       " 'armand': <gensim.models.keyedvectors.Vocab at 0x1a3802ae48>,\n",
       " 'baron': <gensim.models.keyedvectors.Vocab at 0x1a3802ae80>,\n",
       " 'de': <gensim.models.keyedvectors.Vocab at 0x1a3802aeb8>,\n",
       " 'lahontan': <gensim.models.keyedvectors.Vocab at 0x1a3802aef0>,\n",
       " 'nouveaux': <gensim.models.keyedvectors.Vocab at 0x1a3802af28>,\n",
       " 'voyages': <gensim.models.keyedvectors.Vocab at 0x1a3802af60>,\n",
       " 'dans': <gensim.models.keyedvectors.Vocab at 0x1a3802af98>,\n",
       " 'l': <gensim.models.keyedvectors.Vocab at 0x1a3802afd0>,\n",
       " 'am': <gensim.models.keyedvectors.Vocab at 0x1a3802c048>,\n",
       " 'rique': <gensim.models.keyedvectors.Vocab at 0x1a3802c080>,\n",
       " 'septentrionale': <gensim.models.keyedvectors.Vocab at 0x1a3802c0b8>,\n",
       " 'seven': <gensim.models.keyedvectors.Vocab at 0x1a3802c0f0>,\n",
       " 'zero': <gensim.models.keyedvectors.Vocab at 0x1a3802c128>,\n",
       " 'three': <gensim.models.keyedvectors.Vocab at 0x1a3802c160>,\n",
       " 'where': <gensim.models.keyedvectors.Vocab at 0x1a3802c198>,\n",
       " 'he': <gensim.models.keyedvectors.Vocab at 0x1a3802c1d0>,\n",
       " 'described': <gensim.models.keyedvectors.Vocab at 0x1a3802c208>,\n",
       " 'indigenous': <gensim.models.keyedvectors.Vocab at 0x1a3802c240>,\n",
       " 'american': <gensim.models.keyedvectors.Vocab at 0x1a3802c278>,\n",
       " 'which': <gensim.models.keyedvectors.Vocab at 0x1a3802c2b0>,\n",
       " 'no': <gensim.models.keyedvectors.Vocab at 0x1a3802c320>,\n",
       " 'laws': <gensim.models.keyedvectors.Vocab at 0x1a3802c358>,\n",
       " 'prisons': <gensim.models.keyedvectors.Vocab at 0x1a3802c390>,\n",
       " 'priests': <gensim.models.keyedvectors.Vocab at 0x1a3802c3c8>,\n",
       " 'private': <gensim.models.keyedvectors.Vocab at 0x1a3802c400>,\n",
       " 'property': <gensim.models.keyedvectors.Vocab at 0x1a3802c438>,\n",
       " 'being': <gensim.models.keyedvectors.Vocab at 0x1a3802c470>,\n",
       " 'libertarian': <gensim.models.keyedvectors.Vocab at 0x1a3802c4a8>,\n",
       " 'leader': <gensim.models.keyedvectors.Vocab at 0x1a3802c4e0>,\n",
       " 'indian': <gensim.models.keyedvectors.Vocab at 0x1a3802c518>,\n",
       " 'repeatedly': <gensim.models.keyedvectors.Vocab at 0x1a3802c550>,\n",
       " 'stated': <gensim.models.keyedvectors.Vocab at 0x1a3802c588>,\n",
       " 'so': <gensim.models.keyedvectors.Vocab at 0x1a3802c5c0>,\n",
       " 'ancestors': <gensim.models.keyedvectors.Vocab at 0x1a3802c5f8>,\n",
       " 'nine': <gensim.models.keyedvectors.Vocab at 0x1a3802c630>,\n",
       " 'thick': <gensim.models.keyedvectors.Vocab at 0x1a3802c668>,\n",
       " 'published': <gensim.models.keyedvectors.Vocab at 0x1a3802c6a0>,\n",
       " 'enquiry': <gensim.models.keyedvectors.Vocab at 0x1a3802c6d8>,\n",
       " 'concerning': <gensim.models.keyedvectors.Vocab at 0x1a3802c710>,\n",
       " 'justice': <gensim.models.keyedvectors.Vocab at 0x1a3802c748>,\n",
       " 'did': <gensim.models.keyedvectors.Vocab at 0x1a3802c780>,\n",
       " 'many': <gensim.models.keyedvectors.Vocab at 0x1a3802c7b8>,\n",
       " 'later': <gensim.models.keyedvectors.Vocab at 0x1a3802c7f0>,\n",
       " 'have': <gensim.models.keyedvectors.Vocab at 0x1a3802c828>,\n",
       " 'book': <gensim.models.keyedvectors.Vocab at 0x1a3802c860>,\n",
       " 'major': <gensim.models.keyedvectors.Vocab at 0x1a3802c898>,\n",
       " 'text': <gensim.models.keyedvectors.Vocab at 0x1a3802c8d0>,\n",
       " 'founder': <gensim.models.keyedvectors.Vocab at 0x1a3802c908>,\n",
       " 'philosophical': <gensim.models.keyedvectors.Vocab at 0x1a3802c940>,\n",
       " 'point': <gensim.models.keyedvectors.Vocab at 0x1a3802c978>,\n",
       " 'yet': <gensim.models.keyedvectors.Vocab at 0x1a3802c9b0>,\n",
       " 'existed': <gensim.models.keyedvectors.Vocab at 0x1a3802c9e8>,\n",
       " 'anarchiste': <gensim.models.keyedvectors.Vocab at 0x1a3802ca20>,\n",
       " 'known': <gensim.models.keyedvectors.Vocab at 0x1a3802ca58>,\n",
       " 'mainly': <gensim.models.keyedvectors.Vocab at 0x1a3802ca90>,\n",
       " 'insult': <gensim.models.keyedvectors.Vocab at 0x1a3802cac8>,\n",
       " 'hurled': <gensim.models.keyedvectors.Vocab at 0x1a3802cb00>,\n",
       " 'bourgeois': <gensim.models.keyedvectors.Vocab at 0x1a3802cb38>,\n",
       " 'girondins': <gensim.models.keyedvectors.Vocab at 0x1a3802cb70>,\n",
       " 'more': <gensim.models.keyedvectors.Vocab at 0x1a3802cba8>,\n",
       " 'radical': <gensim.models.keyedvectors.Vocab at 0x1a3802cbe0>,\n",
       " 'elements': <gensim.models.keyedvectors.Vocab at 0x1a3802cc18>,\n",
       " 'labelled': <gensim.models.keyedvectors.Vocab at 0x1a3802cc50>,\n",
       " 'pierre': <gensim.models.keyedvectors.Vocab at 0x1a3802cc88>,\n",
       " 'joseph': <gensim.models.keyedvectors.Vocab at 0x1a3802ccc0>,\n",
       " 'proudhon': <gensim.models.keyedvectors.Vocab at 0x1a3802ccf8>,\n",
       " 'commonly': <gensim.models.keyedvectors.Vocab at 0x1a3802cd30>,\n",
       " 'wasn': <gensim.models.keyedvectors.Vocab at 0x1a3802cd68>,\n",
       " 't': <gensim.models.keyedvectors.Vocab at 0x1a3802cda0>,\n",
       " 'until': <gensim.models.keyedvectors.Vocab at 0x1a3802cdd8>,\n",
       " 'eight': <gensim.models.keyedvectors.Vocab at 0x1a3802ce10>,\n",
       " 'four': <gensim.models.keyedvectors.Vocab at 0x1a3802ce48>,\n",
       " 'adopted': <gensim.models.keyedvectors.Vocab at 0x1a3802ce80>,\n",
       " 'description': <gensim.models.keyedvectors.Vocab at 0x1a3802ceb8>,\n",
       " 'for': <gensim.models.keyedvectors.Vocab at 0x1a3802cef0>,\n",
       " 'reason': <gensim.models.keyedvectors.Vocab at 0x1a3802cf28>,\n",
       " 'claim': <gensim.models.keyedvectors.Vocab at 0x1a3802cf60>,\n",
       " 'theory': <gensim.models.keyedvectors.Vocab at 0x1a3802cf98>,\n",
       " 'answers': <gensim.models.keyedvectors.Vocab at 0x1a3802cfd0>,\n",
       " 'famous': <gensim.models.keyedvectors.Vocab at 0x1a3803e048>,\n",
       " 'accusation': <gensim.models.keyedvectors.Vocab at 0x1a3803e080>,\n",
       " 'theft': <gensim.models.keyedvectors.Vocab at 0x1a3803e0b8>,\n",
       " 'opposed': <gensim.models.keyedvectors.Vocab at 0x1a3803e0f0>,\n",
       " 'institution': <gensim.models.keyedvectors.Vocab at 0x1a3803e128>,\n",
       " 'propri': <gensim.models.keyedvectors.Vocab at 0x1a3803e160>,\n",
       " 'owners': <gensim.models.keyedvectors.Vocab at 0x1a3803e198>,\n",
       " 'complete': <gensim.models.keyedvectors.Vocab at 0x1a3803e1d0>,\n",
       " 'rights': <gensim.models.keyedvectors.Vocab at 0x1a3803e208>,\n",
       " 'their': <gensim.models.keyedvectors.Vocab at 0x1a3803e240>,\n",
       " 'wish': <gensim.models.keyedvectors.Vocab at 0x1a3803e278>,\n",
       " 'such': <gensim.models.keyedvectors.Vocab at 0x1a3803e2b0>,\n",
       " 'exploiting': <gensim.models.keyedvectors.Vocab at 0x1a3803e2e8>,\n",
       " 'workers': <gensim.models.keyedvectors.Vocab at 0x1a3803e320>,\n",
       " 'profit': <gensim.models.keyedvectors.Vocab at 0x1a3803e358>,\n",
       " 'supported': <gensim.models.keyedvectors.Vocab at 0x1a3803e390>,\n",
       " 'called': <gensim.models.keyedvectors.Vocab at 0x1a3803e3c8>,\n",
       " 'possession': <gensim.models.keyedvectors.Vocab at 0x1a3803e400>,\n",
       " 'can': <gensim.models.keyedvectors.Vocab at 0x1a3803e438>,\n",
       " 'limited': <gensim.models.keyedvectors.Vocab at 0x1a3803e470>,\n",
       " 'capital': <gensim.models.keyedvectors.Vocab at 0x1a3803e4a8>,\n",
       " 'goods': <gensim.models.keyedvectors.Vocab at 0x1a3803e4e0>,\n",
       " 'accordance': <gensim.models.keyedvectors.Vocab at 0x1a3803e518>,\n",
       " 'equality': <gensim.models.keyedvectors.Vocab at 0x1a3803e550>,\n",
       " 's': <gensim.models.keyedvectors.Vocab at 0x1a3803e588>,\n",
       " 'vision': <gensim.models.keyedvectors.Vocab at 0x1a3803e5c0>,\n",
       " 'mutualism': <gensim.models.keyedvectors.Vocab at 0x1a3803e5f8>,\n",
       " 'mutuellisme': <gensim.models.keyedvectors.Vocab at 0x1a3803e630>,\n",
       " 'involved': <gensim.models.keyedvectors.Vocab at 0x1a3803e668>,\n",
       " 'exchange': <gensim.models.keyedvectors.Vocab at 0x1a3803e6a0>,\n",
       " 'economy': <gensim.models.keyedvectors.Vocab at 0x1a3803e6d8>,\n",
       " 'groups': <gensim.models.keyedvectors.Vocab at 0x1a3803e710>,\n",
       " 'could': <gensim.models.keyedvectors.Vocab at 0x1a3803e748>,\n",
       " 'trade': <gensim.models.keyedvectors.Vocab at 0x1a3803e780>,\n",
       " 'products': <gensim.models.keyedvectors.Vocab at 0x1a3803e7b8>,\n",
       " 'labor': <gensim.models.keyedvectors.Vocab at 0x1a3803e7f0>,\n",
       " 'using': <gensim.models.keyedvectors.Vocab at 0x1a3803e828>,\n",
       " 'notes': <gensim.models.keyedvectors.Vocab at 0x1a3803e860>,\n",
       " 'represented': <gensim.models.keyedvectors.Vocab at 0x1a3803e898>,\n",
       " 'amount': <gensim.models.keyedvectors.Vocab at 0x1a3803e8d0>,\n",
       " 'production': <gensim.models.keyedvectors.Vocab at 0x1a3803e908>,\n",
       " 'would': <gensim.models.keyedvectors.Vocab at 0x1a3803e940>,\n",
       " 'ensure': <gensim.models.keyedvectors.Vocab at 0x1a3803e978>,\n",
       " 'freely': <gensim.models.keyedvectors.Vocab at 0x1a3803e9b0>,\n",
       " 'join': <gensim.models.keyedvectors.Vocab at 0x1a3803e9e8>,\n",
       " 'together': <gensim.models.keyedvectors.Vocab at 0x1a3803ea20>,\n",
       " 'co': <gensim.models.keyedvectors.Vocab at 0x1a3803ea58>,\n",
       " 'operative': <gensim.models.keyedvectors.Vocab at 0x1a3803ea90>,\n",
       " 'workshops': <gensim.models.keyedvectors.Vocab at 0x1a3803eac8>,\n",
       " 'interest': <gensim.models.keyedvectors.Vocab at 0x1a3803eb00>,\n",
       " 'bank': <gensim.models.keyedvectors.Vocab at 0x1a3803eb38>,\n",
       " 'set': <gensim.models.keyedvectors.Vocab at 0x1a3803eb70>,\n",
       " 'provide': <gensim.models.keyedvectors.Vocab at 0x1a3803eba8>,\n",
       " 'everyone': <gensim.models.keyedvectors.Vocab at 0x1a3803ebe0>,\n",
       " 'influential': <gensim.models.keyedvectors.Vocab at 0x1a3803ec18>,\n",
       " 'within': <gensim.models.keyedvectors.Vocab at 0x1a3803ec50>,\n",
       " 'followers': <gensim.models.keyedvectors.Vocab at 0x1a3803ec88>,\n",
       " 'active': <gensim.models.keyedvectors.Vocab at 0x1a3803ecc0>,\n",
       " 'france': <gensim.models.keyedvectors.Vocab at 0x1a3803ecf8>,\n",
       " 'complex': <gensim.models.keyedvectors.Vocab at 0x1a3803ed30>,\n",
       " 'developed': <gensim.models.keyedvectors.Vocab at 0x1a3803ed68>,\n",
       " 'number': <gensim.models.keyedvectors.Vocab at 0x1a3803eda0>,\n",
       " 'works': <gensim.models.keyedvectors.Vocab at 0x1a3803edd8>,\n",
       " 'over': <gensim.models.keyedvectors.Vocab at 0x1a3803ee10>,\n",
       " 'lifetime': <gensim.models.keyedvectors.Vocab at 0x1a3803ee48>,\n",
       " 'detailed': <gensim.models.keyedvectors.Vocab at 0x1a3803eeb8>,\n",
       " 'discussion': <gensim.models.keyedvectors.Vocab at 0x1a3803eef0>,\n",
       " 'see': <gensim.models.keyedvectors.Vocab at 0x1a3803ef28>,\n",
       " 'here': <gensim.models.keyedvectors.Vocab at 0x1a3803ef60>,\n",
       " 'max': <gensim.models.keyedvectors.Vocab at 0x1a3803ef98>,\n",
       " 'stirner': <gensim.models.keyedvectors.Vocab at 0x1a3803efd0>,\n",
       " 'egoism': <gensim.models.keyedvectors.Vocab at 0x1a3803f048>,\n",
       " 'ego': <gensim.models.keyedvectors.Vocab at 0x1a3803f080>,\n",
       " 'own': <gensim.models.keyedvectors.Vocab at 0x1a3803f0b8>,\n",
       " 'argued': <gensim.models.keyedvectors.Vocab at 0x1a3803f0f0>,\n",
       " 'accepted': <gensim.models.keyedvectors.Vocab at 0x1a3803f128>,\n",
       " 'notion': <gensim.models.keyedvectors.Vocab at 0x1a3803f160>,\n",
       " 'right': <gensim.models.keyedvectors.Vocab at 0x1a3803f198>,\n",
       " 'natural': <gensim.models.keyedvectors.Vocab at 0x1a3803f1d0>,\n",
       " 'general': <gensim.models.keyedvectors.Vocab at 0x1a3803f208>,\n",
       " 'very': <gensim.models.keyedvectors.Vocab at 0x1a3803f240>,\n",
       " 'mere': <gensim.models.keyedvectors.Vocab at 0x1a3803f278>,\n",
       " 'illusions': <gensim.models.keyedvectors.Vocab at 0x1a3803f2b0>,\n",
       " 'ghosts': <gensim.models.keyedvectors.Vocab at 0x1a3803f2e8>,\n",
       " 'mind': <gensim.models.keyedvectors.Vocab at 0x1a3803f320>,\n",
       " 'saying': <gensim.models.keyedvectors.Vocab at 0x1a3803f358>,\n",
       " 'reality': <gensim.models.keyedvectors.Vocab at 0x1a3803f390>,\n",
       " 'advocated': <gensim.models.keyedvectors.Vocab at 0x1a3803f3c8>,\n",
       " 'form': <gensim.models.keyedvectors.Vocab at 0x1a3803f400>,\n",
       " 'amoralism': <gensim.models.keyedvectors.Vocab at 0x1a3803f438>,\n",
       " 'unite': <gensim.models.keyedvectors.Vocab at 0x1a3803f470>,\n",
       " 'associations': <gensim.models.keyedvectors.Vocab at 0x1a3803f4a8>,\n",
       " 'egoists': <gensim.models.keyedvectors.Vocab at 0x1a3803f4e0>,\n",
       " 'only': <gensim.models.keyedvectors.Vocab at 0x1a3803f518>,\n",
       " 'when': <gensim.models.keyedvectors.Vocab at 0x1a3803f550>,\n",
       " 'do': <gensim.models.keyedvectors.Vocab at 0x1a3803f588>,\n",
       " 'him': <gensim.models.keyedvectors.Vocab at 0x1a3803f5c0>,\n",
       " 'simply': <gensim.models.keyedvectors.Vocab at 0x1a3803f630>,\n",
       " 'comes': <gensim.models.keyedvectors.Vocab at 0x1a3803f668>,\n",
       " 'through': <gensim.models.keyedvectors.Vocab at 0x1a3803f6a0>,\n",
       " 'whoever': <gensim.models.keyedvectors.Vocab at 0x1a3803f6d8>,\n",
       " 'knows': <gensim.models.keyedvectors.Vocab at 0x1a3803f748>,\n",
       " 'take': <gensim.models.keyedvectors.Vocab at 0x1a3803f780>,\n",
       " 'defend': <gensim.models.keyedvectors.Vocab at 0x1a3803f7b8>,\n",
       " 'thing': <gensim.models.keyedvectors.Vocab at 0x1a3803f7f0>,\n",
       " 'belongs': <gensim.models.keyedvectors.Vocab at 0x1a3803f828>,\n",
       " 'i': <gensim.models.keyedvectors.Vocab at 0x1a3803f860>,\n",
       " 'my': <gensim.models.keyedvectors.Vocab at 0x1a3803f898>,\n",
       " 'power': <gensim.models.keyedvectors.Vocab at 0x1a3803f8d0>,\n",
       " 'long': <gensim.models.keyedvectors.Vocab at 0x1a3803f908>,\n",
       " 'assert': <gensim.models.keyedvectors.Vocab at 0x1a3803f940>,\n",
       " 'myself': <gensim.models.keyedvectors.Vocab at 0x1a3803f978>,\n",
       " 'holder': <gensim.models.keyedvectors.Vocab at 0x1a3803f9b0>,\n",
       " 'proprietor': <gensim.models.keyedvectors.Vocab at 0x1a3803f9e8>,\n",
       " 'never': <gensim.models.keyedvectors.Vocab at 0x1a3803fa20>,\n",
       " 'himself': <gensim.models.keyedvectors.Vocab at 0x1a3803fa58>,\n",
       " 'egoist': <gensim.models.keyedvectors.Vocab at 0x1a3803fa90>,\n",
       " 'nevertheless': <gensim.models.keyedvectors.Vocab at 0x1a3803fac8>,\n",
       " 'individualistically': <gensim.models.keyedvectors.Vocab at 0x1a3803fb00>,\n",
       " 'inclined': <gensim.models.keyedvectors.Vocab at 0x1a3803fb38>,\n",
       " 'thought': <gensim.models.keyedvectors.Vocab at 0x1a3803fb70>,\n",
       " 'diverse': <gensim.models.keyedvectors.Vocab at 0x1a3803fba8>,\n",
       " 'individualist': <gensim.models.keyedvectors.Vocab at 0x1a3803fbe0>,\n",
       " 'benjamin': <gensim.models.keyedvectors.Vocab at 0x1a3803fc18>,\n",
       " 'tucker': <gensim.models.keyedvectors.Vocab at 0x1a3803fc50>,\n",
       " 'two': <gensim.models.keyedvectors.Vocab at 0x1a3803fc88>,\n",
       " 'five': <gensim.models.keyedvectors.Vocab at 0x1a3803fcc0>,\n",
       " 'josiah': <gensim.models.keyedvectors.Vocab at 0x1a3803fcf8>,\n",
       " 'warren': <gensim.models.keyedvectors.Vocab at 0x1a3803fd30>,\n",
       " 'participated': <gensim.models.keyedvectors.Vocab at 0x1a3803fd68>,\n",
       " 'communitarian': <gensim.models.keyedvectors.Vocab at 0x1a3803fda0>,\n",
       " 'experiment': <gensim.models.keyedvectors.Vocab at 0x1a3803fdd8>,\n",
       " 'headed': <gensim.models.keyedvectors.Vocab at 0x1a3803fe10>,\n",
       " 'robert': <gensim.models.keyedvectors.Vocab at 0x1a3803fe48>,\n",
       " 'owen': <gensim.models.keyedvectors.Vocab at 0x1a3803fe80>,\n",
       " 'new': <gensim.models.keyedvectors.Vocab at 0x1a3803feb8>,\n",
       " 'harmony': <gensim.models.keyedvectors.Vocab at 0x1a3803fef0>,\n",
       " 'failed': <gensim.models.keyedvectors.Vocab at 0x1a3803ff28>,\n",
       " 'few': <gensim.models.keyedvectors.Vocab at 0x1a3803ff60>,\n",
       " 'years': <gensim.models.keyedvectors.Vocab at 0x1a3803ff98>,\n",
       " 'amidst': <gensim.models.keyedvectors.Vocab at 0x1a3803ffd0>,\n",
       " 'much': <gensim.models.keyedvectors.Vocab at 0x1a2b8a6390>,\n",
       " 'internal': <gensim.models.keyedvectors.Vocab at 0x1a2b8a63c8>,\n",
       " 'conflict': <gensim.models.keyedvectors.Vocab at 0x1a2b8a6470>,\n",
       " 'blamed': <gensim.models.keyedvectors.Vocab at 0x1a2b8a64e0>,\n",
       " 'community': <gensim.models.keyedvectors.Vocab at 0x1a2b8a6518>,\n",
       " 'failure': <gensim.models.keyedvectors.Vocab at 0x1a2b8a65c0>,\n",
       " 'lack': <gensim.models.keyedvectors.Vocab at 0x1a2b8a65f8>,\n",
       " 'proceeded': <gensim.models.keyedvectors.Vocab at 0x1a2b8a66a0>,\n",
       " 'organise': <gensim.models.keyedvectors.Vocab at 0x1a2b8a6828>,\n",
       " 'experimenal': <gensim.models.keyedvectors.Vocab at 0x1a2b8a68d0>,\n",
       " 'communities': <gensim.models.keyedvectors.Vocab at 0x1a2b8a6940>,\n",
       " 'respected': <gensim.models.keyedvectors.Vocab at 0x1a2b8a6978>,\n",
       " 'utopia': <gensim.models.keyedvectors.Vocab at 0x1a2b8a6b38>,\n",
       " 'times': <gensim.models.keyedvectors.Vocab at 0x1a2b8a6c50>,\n",
       " 'wrote': <gensim.models.keyedvectors.Vocab at 0x1a2b8a6cc0>,\n",
       " 'peaceful': <gensim.models.keyedvectors.Vocab at 0x1a2b8a6dd8>,\n",
       " 'revolutionist': <gensim.models.keyedvectors.Vocab at 0x1a2b8a6f60>,\n",
       " 'noted': <gensim.models.keyedvectors.Vocab at 0x1a2b8a6f98>,\n",
       " 'periodical': <gensim.models.keyedvectors.Vocab at 0x1a2b8a6fd0>,\n",
       " 'ever': <gensim.models.keyedvectors.Vocab at 0x1a2b89be80>,\n",
       " 'says': <gensim.models.keyedvectors.Vocab at 0x1a2b89b9b0>,\n",
       " 'expound': <gensim.models.keyedvectors.Vocab at 0x1a2b89beb8>,\n",
       " 'formulate': <gensim.models.keyedvectors.Vocab at 0x1a2b89bcf8>,\n",
       " 'doctrine': <gensim.models.keyedvectors.Vocab at 0x1a2b89bc18>,\n",
       " 'now': <gensim.models.keyedvectors.Vocab at 0x1a2b89b8d0>,\n",
       " 'liberty': <gensim.models.keyedvectors.Vocab at 0x1a2b89bef0>,\n",
       " 'xiv': <gensim.models.keyedvectors.Vocab at 0x1a2b89bb00>,\n",
       " 'december': <gensim.models.keyedvectors.Vocab at 0x1a2b89bfd0>,\n",
       " 'became': <gensim.models.keyedvectors.Vocab at 0x1a2b89bcc0>,\n",
       " 'interested': <gensim.models.keyedvectors.Vocab at 0x1a2b89b748>,\n",
       " 'meeting': <gensim.models.keyedvectors.Vocab at 0x1a2b89bbe0>,\n",
       " 'b': <gensim.models.keyedvectors.Vocab at 0x1a2b89b828>,\n",
       " 'greene': <gensim.models.keyedvectors.Vocab at 0x1a2b89b4a8>,\n",
       " 'edited': <gensim.models.keyedvectors.Vocab at 0x1a2b89bba8>,\n",
       " 'august': <gensim.models.keyedvectors.Vocab at 0x1a2b89bda0>,\n",
       " 'april': <gensim.models.keyedvectors.Vocab at 0x1a2b89b048>,\n",
       " 'widely': <gensim.models.keyedvectors.Vocab at 0x1a2b89b3c8>,\n",
       " 'finest': <gensim.models.keyedvectors.Vocab at 0x1a2b89b390>,\n",
       " 'issued': <gensim.models.keyedvectors.Vocab at 0x1a2b89bb70>,\n",
       " 'language': <gensim.models.keyedvectors.Vocab at 0x1a2b89b400>,\n",
       " 'conception': <gensim.models.keyedvectors.Vocab at 0x1a2b89b5c0>,\n",
       " 'incorporated': <gensim.models.keyedvectors.Vocab at 0x1a2b89b7f0>,\n",
       " 'variety': <gensim.models.keyedvectors.Vocab at 0x1a2b89bf98>,\n",
       " 'theorists': <gensim.models.keyedvectors.Vocab at 0x1a2b89ba20>,\n",
       " 'banking': <gensim.models.keyedvectors.Vocab at 0x1a2b89b630>,\n",
       " 'cost': <gensim.models.keyedvectors.Vocab at 0x1a2b89b940>,\n",
       " 'limit': <gensim.models.keyedvectors.Vocab at 0x1a2b89bc88>,\n",
       " 'price': <gensim.models.keyedvectors.Vocab at 0x1a2b89b0b8>,\n",
       " 'heterodox': <gensim.models.keyedvectors.Vocab at 0x1a2b89b780>,\n",
       " 'value': <gensim.models.keyedvectors.Vocab at 0x1a2b89b7b8>,\n",
       " 'market': <gensim.models.keyedvectors.Vocab at 0x1a2b89b898>,\n",
       " 'herbert': <gensim.models.keyedvectors.Vocab at 0x1a2b89bd30>,\n",
       " 'spencer': <gensim.models.keyedvectors.Vocab at 0x1a2b89b588>,\n",
       " 'freedom': <gensim.models.keyedvectors.Vocab at 0x1a2b89b908>,\n",
       " 'strongly': <gensim.models.keyedvectors.Vocab at 0x1a2b8a8080>,\n",
       " 'product': <gensim.models.keyedvectors.Vocab at 0x1a2b8a80b8>,\n",
       " 'her': <gensim.models.keyedvectors.Vocab at 0x1a2b8a8160>,\n",
       " 'believed': <gensim.models.keyedvectors.Vocab at 0x1a2b8a8198>,\n",
       " 'trading': <gensim.models.keyedvectors.Vocab at 0x1a2b8a8240>,\n",
       " 'system': <gensim.models.keyedvectors.Vocab at 0x1a2b8a8390>,\n",
       " 'abundance': <gensim.models.keyedvectors.Vocab at 0x1a2b8a8518>,\n",
       " 'competition': <gensim.models.keyedvectors.Vocab at 0x1a2b8a8550>,\n",
       " 'eliminate': <gensim.models.keyedvectors.Vocab at 0x1a2b8a8588>,\n",
       " 'profits': <gensim.models.keyedvectors.Vocab at 0x1a2b8a85c0>,\n",
       " 'received': <gensim.models.keyedvectors.Vocab at 0x1a2b8a85f8>,\n",
       " 'full': <gensim.models.keyedvectors.Vocab at 0x1a2b8a8630>,\n",
       " 'individualists': <gensim.models.keyedvectors.Vocab at 0x1a2b8a8668>,\n",
       " 'included': <gensim.models.keyedvectors.Vocab at 0x1a2b8a86a0>,\n",
       " 'lysander': <gensim.models.keyedvectors.Vocab at 0x1a2b8a86d8>,\n",
       " 'spooner': <gensim.models.keyedvectors.Vocab at 0x1a2b8a8710>,\n",
       " 'stephen': <gensim.models.keyedvectors.Vocab at 0x1a2b8a8780>,\n",
       " 'pearl': <gensim.models.keyedvectors.Vocab at 0x1a2b8a87f0>,\n",
       " 'andrews': <gensim.models.keyedvectors.Vocab at 0x1a2b8a8828>,\n",
       " 'victor': <gensim.models.keyedvectors.Vocab at 0x1a2b8a88d0>,\n",
       " 'yarros': <gensim.models.keyedvectors.Vocab at 0x1a2b8a89b0>,\n",
       " 'international': <gensim.models.keyedvectors.Vocab at 0x1a2b8a8a58>,\n",
       " 'mikhail': <gensim.models.keyedvectors.Vocab at 0x1a2b8a8ac8>,\n",
       " 'bakunin': <gensim.models.keyedvectors.Vocab at 0x1a2b8a8b38>,\n",
       " 'harsh': <gensim.models.keyedvectors.Vocab at 0x1a2b8a8b70>,\n",
       " 'reaction': <gensim.models.keyedvectors.Vocab at 0x1a2b8a8c50>,\n",
       " 'followed': <gensim.models.keyedvectors.Vocab at 0x1a2b8a8cc0>,\n",
       " 'revolutions': <gensim.models.keyedvectors.Vocab at 0x1a2b8a8d68>,\n",
       " 'twenty': <gensim.models.keyedvectors.Vocab at 0x1a2b8a8e10>,\n",
       " 'workingmen': <gensim.models.keyedvectors.Vocab at 0x1a2b8a8ef0>,\n",
       " 'united': <gensim.models.keyedvectors.Vocab at 0x1a2b8a8f98>,\n",
       " 'european': <gensim.models.keyedvectors.Vocab at 0x1a2b89e588>,\n",
       " 'revolutionary': <gensim.models.keyedvectors.Vocab at 0x1a2b89e2e8>,\n",
       " 'currents': <gensim.models.keyedvectors.Vocab at 0x1a2b89e278>,\n",
       " 'due': <gensim.models.keyedvectors.Vocab at 0x1a2b89e8d0>,\n",
       " 'genuine': <gensim.models.keyedvectors.Vocab at 0x1a2b89eda0>,\n",
       " 'links': <gensim.models.keyedvectors.Vocab at 0x1a2b89ed30>,\n",
       " 'signficiant': <gensim.models.keyedvectors.Vocab at 0x1a2b89e5c0>,\n",
       " 'start': <gensim.models.keyedvectors.Vocab at 0x1a2b89e9e8>,\n",
       " 'karl': <gensim.models.keyedvectors.Vocab at 0x1a2b89ecc0>,\n",
       " 'marx': <gensim.models.keyedvectors.Vocab at 0x1a2b89e940>,\n",
       " 'leading': <gensim.models.keyedvectors.Vocab at 0x1a2b89efd0>,\n",
       " 'figure': <gensim.models.keyedvectors.Vocab at 0x1a2b89ee48>,\n",
       " 'elected': <gensim.models.keyedvectors.Vocab at 0x1a2b89e9b0>,\n",
       " 'succeeding': <gensim.models.keyedvectors.Vocab at 0x1a2b89ebe0>,\n",
       " 'council': <gensim.models.keyedvectors.Vocab at 0x1a2b89e240>,\n",
       " 'objections': <gensim.models.keyedvectors.Vocab at 0x1a2b89e518>,\n",
       " 'came': <gensim.models.keyedvectors.Vocab at 0x1a2b89eac8>,\n",
       " 'mutualists': <gensim.models.keyedvectors.Vocab at 0x1a2b89ef60>,\n",
       " 'who': <gensim.models.keyedvectors.Vocab at 0x1a2b89ee10>,\n",
       " 'statism': <gensim.models.keyedvectors.Vocab at 0x1a2b89ed68>,\n",
       " 'shortly': <gensim.models.keyedvectors.Vocab at 0x1a2b89e7f0>,\n",
       " 'after': <gensim.models.keyedvectors.Vocab at 0x1a2b89e4e0>,\n",
       " 'joined': <gensim.models.keyedvectors.Vocab at 0x1a2b89e1d0>,\n",
       " 'polarised': <gensim.models.keyedvectors.Vocab at 0x1a2b89e630>,\n",
       " 'into': <gensim.models.keyedvectors.Vocab at 0x1a2b8ab080>,\n",
       " 'camps': <gensim.models.keyedvectors.Vocab at 0x1a2b8ab0b8>,\n",
       " 'respective': <gensim.models.keyedvectors.Vocab at 0x1a2b8ab0f0>,\n",
       " 'figureheads': <gensim.models.keyedvectors.Vocab at 0x1a2b8ab128>,\n",
       " 'clearest': <gensim.models.keyedvectors.Vocab at 0x1a2b8ab1d0>,\n",
       " 'difference': <gensim.models.keyedvectors.Vocab at 0x1a2b8ab240>,\n",
       " 'between': <gensim.models.keyedvectors.Vocab at 0x1a2b8ab278>,\n",
       " 'strategy': <gensim.models.keyedvectors.Vocab at 0x1a2b8ab320>,\n",
       " 'around': <gensim.models.keyedvectors.Vocab at 0x1a2b8ab358>,\n",
       " 'favoured': <gensim.models.keyedvectors.Vocab at 0x1a2b8ab3c8>,\n",
       " 'words': <gensim.models.keyedvectors.Vocab at 0x1a2b8ab438>,\n",
       " 'direct': <gensim.models.keyedvectors.Vocab at 0x1a2b8ab4e0>,\n",
       " 'economical': <gensim.models.keyedvectors.Vocab at 0x1a2b8ab518>,\n",
       " 'struggle': <gensim.models.keyedvectors.Vocab at 0x1a2b8ab5f8>,\n",
       " 'capitalism': <gensim.models.keyedvectors.Vocab at 0x1a2b8ab710>,\n",
       " 'interfering': <gensim.models.keyedvectors.Vocab at 0x1a2b8ab748>,\n",
       " 'parliamentary': <gensim.models.keyedvectors.Vocab at 0x1a2b8ab7f0>,\n",
       " 'agitation': <gensim.models.keyedvectors.Vocab at 0x1a2b8ab828>,\n",
       " 'focused': <gensim.models.keyedvectors.Vocab at 0x1a2b8ab898>,\n",
       " 'activity': <gensim.models.keyedvectors.Vocab at 0x1a2b8ab908>,\n",
       " 'characterised': <gensim.models.keyedvectors.Vocab at 0x1a2b8ab940>,\n",
       " 'predicted': <gensim.models.keyedvectors.Vocab at 0x1a2b8ab978>,\n",
       " 'if': <gensim.models.keyedvectors.Vocab at 0x1a2b8ab9b0>,\n",
       " 'marxist': <gensim.models.keyedvectors.Vocab at 0x1a2b8aba20>,\n",
       " 'party': <gensim.models.keyedvectors.Vocab at 0x1a2b8aba58>,\n",
       " 'gained': <gensim.models.keyedvectors.Vocab at 0x1a2b8aba90>,\n",
       " 'leaders': <gensim.models.keyedvectors.Vocab at 0x1a2b8abb00>,\n",
       " 'end': <gensim.models.keyedvectors.Vocab at 0x1a2b8abb70>,\n",
       " 'bad': <gensim.models.keyedvectors.Vocab at 0x1a2b8abba8>,\n",
       " 'ruling': <gensim.models.keyedvectors.Vocab at 0x1a2b8abbe0>,\n",
       " 'fought': <gensim.models.keyedvectors.Vocab at 0x1a2b8abc88>,\n",
       " 'climaxed': <gensim.models.keyedvectors.Vocab at 0x1a2b8abcc0>,\n",
       " 'final': <gensim.models.keyedvectors.Vocab at 0x1a2b8abcf8>,\n",
       " 'split': <gensim.models.keyedvectors.Vocab at 0x1a2b8abd68>,\n",
       " 'hague': <gensim.models.keyedvectors.Vocab at 0x1a2b8abda0>,\n",
       " 'congress': <gensim.models.keyedvectors.Vocab at 0x1a2b8abdd8>,\n",
       " 'often': <gensim.models.keyedvectors.Vocab at 0x1a2b8abe10>,\n",
       " 'cited': <gensim.models.keyedvectors.Vocab at 0x1a2b8abe48>,\n",
       " 'origin': <gensim.models.keyedvectors.Vocab at 0x1a2b8abe80>,\n",
       " 'marxists': <gensim.models.keyedvectors.Vocab at 0x1a2b8abef0>,\n",
       " 'democratic': <gensim.models.keyedvectors.Vocab at 0x1a2b8abf28>,\n",
       " 'socialism': <gensim.models.keyedvectors.Vocab at 0x1a2b8abf60>,\n",
       " 'distinct': <gensim.models.keyedvectors.Vocab at 0x1a2b8abf98>,\n",
       " 'organisations': <gensim.models.keyedvectors.Vocab at 0x1a2b8abfd0>,\n",
       " 'rival': <gensim.models.keyedvectors.Vocab at 0x1a2b8ac048>,\n",
       " 'internationals': <gensim.models.keyedvectors.Vocab at 0x1a2b8ac080>,\n",
       " 'peter': <gensim.models.keyedvectors.Vocab at 0x1a2b8ac160>,\n",
       " 'both': <gensim.models.keyedvectors.Vocab at 0x1a2b8ac198>,\n",
       " 'associating': <gensim.models.keyedvectors.Vocab at 0x1a2b8ac2b0>,\n",
       " 'moved': <gensim.models.keyedvectors.Vocab at 0x1a2b8ac2e8>,\n",
       " 'away': <gensim.models.keyedvectors.Vocab at 0x1a2b8ac438>,\n",
       " 'thinking': <gensim.models.keyedvectors.Vocab at 0x1a2b8ac588>,\n",
       " 'collectivism': <gensim.models.keyedvectors.Vocab at 0x1a2b8ac5c0>,\n",
       " 'embraced': <gensim.models.keyedvectors.Vocab at 0x1a2b8ac630>,\n",
       " 'communist': <gensim.models.keyedvectors.Vocab at 0x1a2b8ac6a0>,\n",
       " 'concepts': <gensim.models.keyedvectors.Vocab at 0x1a2b8ac780>,\n",
       " 'communists': <gensim.models.keyedvectors.Vocab at 0x1a2b8ac7f0>,\n",
       " 'owned': <gensim.models.keyedvectors.Vocab at 0x1a2b8ac860>,\n",
       " 'collectively': <gensim.models.keyedvectors.Vocab at 0x1a2b8ac898>,\n",
       " 'distributed': <gensim.models.keyedvectors.Vocab at 0x1a2b8ac8d0>,\n",
       " 'need': <gensim.models.keyedvectors.Vocab at 0x1a2b8ac908>,\n",
       " 'd': <gensim.models.keyedvectors.Vocab at 0x1a2b8ac940>,\n",
       " 'jacque': <gensim.models.keyedvectors.Vocab at 0x1a2b8ac9b0>,\n",
       " 'person': <gensim.models.keyedvectors.Vocab at 0x1a2b8ac9e8>,\n",
       " 'unlike': <gensim.models.keyedvectors.Vocab at 0x1a2b8aca58>,\n",
       " 'worker': <gensim.models.keyedvectors.Vocab at 0x1a2b8acac8>,\n",
       " 'satisfaction': <gensim.models.keyedvectors.Vocab at 0x1a2b8acb00>,\n",
       " 'needs': <gensim.models.keyedvectors.Vocab at 0x1a2b8acb38>,\n",
       " 'whatever': <gensim.models.keyedvectors.Vocab at 0x1a2b8acb70>,\n",
       " 'may': <gensim.models.keyedvectors.Vocab at 0x1a2b8acba8>,\n",
       " 'nature': <gensim.models.keyedvectors.Vocab at 0x1a2b8acc18>,\n",
       " 'announced': <gensim.models.keyedvectors.Vocab at 0x1a2b8acc50>,\n",
       " 'us': <gensim.models.keyedvectors.Vocab at 0x1a2b8acc88>,\n",
       " 'journal': <gensim.models.keyedvectors.Vocab at 0x1a2b8accc0>,\n",
       " 'le': <gensim.models.keyedvectors.Vocab at 0x1a2b8accf8>,\n",
       " 'libertaire': <gensim.models.keyedvectors.Vocab at 0x1a2b8acd30>,\n",
       " 'seen': <gensim.models.keyedvectors.Vocab at 0x1a2b8acda0>,\n",
       " 'important': <gensim.models.keyedvectors.Vocab at 0x1a2b8acdd8>,\n",
       " 'theorist': <gensim.models.keyedvectors.Vocab at 0x1a2b8ace10>,\n",
       " 'outlined': <gensim.models.keyedvectors.Vocab at 0x1a2b8ace80>,\n",
       " 'conquest': <gensim.models.keyedvectors.Vocab at 0x1a2b8aceb8>,\n",
       " 'bread': <gensim.models.keyedvectors.Vocab at 0x1a2b8acef0>,\n",
       " 'fields': <gensim.models.keyedvectors.Vocab at 0x1a2b8acf28>,\n",
       " 'factories': <gensim.models.keyedvectors.Vocab at 0x1a2b8acf60>,\n",
       " 'felt': <gensim.models.keyedvectors.Vocab at 0x1a2b8acf98>,\n",
       " 'operation': <gensim.models.keyedvectors.Vocab at 0x1a2b8b0080>,\n",
       " 'beneficial': <gensim.models.keyedvectors.Vocab at 0x1a2b8b00f0>,\n",
       " 'illustrated': <gensim.models.keyedvectors.Vocab at 0x1a2b8b0128>,\n",
       " 'factor': <gensim.models.keyedvectors.Vocab at 0x1a2b8b0160>,\n",
       " 'evolution': <gensim.models.keyedvectors.Vocab at 0x1a2b8b0198>,\n",
       " 'subsequent': <gensim.models.keyedvectors.Vocab at 0x1a2b8b0278>,\n",
       " 'include': <gensim.models.keyedvectors.Vocab at 0x1a2b8b02e8>,\n",
       " 'emma': <gensim.models.keyedvectors.Vocab at 0x1a2b8b0320>,\n",
       " 'goldman': <gensim.models.keyedvectors.Vocab at 0x1a2b8b0358>,\n",
       " 'alexander': <gensim.models.keyedvectors.Vocab at 0x1a2b8b0400>,\n",
       " 'berkman': <gensim.models.keyedvectors.Vocab at 0x1a2b8b0438>,\n",
       " 'anarcho': <gensim.models.keyedvectors.Vocab at 0x1a2b8b0470>,\n",
       " 'syndicalist': <gensim.models.keyedvectors.Vocab at 0x1a2b8b04a8>,\n",
       " 'below': <gensim.models.keyedvectors.Vocab at 0x1a2b8b0518>,\n",
       " 'saw': <gensim.models.keyedvectors.Vocab at 0x1a2b8b0550>,\n",
       " 'objective': <gensim.models.keyedvectors.Vocab at 0x1a2b8b0588>,\n",
       " 'isaac': <gensim.models.keyedvectors.Vocab at 0x1a2b8b05c0>,\n",
       " 'puente': <gensim.models.keyedvectors.Vocab at 0x1a2b8b0630>,\n",
       " 'comunismo': <gensim.models.keyedvectors.Vocab at 0x1a2b8b06d8>,\n",
       " 'libertario': <gensim.models.keyedvectors.Vocab at 0x1a2b8b0710>,\n",
       " 'spanish': <gensim.models.keyedvectors.Vocab at 0x1a2b8b0748>,\n",
       " 'cnt': <gensim.models.keyedvectors.Vocab at 0x1a2b8b0780>,\n",
       " 'manifesto': <gensim.models.keyedvectors.Vocab at 0x1a2b8b0828>,\n",
       " 'post': <gensim.models.keyedvectors.Vocab at 0x1a2b8b0860>,\n",
       " 'disliked': <gensim.models.keyedvectors.Vocab at 0x1a2b8b0908>,\n",
       " 'merging': <gensim.models.keyedvectors.Vocab at 0x1a2b8b0940>,\n",
       " 'several': <gensim.models.keyedvectors.Vocab at 0x1a2b8b0978>,\n",
       " 'maintained': <gensim.models.keyedvectors.Vocab at 0x1a2b8b0a20>,\n",
       " 'abolition': <gensim.models.keyedvectors.Vocab at 0x1a2b8b0a58>,\n",
       " 'consistent': <gensim.models.keyedvectors.Vocab at 0x1a2b8b0a90>,\n",
       " 'example': <gensim.models.keyedvectors.Vocab at 0x1a2b8b0ac8>,\n",
       " 'professing': <gensim.models.keyedvectors.Vocab at 0x1a2b8b0b00>,\n",
       " 'publishing': <gensim.models.keyedvectors.Vocab at 0x1a2b8b0b38>,\n",
       " 'pseudo': <gensim.models.keyedvectors.Vocab at 0x1a2b8b0be0>,\n",
       " 'propaganda': <gensim.models.keyedvectors.Vocab at 0x1a2b8b0c18>,\n",
       " 'deed': <gensim.models.keyedvectors.Vocab at 0x1a2b8b0c50>,\n",
       " 'johann': <gensim.models.keyedvectors.Vocab at 0x1a2b8b0c88>,\n",
       " 'outspoken': <gensim.models.keyedvectors.Vocab at 0x1a2b8b0cc0>,\n",
       " 'violence': <gensim.models.keyedvectors.Vocab at 0x1a2b8b0d68>,\n",
       " 'portrayed': <gensim.models.keyedvectors.Vocab at 0x1a2b8b0da0>,\n",
       " 'dangerous': <gensim.models.keyedvectors.Vocab at 0x1a2b8b0dd8>,\n",
       " 'high': <gensim.models.keyedvectors.Vocab at 0x1a2b8b0e10>,\n",
       " 'profile': <gensim.models.keyedvectors.Vocab at 0x1a2b8b0e48>,\n",
       " 'acts': <gensim.models.keyedvectors.Vocab at 0x1a2b8b0e80>,\n",
       " 'riots': <gensim.models.keyedvectors.Vocab at 0x1a2b8b0f60>,\n",
       " 'assassinations': <gensim.models.keyedvectors.Vocab at 0x1a2b8b0f98>,\n",
       " 'insurrections': <gensim.models.keyedvectors.Vocab at 0x1a2b8b0fd0>,\n",
       " 'terrorism': <gensim.models.keyedvectors.Vocab at 0x1a2b8b1048>,\n",
       " 'revolutionaries': <gensim.models.keyedvectors.Vocab at 0x1a2b8b1080>,\n",
       " 'late': <gensim.models.keyedvectors.Vocab at 0x1a2b8b10f0>,\n",
       " 'encouraged': <gensim.models.keyedvectors.Vocab at 0x1a2b8b1128>,\n",
       " 'bombings': <gensim.models.keyedvectors.Vocab at 0x1a2b8b1160>,\n",
       " 'heads': <gensim.models.keyedvectors.Vocab at 0x1a2b8b1198>,\n",
       " 'further': <gensim.models.keyedvectors.Vocab at 0x1a2b8b1208>,\n",
       " 'actions': <gensim.models.keyedvectors.Vocab at 0x1a2b8b1278>,\n",
       " 'advocates': <gensim.models.keyedvectors.Vocab at 0x1a2b8b12b0>,\n",
       " 'said': <gensim.models.keyedvectors.Vocab at 0x1a2b8b1320>,\n",
       " 'existing': <gensim.models.keyedvectors.Vocab at 0x1a2b8b1358>,\n",
       " 'quickest': <gensim.models.keyedvectors.Vocab at 0x1a2b8b1390>,\n",
       " 'radically': <gensim.models.keyedvectors.Vocab at 0x1a2b8b13c8>,\n",
       " 'overthrown': <gensim.models.keyedvectors.Vocab at 0x1a2b8b1400>,\n",
       " 'annihilation': <gensim.models.keyedvectors.Vocab at 0x1a2b8b1470>,\n",
       " 'exponents': <gensim.models.keyedvectors.Vocab at 0x1a2b8b14a8>,\n",
       " 'therefore': <gensim.models.keyedvectors.Vocab at 0x1a2b8b14e0>,\n",
       " 'massacres': <gensim.models.keyedvectors.Vocab at 0x1a2b8b1550>,\n",
       " 'enemies': <gensim.models.keyedvectors.Vocab at 0x1a2b8b1588>,\n",
       " 'people': <gensim.models.keyedvectors.Vocab at 0x1a2b8b15f8>,\n",
       " 'must': <gensim.models.keyedvectors.Vocab at 0x1a2b8b16a0>,\n",
       " 'motion': <gensim.models.keyedvectors.Vocab at 0x1a2b8b16d8>,\n",
       " 'preferred': <gensim.models.keyedvectors.Vocab at 0x1a2b8b1710>,\n",
       " 'method': <gensim.models.keyedvectors.Vocab at 0x1a2b8b1748>,\n",
       " 'dynamite': <gensim.models.keyedvectors.Vocab at 0x1a2b8b17b8>,\n",
       " 'earned': <gensim.models.keyedvectors.Vocab at 0x1a2b8b17f0>,\n",
       " 'moniker': <gensim.models.keyedvectors.Vocab at 0x1a2b8b1828>,\n",
       " 'dynamost': <gensim.models.keyedvectors.Vocab at 0x1a2b8b1898>,\n",
       " 'consensus': <gensim.models.keyedvectors.Vocab at 0x1a2b8b1908>,\n",
       " 'legitimacy': <gensim.models.keyedvectors.Vocab at 0x1a2b8b1978>,\n",
       " 'utility': <gensim.models.keyedvectors.Vocab at 0x1a2b8b19b0>,\n",
       " 'errico': <gensim.models.keyedvectors.Vocab at 0x1a2b8b19e8>,\n",
       " 'malatesta': <gensim.models.keyedvectors.Vocab at 0x1a2b8b1a20>,\n",
       " 'necessary': <gensim.models.keyedvectors.Vocab at 0x1a2b8b1a90>,\n",
       " 'desirable': <gensim.models.keyedvectors.Vocab at 0x1a2b8b1ac8>,\n",
       " 'force': <gensim.models.keyedvectors.Vocab at 0x1a2b8b1b70>,\n",
       " 'settings': <gensim.models.keyedvectors.Vocab at 0x1a2b8b1be0>,\n",
       " 'same': <gensim.models.keyedvectors.Vocab at 0x1a2b8b1c88>,\n",
       " 'denounced': <gensim.models.keyedvectors.Vocab at 0x1a2b8b1cc0>,\n",
       " 'refuted': <gensim.models.keyedvectors.Vocab at 0x1a2b8b1cf8>,\n",
       " 'nechaev': <gensim.models.keyedvectors.Vocab at 0x1a2b8b1d30>,\n",
       " 'identified': <gensim.models.keyedvectors.Vocab at 0x1a2b8b1d68>,\n",
       " 'pacifist': <gensim.models.keyedvectors.Vocab at 0x1a2b8b1e10>,\n",
       " 'nonviolence': <gensim.models.keyedvectors.Vocab at 0x1a2b8b1e80>,\n",
       " 'leo': <gensim.models.keyedvectors.Vocab at 0x1a2b8b1eb8>,\n",
       " 'tolstoy': <gensim.models.keyedvectors.Vocab at 0x1a2b8b1ef0>,\n",
       " 'whose': <gensim.models.keyedvectors.Vocab at 0x1a2b8b1f60>,\n",
       " 'viewed': <gensim.models.keyedvectors.Vocab at 0x1a2b8b1fd0>,\n",
       " 'christian': <gensim.models.keyedvectors.Vocab at 0x1a2b8b2048>,\n",
       " 'notable': <gensim.models.keyedvectors.Vocab at 0x1a2b8b2080>,\n",
       " 'exponent': <gensim.models.keyedvectors.Vocab at 0x1a2b8b20b8>,\n",
       " 'nonviolent': <gensim.models.keyedvectors.Vocab at 0x1a2b8b20f0>,\n",
       " 'resistance': <gensim.models.keyedvectors.Vocab at 0x1a2b8b2160>,\n",
       " 'red': <gensim.models.keyedvectors.Vocab at 0x1a2b8b2198>,\n",
       " 'black': <gensim.models.keyedvectors.Vocab at 0x1a2b8b21d0>,\n",
       " 'flag': <gensim.models.keyedvectors.Vocab at 0x1a2b8b2208>,\n",
       " 'coming': <gensim.models.keyedvectors.Vocab at 0x1a2b8b2240>,\n",
       " 'experience': <gensim.models.keyedvectors.Vocab at 0x1a2b8b2278>,\n",
       " 'associated': <gensim.models.keyedvectors.Vocab at 0x1a2b8b22e8>,\n",
       " 'syndicalism': <gensim.models.keyedvectors.Vocab at 0x1a2b8b2320>,\n",
       " 'seeking': <gensim.models.keyedvectors.Vocab at 0x1a2b8b2400>,\n",
       " 'overthrow': <gensim.models.keyedvectors.Vocab at 0x1a2b8b2438>,\n",
       " 'institute': <gensim.models.keyedvectors.Vocab at 0x1a2b8b2470>,\n",
       " 'controlled': <gensim.models.keyedvectors.Vocab at 0x1a2b8b2518>,\n",
       " 'pursued': <gensim.models.keyedvectors.Vocab at 0x1a2b8b2588>,\n",
       " 'industrial': <gensim.models.keyedvectors.Vocab at 0x1a2b8b25c0>,\n",
       " 'strike': <gensim.models.keyedvectors.Vocab at 0x1a2b8b2630>,\n",
       " 'primary': <gensim.models.keyedvectors.Vocab at 0x1a2b8b2668>,\n",
       " 'syndicalists': <gensim.models.keyedvectors.Vocab at 0x1a2b8b26a0>,\n",
       " 'though': <gensim.models.keyedvectors.Vocab at 0x1a2b8b26d8>,\n",
       " 'repression': <gensim.models.keyedvectors.Vocab at 0x1a2b8b2710>,\n",
       " 'reemerged': <gensim.models.keyedvectors.Vocab at 0x1a2b8b27b8>,\n",
       " 'influencing': <gensim.models.keyedvectors.Vocab at 0x1a2b8b27f0>,\n",
       " 'bourses': <gensim.models.keyedvectors.Vocab at 0x1a2b8b2828>,\n",
       " 'travails': <gensim.models.keyedvectors.Vocab at 0x1a2b8b2860>,\n",
       " 'unions': <gensim.models.keyedvectors.Vocab at 0x1a2b8b2898>,\n",
       " 'conf': <gensim.models.keyedvectors.Vocab at 0x1a2b8b28d0>,\n",
       " 'ration': <gensim.models.keyedvectors.Vocab at 0x1a2b8b2908>,\n",
       " 'g': <gensim.models.keyedvectors.Vocab at 0x1a2b8b2940>,\n",
       " 'n': <gensim.models.keyedvectors.Vocab at 0x1a2b8b2978>,\n",
       " 'rale': <gensim.models.keyedvectors.Vocab at 0x1a2b8b29b0>,\n",
       " 'du': <gensim.models.keyedvectors.Vocab at 0x1a2b8b29e8>,\n",
       " 'travail': <gensim.models.keyedvectors.Vocab at 0x1a2b8b2a20>,\n",
       " 'confederation': <gensim.models.keyedvectors.Vocab at 0x1a2b8b2ac8>,\n",
       " 'cgt': <gensim.models.keyedvectors.Vocab at 0x1a2b8b2b38>,\n",
       " 'formed': <gensim.models.keyedvectors.Vocab at 0x1a2b8b2b70>,\n",
       " 'emile': <gensim.models.keyedvectors.Vocab at 0x1a2b8b2be0>,\n",
       " 'pataud': <gensim.models.keyedvectors.Vocab at 0x1a2b8b2c18>,\n",
       " 'pouget': <gensim.models.keyedvectors.Vocab at 0x1a2b8b2cc0>,\n",
       " 'writing': <gensim.models.keyedvectors.Vocab at 0x1a2b8b2cf8>,\n",
       " 'developing': <gensim.models.keyedvectors.Vocab at 0x1a2b8b2d68>,\n",
       " 'appeal': <gensim.models.keyedvectors.Vocab at 0x1a2b8b2da0>,\n",
       " 'bolshevism': <gensim.models.keyedvectors.Vocab at 0x1a2b8b2dd8>,\n",
       " 'style': <gensim.models.keyedvectors.Vocab at 0x1a2b8b2e10>,\n",
       " 'significant': <gensim.models.keyedvectors.Vocab at 0x1a2b8b2e48>,\n",
       " 'prior': <gensim.models.keyedvectors.Vocab at 0x1a2b8b2e80>,\n",
       " 'remained': <gensim.models.keyedvectors.Vocab at 0x1a2b8b2eb8>,\n",
       " 'spain': <gensim.models.keyedvectors.Vocab at 0x1a2b8b2ef0>,\n",
       " 'mid': <gensim.models.keyedvectors.Vocab at 0x1a2b8b2f60>,\n",
       " 'world': <gensim.models.keyedvectors.Vocab at 0x1a2b8b2f98>,\n",
       " 'iww': <gensim.models.keyedvectors.Vocab at 0x1a2b8b2fd0>,\n",
       " 'founded': <gensim.models.keyedvectors.Vocab at 0x1a2b8bf048>,\n",
       " 'espoused': <gensim.models.keyedvectors.Vocab at 0x1a2b8bf080>,\n",
       " 'unionism': <gensim.models.keyedvectors.Vocab at 0x1a2b8bf0b8>,\n",
       " 'sought': <gensim.models.keyedvectors.Vocab at 0x1a2b8bf128>,\n",
       " 'usher': <gensim.models.keyedvectors.Vocab at 0x1a2b8bf160>,\n",
       " 'stateless': <gensim.models.keyedvectors.Vocab at 0x1a2b8bf198>,\n",
       " 'members': <gensim.models.keyedvectors.Vocab at 0x1a2b8bf1d0>,\n",
       " 'support': <gensim.models.keyedvectors.Vocab at 0x1a2b8bf208>,\n",
       " 'explicitly': <gensim.models.keyedvectors.Vocab at 0x1a2b8bf240>,\n",
       " 'rank': <gensim.models.keyedvectors.Vocab at 0x1a2b8bf278>,\n",
       " 'file': <gensim.models.keyedvectors.Vocab at 0x1a2b8bf2b0>,\n",
       " 'democracy': <gensim.models.keyedvectors.Vocab at 0x1a2b8bf320>,\n",
       " 'embodying': <gensim.models.keyedvectors.Vocab at 0x1a2b8bf358>,\n",
       " 'inspired': <gensim.models.keyedvectors.Vocab at 0x1a2b8bf3c8>,\n",
       " 'anglophone': <gensim.models.keyedvectors.Vocab at 0x1a2b8bf400>,\n",
       " 'reads': <gensim.models.keyedvectors.Vocab at 0x1a2b8bf438>,\n",
       " 'don': <gensim.models.keyedvectors.Vocab at 0x1a2b8bf4a8>,\n",
       " 'let': <gensim.models.keyedvectors.Vocab at 0x1a2b8bf550>,\n",
       " 'politicians': <gensim.models.keyedvectors.Vocab at 0x1a2b8bf588>,\n",
       " 'rule': <gensim.models.keyedvectors.Vocab at 0x1a2b8bf5c0>,\n",
       " 'our': <gensim.models.keyedvectors.Vocab at 0x1a2b8bf5f8>,\n",
       " 'lives': <gensim.models.keyedvectors.Vocab at 0x1a2b8bf630>,\n",
       " 'you': <gensim.models.keyedvectors.Vocab at 0x1a2b8bf668>,\n",
       " 'vote': <gensim.models.keyedvectors.Vocab at 0x1a2b8bf6a0>,\n",
       " 'decide': <gensim.models.keyedvectors.Vocab at 0x1a2b8bf6d8>,\n",
       " 'allow': <gensim.models.keyedvectors.Vocab at 0x1a2b8bf710>,\n",
       " 'unity': <gensim.models.keyedvectors.Vocab at 0x1a2b8bf780>,\n",
       " 'action': <gensim.models.keyedvectors.Vocab at 0x1a2b8bf7b8>,\n",
       " 'management': <gensim.models.keyedvectors.Vocab at 0x1a2b8bf908>,\n",
       " 'union': <gensim.models.keyedvectors.Vocab at 0x1a2b8bf940>,\n",
       " 'federations': <gensim.models.keyedvectors.Vocab at 0x1a2b8bf978>,\n",
       " 'successful': <gensim.models.keyedvectors.Vocab at 0x1a2b8bf9e8>,\n",
       " 'confederaci': <gensim.models.keyedvectors.Vocab at 0x1a2b8bfa20>,\n",
       " 'nacional': <gensim.models.keyedvectors.Vocab at 0x1a2b8bfa90>,\n",
       " 'del': <gensim.models.keyedvectors.Vocab at 0x1a2b8bfb00>,\n",
       " 'trabajo': <gensim.models.keyedvectors.Vocab at 0x1a2b8bfb38>,\n",
       " 'national': <gensim.models.keyedvectors.Vocab at 0x1a2b8bfb70>,\n",
       " 'politics': <gensim.models.keyedvectors.Vocab at 0x1a2b8bfba8>,\n",
       " 'membership': <gensim.models.keyedvectors.Vocab at 0x1a2b8bfc18>,\n",
       " 'million': <gensim.models.keyedvectors.Vocab at 0x1a2b8bfc50>,\n",
       " 'played': <gensim.models.keyedvectors.Vocab at 0x1a2b8bfc88>,\n",
       " 'role': <gensim.models.keyedvectors.Vocab at 0x1a2b8bfd30>,\n",
       " 'like': <gensim.models.keyedvectors.Vocab at 0x1a2b8bfd68>,\n",
       " 'ricardo': <gensim.models.keyedvectors.Vocab at 0x1a2b8bfe10>,\n",
       " 'flores': <gensim.models.keyedvectors.Vocab at 0x1a2b8bfe48>,\n",
       " 'mag': <gensim.models.keyedvectors.Vocab at 0x1a2b8bfeb8>,\n",
       " 'key': <gensim.models.keyedvectors.Vocab at 0x1a2b8bfef0>,\n",
       " 'figures': <gensim.models.keyedvectors.Vocab at 0x1a2b8bff28>,\n",
       " 'mexican': <gensim.models.keyedvectors.Vocab at 0x1a2b8bff60>,\n",
       " 'latin': <gensim.models.keyedvectors.Vocab at 0x1a2b8bffd0>,\n",
       " 'influenced': <gensim.models.keyedvectors.Vocab at 0x1a2b8c6080>,\n",
       " 'extending': <gensim.models.keyedvectors.Vocab at 0x1a2b8c60b8>,\n",
       " 'zapatista': <gensim.models.keyedvectors.Vocab at 0x1a2b8c6160>,\n",
       " 'rebellion': <gensim.models.keyedvectors.Vocab at 0x1a2b8c6198>,\n",
       " 'factory': <gensim.models.keyedvectors.Vocab at 0x1a2b8c61d0>,\n",
       " 'occupation': <gensim.models.keyedvectors.Vocab at 0x1a2b8c6208>,\n",
       " 'argentina': <gensim.models.keyedvectors.Vocab at 0x1a2b8c6240>,\n",
       " 'berlin': <gensim.models.keyedvectors.Vocab at 0x1a2b8c6278>,\n",
       " 'successor': <gensim.models.keyedvectors.Vocab at 0x1a2b8c62e8>,\n",
       " 'contemporary': <gensim.models.keyedvectors.Vocab at 0x1a2b8c6320>,\n",
       " 'continues': <gensim.models.keyedvectors.Vocab at 0x1a2b8c6358>,\n",
       " 'minor': <gensim.models.keyedvectors.Vocab at 0x1a2b8c63c8>,\n",
       " 'socities': <gensim.models.keyedvectors.Vocab at 0x1a2b8c6400>,\n",
       " 'smaller': <gensim.models.keyedvectors.Vocab at 0x1a2b8c6438>,\n",
       " 'largest': <gensim.models.keyedvectors.Vocab at 0x1a2b8c6470>,\n",
       " 'organised': <gensim.models.keyedvectors.Vocab at 0x1a2b8c64e0>,\n",
       " 'today': <gensim.models.keyedvectors.Vocab at 0x1a2b8c6518>,\n",
       " 'claims': <gensim.models.keyedvectors.Vocab at 0x1a2b8c65f8>,\n",
       " 'paid': <gensim.models.keyedvectors.Vocab at 0x1a2b8c6630>,\n",
       " 'votes': <gensim.models.keyedvectors.Vocab at 0x1a2b8c6668>,\n",
       " 'syndical': <gensim.models.keyedvectors.Vocab at 0x1a2b8c66a0>,\n",
       " 'elections': <gensim.models.keyedvectors.Vocab at 0x1a2b8c66d8>,\n",
       " 'solidarity': <gensim.models.keyedvectors.Vocab at 0x1a2b8c6710>,\n",
       " 'alliance': <gensim.models.keyedvectors.Vocab at 0x1a2b8c6780>,\n",
       " 'uk': <gensim.models.keyedvectors.Vocab at 0x1a2b8c67b8>,\n",
       " 'federation': <gensim.models.keyedvectors.Vocab at 0x1a2b8c6898>,\n",
       " 'unionist': <gensim.models.keyedvectors.Vocab at 0x1a2b8c6908>,\n",
       " 'exists': <gensim.models.keyedvectors.Vocab at 0x1a2b8c69b0>,\n",
       " 'claiming': <gensim.models.keyedvectors.Vocab at 0x1a2b8c69e8>,\n",
       " 'critics': <gensim.models.keyedvectors.Vocab at 0x1a2b8c6a58>,\n",
       " 'workerist': <gensim.models.keyedvectors.Vocab at 0x1a2b8c6ac8>,\n",
       " 'fail': <gensim.models.keyedvectors.Vocab at 0x1a2b8c6b38>,\n",
       " 'deal': <gensim.models.keyedvectors.Vocab at 0x1a2b8c6b70>,\n",
       " 'life': <gensim.models.keyedvectors.Vocab at 0x1a2b8c6be0>,\n",
       " 'outside': <gensim.models.keyedvectors.Vocab at 0x1a2b8c6c18>,\n",
       " 'leftist': <gensim.models.keyedvectors.Vocab at 0x1a2b8c6c50>,\n",
       " 'bob': <gensim.models.keyedvectors.Vocab at 0x1a2b8c6c88>,\n",
       " 'oppressive': <gensim.models.keyedvectors.Vocab at 0x1a2b8c6d68>,\n",
       " 'workplace': <gensim.models.keyedvectors.Vocab at 0x1a2b8c6da0>,\n",
       " 'uphold': <gensim.models.keyedvectors.Vocab at 0x1a2b8c6dd8>,\n",
       " 'russian': <gensim.models.keyedvectors.Vocab at 0x1a2b8c6e10>,\n",
       " 'seismic': <gensim.models.keyedvectors.Vocab at 0x1a2b8c6e48>,\n",
       " 'event': <gensim.models.keyedvectors.Vocab at 0x1a2b8c6eb8>,\n",
       " 'development': <gensim.models.keyedvectors.Vocab at 0x1a2b8c6f60>,\n",
       " 'alongside': <gensim.models.keyedvectors.Vocab at 0x1a2b8c6fd0>,\n",
       " 'bolsheviks': <gensim.models.keyedvectors.Vocab at 0x1a2b8c7048>,\n",
       " 'february': <gensim.models.keyedvectors.Vocab at 0x1a2b8c7080>,\n",
       " 'october': <gensim.models.keyedvectors.Vocab at 0x1a2b8c70b8>,\n",
       " 'initially': <gensim.models.keyedvectors.Vocab at 0x1a2b8c70f0>,\n",
       " 'supporting': <gensim.models.keyedvectors.Vocab at 0x1a2b8c7128>,\n",
       " 'bolshevik': <gensim.models.keyedvectors.Vocab at 0x1a2b8c7198>,\n",
       " 'coup': <gensim.models.keyedvectors.Vocab at 0x1a2b8c7208>,\n",
       " 'soon': <gensim.models.keyedvectors.Vocab at 0x1a2b8c7240>,\n",
       " 'turned': <gensim.models.keyedvectors.Vocab at 0x1a2b8c7278>,\n",
       " 'left': <gensim.models.keyedvectors.Vocab at 0x1a2b8c72b0>,\n",
       " 'wing': <gensim.models.keyedvectors.Vocab at 0x1a2b8c72e8>,\n",
       " 'opposition': <gensim.models.keyedvectors.Vocab at 0x1a2b8c7358>,\n",
       " 'culminated': <gensim.models.keyedvectors.Vocab at 0x1a2b8c7390>,\n",
       " 'kronstadt': <gensim.models.keyedvectors.Vocab at 0x1a2b8c73c8>,\n",
       " 'central': <gensim.models.keyedvectors.Vocab at 0x1a2b8c7400>,\n",
       " 'russia': <gensim.models.keyedvectors.Vocab at 0x1a2b8c7438>,\n",
       " 'imprisoned': <gensim.models.keyedvectors.Vocab at 0x1a2b8c7470>,\n",
       " 'driven': <gensim.models.keyedvectors.Vocab at 0x1a2b8c74a8>,\n",
       " 'underground': <gensim.models.keyedvectors.Vocab at 0x1a2b8c7518>,\n",
       " 'victorious': <gensim.models.keyedvectors.Vocab at 0x1a2b8c75c0>,\n",
       " 'ukraine': <gensim.models.keyedvectors.Vocab at 0x1a2b8c75f8>,\n",
       " 'whites': <gensim.models.keyedvectors.Vocab at 0x1a2b8c7630>,\n",
       " 'makhnovshchina': <gensim.models.keyedvectors.Vocab at 0x1a2b8c7748>,\n",
       " 'peasant': <gensim.models.keyedvectors.Vocab at 0x1a2b8c7780>,\n",
       " 'army': <gensim.models.keyedvectors.Vocab at 0x1a2b8c77f0>,\n",
       " 'led': <gensim.models.keyedvectors.Vocab at 0x1a2b8c7898>,\n",
       " 'nestor': <gensim.models.keyedvectors.Vocab at 0x1a2b8c7940>,\n",
       " 'makhno': <gensim.models.keyedvectors.Vocab at 0x1a2b8c79b0>,\n",
       " 'expelled': <gensim.models.keyedvectors.Vocab at 0x1a2b8c7ac8>,\n",
       " 'leaving': <gensim.models.keyedvectors.Vocab at 0x1a2b8c7b70>,\n",
       " 'amongst': <gensim.models.keyedvectors.Vocab at 0x1a2b8c7be0>,\n",
       " 'those': <gensim.models.keyedvectors.Vocab at 0x1a2b8c7c50>,\n",
       " 'agitating': <gensim.models.keyedvectors.Vocab at 0x1a2b8c7c88>,\n",
       " 'response': <gensim.models.keyedvectors.Vocab at 0x1a2b8c7cc0>,\n",
       " 'policy': <gensim.models.keyedvectors.Vocab at 0x1a2b8c7cf8>,\n",
       " 'suppression': <gensim.models.keyedvectors.Vocab at 0x1a2b8c7d30>,\n",
       " 'uprising': <gensim.models.keyedvectors.Vocab at 0x1a2b8c7d68>,\n",
       " 'classic': <gensim.models.keyedvectors.Vocab at 0x1a2b8c7da0>,\n",
       " 'accounts': <gensim.models.keyedvectors.Vocab at 0x1a2b8c7dd8>,\n",
       " 'experiences': <gensim.models.keyedvectors.Vocab at 0x1a2b8c7e10>,\n",
       " 'aiming': <gensim.models.keyedvectors.Vocab at 0x1a2b8c7e48>,\n",
       " 'expose': <gensim.models.keyedvectors.Vocab at 0x1a2b8c7e80>,\n",
       " 'control': <gensim.models.keyedvectors.Vocab at 0x1a2b8c7eb8>,\n",
       " 'them': <gensim.models.keyedvectors.Vocab at 0x1a2b8c7ef0>,\n",
       " 'predictions': <gensim.models.keyedvectors.Vocab at 0x1a2b8c7f28>,\n",
       " 'consequences': <gensim.models.keyedvectors.Vocab at 0x1a2b8c7f60>,\n",
       " 'proved': <gensim.models.keyedvectors.Vocab at 0x1a2b8c7fd0>,\n",
       " 'too': <gensim.models.keyedvectors.Vocab at 0x1a2b8ca048>,\n",
       " 'victory': <gensim.models.keyedvectors.Vocab at 0x1a2b8ca0b8>,\n",
       " 'resulting': <gensim.models.keyedvectors.Vocab at 0x1a2b8ca0f0>,\n",
       " 'serious': <gensim.models.keyedvectors.Vocab at 0x1a2b8ca128>,\n",
       " 'damage': <gensim.models.keyedvectors.Vocab at 0x1a2b8ca160>,\n",
       " 'internationally': <gensim.models.keyedvectors.Vocab at 0x1a2b8ca198>,\n",
       " 'activists': <gensim.models.keyedvectors.Vocab at 0x1a2b8ca1d0>,\n",
       " 'success': <gensim.models.keyedvectors.Vocab at 0x1a2b8ca240>,\n",
       " 'setting': <gensim.models.keyedvectors.Vocab at 0x1a2b8ca278>,\n",
       " 'parties': <gensim.models.keyedvectors.Vocab at 0x1a2b8ca2b0>,\n",
       " 'grew': <gensim.models.keyedvectors.Vocab at 0x1a2b8ca2e8>,\n",
       " 'expense': <gensim.models.keyedvectors.Vocab at 0x1a2b8ca320>,\n",
       " 'socialist': <gensim.models.keyedvectors.Vocab at 0x1a2b8ca390>,\n",
       " 'began': <gensim.models.keyedvectors.Vocab at 0x1a2b8ca3c8>,\n",
       " 'realign': <gensim.models.keyedvectors.Vocab at 0x1a2b8ca400>,\n",
       " 'themselves': <gensim.models.keyedvectors.Vocab at 0x1a2b8ca438>,\n",
       " 'towards': <gensim.models.keyedvectors.Vocab at 0x1a2b8ca4a8>,\n",
       " 'paris': <gensim.models.keyedvectors.Vocab at 0x1a2b8ca518>,\n",
       " 'dielo': <gensim.models.keyedvectors.Vocab at 0x1a2b8ca550>,\n",
       " 'truda': <gensim.models.keyedvectors.Vocab at 0x1a2b8ca588>,\n",
       " 'group': <gensim.models.keyedvectors.Vocab at 0x1a2b8ca5c0>,\n",
       " 'exiles': <gensim.models.keyedvectors.Vocab at 0x1a2b8ca5f8>,\n",
       " 'concluded': <gensim.models.keyedvectors.Vocab at 0x1a2b8ca630>,\n",
       " 'needed': <gensim.models.keyedvectors.Vocab at 0x1a2b8ca668>,\n",
       " 'develop': <gensim.models.keyedvectors.Vocab at 0x1a2b8ca6d8>,\n",
       " 'forms': <gensim.models.keyedvectors.Vocab at 0x1a2b8ca710>,\n",
       " 'organisational': <gensim.models.keyedvectors.Vocab at 0x1a2b8ca780>,\n",
       " 'platform': <gensim.models.keyedvectors.Vocab at 0x1a2b8ca7b8>,\n",
       " 'inspire': <gensim.models.keyedvectors.Vocab at 0x1a2b8ca860>,\n",
       " 'theoretical': <gensim.models.keyedvectors.Vocab at 0x1a2b8ca898>,\n",
       " 'tactical': <gensim.models.keyedvectors.Vocab at 0x1a2b8ca8d0>,\n",
       " 'collective': <gensim.models.keyedvectors.Vocab at 0x1a2b8ca908>,\n",
       " 'responsibility': <gensim.models.keyedvectors.Vocab at 0x1a2b8ca940>,\n",
       " 'federalism': <gensim.models.keyedvectors.Vocab at 0x1a2b8ca978>,\n",
       " 'platformist': <gensim.models.keyedvectors.Vocab at 0x1a2b8ca9e8>,\n",
       " 'ireland': <gensim.models.keyedvectors.Vocab at 0x1a2b8caa20>,\n",
       " 'north': <gensim.models.keyedvectors.Vocab at 0x1a2b8caa90>,\n",
       " 'eastern': <gensim.models.keyedvectors.Vocab at 0x1a2b8caac8>,\n",
       " 'northeastern': <gensim.models.keyedvectors.Vocab at 0x1a2b8cab00>,\n",
       " 'states': <gensim.models.keyedvectors.Vocab at 0x1a2b8cab38>,\n",
       " 'bordering': <gensim.models.keyedvectors.Vocab at 0x1a2b8cabe0>,\n",
       " 'canada': <gensim.models.keyedvectors.Vocab at 0x1a2b8cac50>,\n",
       " 'fight': <gensim.models.keyedvectors.Vocab at 0x1a2b8cac88>,\n",
       " 'fascism': <gensim.models.keyedvectors.Vocab at 0x1a2b8cacc0>,\n",
       " 'construct': <gensim.models.keyedvectors.Vocab at 0x1a2b8cad30>,\n",
       " 'armoured': <gensim.models.keyedvectors.Vocab at 0x1a2b8cad68>,\n",
       " 'cars': <gensim.models.keyedvectors.Vocab at 0x1a2b8cada0>,\n",
       " 'fascists': <gensim.models.keyedvectors.Vocab at 0x1a2b8cadd8>,\n",
       " 'collectivised': <gensim.models.keyedvectors.Vocab at 0x1a2b8cae10>,\n",
       " 'familiar': <gensim.models.keyedvectors.Vocab at 0x1a2b8cae80>,\n",
       " 'dynamics': <gensim.models.keyedvectors.Vocab at 0x1a2b8caeb8>,\n",
       " 'transformed': <gensim.models.keyedvectors.Vocab at 0x1a2b8caef0>,\n",
       " 'rise': <gensim.models.keyedvectors.Vocab at 0x1a2b8caf28>,\n",
       " 'cases': <gensim.models.keyedvectors.Vocab at 0x1a2b8caf60>,\n",
       " 'faced': <gensim.models.keyedvectors.Vocab at 0x1a2b8caf98>,\n",
       " ...}"
      ]
     },
     "execution_count": 53,
     "metadata": {},
     "output_type": "execute_result"
    }
   ],
   "source": [
    "model.wv.vocab"
   ]
  },
  {
   "cell_type": "markdown",
   "metadata": {},
   "source": []
  },
  {
   "cell_type": "code",
   "execution_count": 56,
   "metadata": {},
   "outputs": [],
   "source": [
    "# It's possible to save your trained model in your disk\n",
    "model.save('/tmp/our_model')"
   ]
  },
  {
   "cell_type": "code",
   "execution_count": 81,
   "metadata": {},
   "outputs": [],
   "source": [
    "#Then you can reload your trained model\n",
    "our_model = gensim.models.Word2Vec.load('/tmp/our_model') "
   ]
  },
  {
   "cell_type": "code",
   "execution_count": 82,
   "metadata": {},
   "outputs": [
    {
     "ename": "NameError",
     "evalue": "name 'model' is not defined",
     "output_type": "error",
     "traceback": [
      "\u001b[0;31m---------------------------------------------------------------------------\u001b[0m",
      "\u001b[0;31mNameError\u001b[0m                                 Traceback (most recent call last)",
      "\u001b[0;32m<ipython-input-82-e9a830260e3e>\u001b[0m in \u001b[0;36m<module>\u001b[0;34m()\u001b[0m\n\u001b[0;32m----> 1\u001b[0;31m \u001b[0mmodel\u001b[0m\u001b[0;34m.\u001b[0m\u001b[0mwv\u001b[0m\u001b[0;34m[\u001b[0m\u001b[0;34m'is'\u001b[0m\u001b[0;34m]\u001b[0m\u001b[0;34m\u001b[0m\u001b[0m\n\u001b[0m",
      "\u001b[0;31mNameError\u001b[0m: name 'model' is not defined"
     ]
    }
   ],
   "source": [
    "model.wv['is']"
   ]
  },
  {
   "cell_type": "code",
   "execution_count": 83,
   "metadata": {},
   "outputs": [
    {
     "ename": "NameError",
     "evalue": "name 'model' is not defined",
     "output_type": "error",
     "traceback": [
      "\u001b[0;31m---------------------------------------------------------------------------\u001b[0m",
      "\u001b[0;31mNameError\u001b[0m                                 Traceback (most recent call last)",
      "\u001b[0;32m<ipython-input-83-dd2a85af7a46>\u001b[0m in \u001b[0;36m<module>\u001b[0;34m()\u001b[0m\n\u001b[0;32m----> 1\u001b[0;31m \u001b[0mmodel\u001b[0m\u001b[0;34m.\u001b[0m\u001b[0mwv\u001b[0m\u001b[0;34m[\u001b[0m\u001b[0;34m'you'\u001b[0m\u001b[0;34m]\u001b[0m\u001b[0;34m\u001b[0m\u001b[0m\n\u001b[0m",
      "\u001b[0;31mNameError\u001b[0m: name 'model' is not defined"
     ]
    }
   ],
   "source": [
    "model.wv['you']"
   ]
  },
  {
   "cell_type": "code",
   "execution_count": 21,
   "metadata": {},
   "outputs": [
    {
     "data": {
      "text/plain": [
       "gensim.models.keyedvectors.Word2VecKeyedVectors"
      ]
     },
     "execution_count": 21,
     "metadata": {},
     "output_type": "execute_result"
    }
   ],
   "source": [
    "type(model.wv)"
   ]
  },
  {
   "cell_type": "code",
   "execution_count": 89,
   "metadata": {},
   "outputs": [
    {
     "name": "stderr",
     "output_type": "stream",
     "text": [
      "/anaconda3/lib/python3.6/site-packages/ipykernel_launcher.py:1: DeprecationWarning: Call to deprecated `wv` (Attribute will be removed in 4.0.0, use self instead).\n",
      "  \"\"\"Entry point for launching an IPython kernel.\n"
     ]
    }
   ],
   "source": [
    "my_model = our_model.wv #save just the vectors from your model"
   ]
  },
  {
   "cell_type": "code",
   "execution_count": 90,
   "metadata": {},
   "outputs": [],
   "source": [
    "del our_model #this is to save RAM"
   ]
  },
  {
   "cell_type": "code",
   "execution_count": 91,
   "metadata": {},
   "outputs": [
    {
     "name": "stdout",
     "output_type": "stream",
     "text": [
      "<class 'gensim.models.keyedvectors.Word2VecKeyedVectors'>\n"
     ]
    }
   ],
   "source": [
    "print(type(my_model))"
   ]
  },
  {
   "cell_type": "code",
   "execution_count": 92,
   "metadata": {},
   "outputs": [
    {
     "data": {
      "text/plain": [
       "253854"
      ]
     },
     "execution_count": 92,
     "metadata": {},
     "output_type": "execute_result"
    }
   ],
   "source": [
    "len(my_model.vocab) #the number of words in our model"
   ]
  },
  {
   "cell_type": "code",
   "execution_count": 159,
   "metadata": {},
   "outputs": [],
   "source": [
    "#If you are interested in using pretrained vectors you can also call pretrained materials\n",
    "import gensim.downloader as pretrained"
   ]
  },
  {
   "cell_type": "code",
   "execution_count": 160,
   "metadata": {},
   "outputs": [
    {
     "data": {
      "text/plain": [
       "dict_keys(['semeval-2016-2017-task3-subtaskBC', 'semeval-2016-2017-task3-subtaskA-unannotated', 'patent-2017', 'quora-duplicate-questions', 'wiki-english-20171001', 'text8', 'fake-news', '20-newsgroups', '__testing_matrix-synopsis', '__testing_multipart-matrix-synopsis'])"
      ]
     },
     "execution_count": 160,
     "metadata": {},
     "output_type": "execute_result"
    }
   ],
   "source": [
    "#all corpora available are here.\n",
    "#You can use this if you want to train from the given corpora.\n",
    "pretrained.info()['corpora'].keys()"
   ]
  },
  {
   "cell_type": "code",
   "execution_count": 161,
   "metadata": {},
   "outputs": [
    {
     "data": {
      "text/plain": [
       "dict_keys(['fasttext-wiki-news-subwords-300', 'conceptnet-numberbatch-17-06-300', 'word2vec-ruscorpora-300', 'word2vec-google-news-300', 'glove-wiki-gigaword-50', 'glove-wiki-gigaword-100', 'glove-wiki-gigaword-200', 'glove-wiki-gigaword-300', 'glove-twitter-25', 'glove-twitter-50', 'glove-twitter-100', 'glove-twitter-200', '__testing_word2vec-matrix-synopsis'])"
      ]
     },
     "execution_count": 161,
     "metadata": {},
     "output_type": "execute_result"
    }
   ],
   "source": [
    "#all pretrained models available are here.\n",
    "#You can use this if you want to use the trained models.\n",
    "pretrained.info()['models'].keys()"
   ]
  },
  {
   "cell_type": "code",
   "execution_count": 162,
   "metadata": {},
   "outputs": [
    {
     "data": {
      "text/plain": [
       "{'num_records': 1701,\n",
       " 'record_format': 'list of str (tokens)',\n",
       " 'file_size': 33182058,\n",
       " 'reader_code': 'https://github.com/RaRe-Technologies/gensim-data/releases/download/text8/__init__.py',\n",
       " 'license': 'not found',\n",
       " 'description': 'First 100,000,000 bytes of plain text from Wikipedia. Used for testing purposes; see wiki-english-* for proper full Wikipedia datasets.',\n",
       " 'checksum': '68799af40b6bda07dfa47a32612e5364',\n",
       " 'file_name': 'text8.gz',\n",
       " 'read_more': ['http://mattmahoney.net/dc/textdata.html'],\n",
       " 'parts': 1}"
      ]
     },
     "execution_count": 162,
     "metadata": {},
     "output_type": "execute_result"
    }
   ],
   "source": [
    "#Let's work with the word2vec trained on google news\n",
    "#Let's look at some description for the corpus named 'text8'\n",
    "pretrained.info('text8')"
   ]
  },
  {
   "cell_type": "code",
   "execution_count": 177,
   "metadata": {},
   "outputs": [],
   "source": [
    "news_model = pretrained.load('word2vec-google-news-300')"
   ]
  },
  {
   "cell_type": "code",
   "execution_count": 185,
   "metadata": {},
   "outputs": [
    {
     "name": "stderr",
     "output_type": "stream",
     "text": [
      "/anaconda3/lib/python3.6/site-packages/ipykernel_launcher.py:1: DeprecationWarning: Call to deprecated `wv` (Attribute will be removed in 4.0.0, use self instead).\n",
      "  \"\"\"Entry point for launching an IPython kernel.\n"
     ]
    }
   ],
   "source": [
    "my_model = news_model.wv\n",
    "del news_model"
   ]
  },
  {
   "cell_type": "code",
   "execution_count": 186,
   "metadata": {},
   "outputs": [
    {
     "data": {
      "text/plain": [
       "array([-1.42578125e-01, -3.68652344e-02,  1.35742188e-01, -6.20117188e-02,\n",
       "        7.95898438e-02,  1.90429688e-02, -8.15429688e-02, -1.27929688e-01,\n",
       "       -2.95410156e-02,  2.36328125e-01, -1.21582031e-01, -2.14843750e-01,\n",
       "        1.29882812e-01, -2.70996094e-02, -5.20019531e-02,  2.15820312e-01,\n",
       "       -1.81640625e-01,  5.10253906e-02, -1.60156250e-01, -1.76757812e-01,\n",
       "        1.83105469e-02, -4.12597656e-02, -2.32421875e-01, -1.03149414e-02,\n",
       "        1.45507812e-01,  5.24902344e-02, -3.96484375e-01, -1.92871094e-02,\n",
       "        2.51770020e-03, -1.26953125e-02, -4.39453125e-02,  3.07617188e-02,\n",
       "        9.57031250e-02, -1.75781250e-01,  1.04370117e-02,  1.89453125e-01,\n",
       "       -2.36328125e-01,  4.37011719e-02,  2.81250000e-01, -2.07519531e-02,\n",
       "       -1.81640625e-01, -2.17773438e-01,  2.33398438e-01,  5.29785156e-02,\n",
       "       -1.13769531e-01,  9.39941406e-03, -1.49414062e-01,  1.99218750e-01,\n",
       "       -1.75781250e-01,  3.16406250e-01,  8.10546875e-02, -6.12792969e-02,\n",
       "       -1.52343750e-01, -1.81884766e-02,  8.25195312e-02,  8.74023438e-02,\n",
       "       -1.18652344e-01, -2.59765625e-01, -1.68457031e-02,  1.87988281e-02,\n",
       "        1.36108398e-02, -2.39257812e-01, -6.78710938e-02, -8.15429688e-02,\n",
       "        2.18750000e-01,  6.64062500e-02,  1.27929688e-01,  1.64062500e-01,\n",
       "        2.28271484e-02, -1.38671875e-01, -9.42382812e-02,  3.51562500e-02,\n",
       "        7.37304688e-02, -1.06445312e-01,  1.47705078e-02, -6.15234375e-02,\n",
       "        2.48046875e-01,  9.22851562e-02,  1.45263672e-02,  2.92968750e-01,\n",
       "        2.47070312e-01, -3.46679688e-02, -1.92382812e-01,  2.28881836e-03,\n",
       "        1.33789062e-01,  5.05371094e-02, -1.56250000e-01,  2.02148438e-01,\n",
       "       -3.39355469e-02, -1.10351562e-01,  1.31835938e-02, -1.84570312e-01,\n",
       "        6.73828125e-02,  9.22851562e-02,  2.70996094e-02,  1.44653320e-02,\n",
       "        7.37304688e-02, -1.96289062e-01,  6.39648438e-02,  1.46484375e-01,\n",
       "        3.67187500e-01, -3.67187500e-01,  1.13281250e-01, -5.66406250e-02,\n",
       "        5.27343750e-02, -1.66015625e-01,  1.59179688e-01, -1.28906250e-01,\n",
       "        2.21679688e-01,  1.07910156e-01,  1.56250000e-01,  2.65625000e-01,\n",
       "       -1.50390625e-01,  6.83593750e-02,  2.08984375e-01, -1.70898438e-02,\n",
       "       -1.38671875e-01,  3.26171875e-01,  2.37304688e-01, -9.03320312e-02,\n",
       "        9.27734375e-03, -8.59375000e-02, -1.22558594e-01,  1.12792969e-01,\n",
       "        1.17187500e-01, -3.32031250e-02,  1.62109375e-01, -1.33789062e-01,\n",
       "        1.45507812e-01, -8.64257812e-02, -9.13085938e-02, -5.37109375e-02,\n",
       "       -7.91015625e-02, -8.48388672e-03, -1.78710938e-01, -8.66699219e-03,\n",
       "        4.12109375e-01,  8.34960938e-02, -2.67578125e-01,  4.02832031e-02,\n",
       "       -6.64062500e-02,  8.74023438e-02, -1.87500000e-01, -9.37500000e-02,\n",
       "       -8.98437500e-02,  6.49414062e-02,  1.74804688e-01, -1.85546875e-01,\n",
       "       -1.49414062e-01, -2.10937500e-01,  1.25976562e-01, -7.47070312e-02,\n",
       "       -1.94335938e-01, -1.91650391e-02, -1.89453125e-01, -1.84570312e-01,\n",
       "       -1.90429688e-01, -1.37695312e-01, -9.03320312e-02, -2.01416016e-02,\n",
       "        3.88183594e-02,  9.13085938e-02,  2.55859375e-01, -1.35742188e-01,\n",
       "        5.78613281e-02, -1.85546875e-01,  4.58984375e-01,  1.18164062e-01,\n",
       "        4.40597534e-04, -4.90722656e-02,  6.25000000e-02,  1.10839844e-01,\n",
       "       -1.93359375e-01, -2.59765625e-01,  1.83593750e-01,  1.99218750e-01,\n",
       "       -1.17187500e-01, -1.66992188e-01, -1.43554688e-01,  7.44628906e-03,\n",
       "       -1.25976562e-01,  5.00488281e-02, -7.22656250e-02, -1.06201172e-02,\n",
       "        2.11914062e-01,  9.91210938e-02, -1.88476562e-01, -4.95605469e-02,\n",
       "        8.83789062e-02, -1.50203705e-05, -1.26953125e-01,  3.04687500e-01,\n",
       "        2.49023438e-02,  4.24194336e-03,  6.64062500e-02, -3.26171875e-01,\n",
       "        4.60937500e-01, -1.50390625e-01, -1.48437500e-01, -2.95410156e-02,\n",
       "        3.10546875e-01,  1.72851562e-01, -1.46484375e-01,  6.93359375e-02,\n",
       "       -1.37695312e-01, -5.20019531e-02, -1.91406250e-01, -3.49121094e-02,\n",
       "        1.97265625e-01, -2.34375000e-01,  9.08203125e-02,  3.24218750e-01,\n",
       "       -4.70703125e-01,  1.70898438e-02, -2.35351562e-01, -8.05664062e-02,\n",
       "        3.14453125e-01,  2.20947266e-02, -1.42578125e-01, -2.79541016e-02,\n",
       "       -2.24609375e-01,  2.69775391e-02,  2.65625000e-01, -3.80859375e-02,\n",
       "        2.61230469e-02,  1.71875000e-01, -8.59375000e-02,  7.76367188e-02,\n",
       "       -2.51464844e-02,  8.78906250e-02,  1.00708008e-02,  1.62353516e-02,\n",
       "        3.18359375e-01, -1.09375000e-01,  2.85156250e-01,  1.00097656e-01,\n",
       "       -3.06396484e-02,  3.68652344e-02,  1.30859375e-01,  1.59179688e-01,\n",
       "       -1.11328125e-01,  4.45556641e-03, -3.44238281e-02, -7.71484375e-02,\n",
       "       -2.11181641e-02, -2.12890625e-01, -1.24023438e-01, -1.15356445e-02,\n",
       "        6.49414062e-02, -1.85546875e-02, -2.00195312e-01, -2.48046875e-01,\n",
       "        9.22851562e-02, -1.48437500e-01, -6.93359375e-02,  5.79833984e-03,\n",
       "       -3.41796875e-02,  1.44531250e-01, -9.37500000e-02,  1.26953125e-01,\n",
       "       -4.15039062e-02,  3.16406250e-01, -7.03125000e-02,  4.95605469e-02,\n",
       "        1.95312500e-01,  1.89208984e-02,  1.09863281e-02, -7.47070312e-02,\n",
       "       -1.28906250e-01, -1.29882812e-01,  1.03027344e-01,  8.00781250e-02,\n",
       "        6.25610352e-03,  1.40991211e-02, -1.43554688e-01,  1.36108398e-02,\n",
       "       -4.63867188e-02, -3.22265625e-01, -8.59375000e-02, -1.56250000e-01,\n",
       "        1.46484375e-01,  2.16796875e-01,  1.81640625e-01, -1.22070312e-01,\n",
       "       -2.30468750e-01, -1.92871094e-02, -1.26953125e-02,  1.09863281e-01,\n",
       "       -1.59179688e-01,  1.17675781e-01,  5.29785156e-02,  2.08984375e-01,\n",
       "       -1.37695312e-01,  1.62109375e-01, -1.72851562e-01,  3.63769531e-02,\n",
       "       -1.25976562e-01, -1.44653320e-02, -1.26953125e-01, -2.59765625e-01],\n",
       "      dtype=float32)"
      ]
     },
     "execution_count": 186,
     "metadata": {},
     "output_type": "execute_result"
    }
   ],
   "source": [
    "my_model['test']"
   ]
  },
  {
   "cell_type": "code",
   "execution_count": 187,
   "metadata": {},
   "outputs": [],
   "source": [
    "#similarity tasks"
   ]
  },
  {
   "cell_type": "code",
   "execution_count": 188,
   "metadata": {},
   "outputs": [
    {
     "data": {
      "text/plain": [
       "0.4483377346137286"
      ]
     },
     "execution_count": 188,
     "metadata": {},
     "output_type": "execute_result"
    }
   ],
   "source": [
    "my_model.similarity('beautiful','sublime') #Using Cosine-similarity\n"
   ]
  },
  {
   "cell_type": "code",
   "execution_count": 189,
   "metadata": {},
   "outputs": [
    {
     "data": {
      "text/plain": [
       "1.0"
      ]
     },
     "execution_count": 189,
     "metadata": {},
     "output_type": "execute_result"
    }
   ],
   "source": [
    "#What do you think will be the similarity measure between 'sublime' and 'sublime'?\n",
    "my_model.similarity('sublime','sublime')"
   ]
  },
  {
   "cell_type": "code",
   "execution_count": 190,
   "metadata": {},
   "outputs": [
    {
     "data": {
      "text/plain": [
       "array([[0.44833773]], dtype=float32)"
      ]
     },
     "execution_count": 190,
     "metadata": {},
     "output_type": "execute_result"
    }
   ],
   "source": [
    "#Another way of doing the same thing would be\n",
    "from sklearn.metrics.pairwise import cosine_similarity\n",
    "cosine_similarity(my_model['beautiful'].reshape(1,-1), my_model['sublime'].reshape(1,-1))"
   ]
  },
  {
   "cell_type": "code",
   "execution_count": 191,
   "metadata": {},
   "outputs": [
    {
     "name": "stdout",
     "output_type": "stream",
     "text": [
      "0.4789269059201\n",
      "0.015528001240835681\n"
     ]
    }
   ],
   "source": [
    "#We can see that words that are used in similar contexts appear closer to each other than those not!\n",
    "print(my_model.similarity('potato', 'leek')) \n",
    "print(my_model.similarity('anger', 'potato'))"
   ]
  },
  {
   "cell_type": "code",
   "execution_count": 192,
   "metadata": {},
   "outputs": [
    {
     "data": {
      "text/plain": [
       "([('democratic', 0.864448070526123),\n",
       "  ('participatory_democracy', 0.7170747518539429),\n",
       "  ('democracies', 0.710315465927124),\n",
       "  ('democratization', 0.7038754224777222),\n",
       "  ('pluralism', 0.6955404281616211),\n",
       "  ('multiparty_democracy', 0.6909584999084473),\n",
       "  ('democractic', 0.6702337265014648),\n",
       "  ('democratic_ideals', 0.6659173965454102),\n",
       "  ('pluralist_democracy', 0.6640663743019104),\n",
       "  ('constitutionalism', 0.6593047976493835)],\n",
       " [('conservatism', 0.8018675446510315),\n",
       "  ('progressivism', 0.7581014633178711),\n",
       "  ('leftism', 0.7086032629013062),\n",
       "  ('libertarianism', 0.704254686832428),\n",
       "  ('statism', 0.6934856176376343),\n",
       "  ('liberal', 0.6907880902290344),\n",
       "  ('liberal_internationalism', 0.6821508407592773),\n",
       "  ('Liberalism', 0.6777896285057068),\n",
       "  ('classical_liberalism', 0.6775411367416382),\n",
       "  ('Conservatism', 0.6772977709770203)])"
      ]
     },
     "execution_count": 192,
     "metadata": {},
     "output_type": "execute_result"
    }
   ],
   "source": [
    "#There is also a built in tool for returning a list of most similar words to a given word.\n",
    "my_model.most_similar('democracy'), my_model.most_similar('liberalism')"
   ]
  },
  {
   "cell_type": "code",
   "execution_count": 204,
   "metadata": {},
   "outputs": [
    {
     "data": {
      "text/plain": [
       "[('pluralistic', 0.7280019521713257),\n",
       " ('pluralist', 0.7193902730941772),\n",
       " ('democracy', 0.6955404281616211),\n",
       " ('pluralist_democracy', 0.6928414106369019),\n",
       " ('democratic', 0.6840701103210449),\n",
       " ('religious_pluralism', 0.6559314727783203),\n",
       " ('pluralist_society', 0.6442460417747498),\n",
       " ('pluralism_tolerance', 0.6314644813537598),\n",
       " ('democratization', 0.6295616626739502),\n",
       " ('pluralistic_democracy', 0.6286231279373169),\n",
       " ('secularism', 0.6188282370567322),\n",
       " ('multireligious_society', 0.606201171875),\n",
       " ('pluralistic_democratic', 0.6036352515220642),\n",
       " ('religious_tolerance', 0.6026617884635925),\n",
       " ('democratic_polity', 0.5967642068862915),\n",
       " ('democratic_ideals', 0.5910589694976807),\n",
       " ('pluralistic_society', 0.587944746017456),\n",
       " ('religious_toleration', 0.5857032537460327),\n",
       " ('democratic_freedoms', 0.5824508666992188),\n",
       " ('illiberal_democracy', 0.5818257927894592)]"
      ]
     },
     "execution_count": 204,
     "metadata": {},
     "output_type": "execute_result"
    }
   ],
   "source": [
    "my_model.most_similar('pluralism', topn=20)"
   ]
  },
  {
   "cell_type": "code",
   "execution_count": 193,
   "metadata": {},
   "outputs": [
    {
     "data": {
      "text/plain": [
       "'sweet'"
      ]
     },
     "execution_count": 193,
     "metadata": {},
     "output_type": "execute_result"
    }
   ],
   "source": [
    "#You can also identify the word with the most similar vector from a list of candidates\n",
    "candidates = ['sweet','sour','bitter','nice']\n",
    "my_model.most_similar_to_given('blueberry', candidates)"
   ]
  },
  {
   "cell_type": "code",
   "execution_count": 194,
   "metadata": {},
   "outputs": [
    {
     "name": "stdout",
     "output_type": "stream",
     "text": [
      "sweet 0.3033926176016937\n",
      "sour 0.20343720426644013\n",
      "bitter 0.18500672031976942\n",
      "nice 0.0770449286361394\n"
     ]
    }
   ],
   "source": [
    "#You can see that of the candidates 'sour' has the highest similarity measure with 'blueberry' at least in our corpus.\n",
    "for c in candidates:\n",
    "    print(c, my_model.similarity('blueberry',c))"
   ]
  },
  {
   "cell_type": "code",
   "execution_count": 195,
   "metadata": {},
   "outputs": [
    {
     "data": {
      "text/plain": [
       "['winter',\n",
       " 'warm',\n",
       " 'temperatures',\n",
       " 'wet',\n",
       " 'freezing',\n",
       " 'warmer',\n",
       " 'icy',\n",
       " 'chill',\n",
       " 'chilly',\n",
       " 'Cold',\n",
       " 'windy',\n",
       " 'colder',\n",
       " 'snowy',\n",
       " 'chilled',\n",
       " 'frigid',\n",
       " 'humid',\n",
       " 'coldest',\n",
       " 'freezing_temperatures',\n",
       " 'cold_snap',\n",
       " 'foggy',\n",
       " 'frosty',\n",
       " 'shivering',\n",
       " 'arctic',\n",
       " 'balmy',\n",
       " 'wintry',\n",
       " 'bitterly_cold',\n",
       " 'frigid_temperatures',\n",
       " 'toasty',\n",
       " 'hot_humid',\n",
       " 'unseasonably_warm',\n",
       " 'colder_temperatures',\n",
       " 'bone_chilling',\n",
       " 'chilly_temperatures',\n",
       " 'cold_winters',\n",
       " 'subzero_temperatures',\n",
       " 'unseasonably_cold',\n",
       " 'wintery',\n",
       " 'COLD',\n",
       " 'unusually_warm',\n",
       " 'coldest_winter',\n",
       " 'sub_freezing_temperatures',\n",
       " 'bone_chilling_cold',\n",
       " 'Bitter_cold',\n",
       " 'subzero',\n",
       " 'arctic_blast',\n",
       " 'unseasonably_hot',\n",
       " 'warm_humid',\n",
       " 'frigid_weather',\n",
       " 'bone_chilling_temperatures',\n",
       " 'teeth_chattering',\n",
       " 'chilliest',\n",
       " 'toasty_warm',\n",
       " 'subfreezing',\n",
       " 'cooler_temps',\n",
       " 'Sweltering',\n",
       " 'unseasonable_cold',\n",
       " 'freezing_temps',\n",
       " 'frost_bitten',\n",
       " 'subzero_weather',\n",
       " 'Brrrr',\n",
       " 'unseasonably_chilly',\n",
       " 'warmish',\n",
       " 'frigid_temps',\n",
       " 'bitingly_cold',\n",
       " 'frosty_mornings',\n",
       " 'unseasonable_temperatures',\n",
       " 'blistery',\n",
       " 'Bitterly_cold',\n",
       " 'Unseasonably_warm',\n",
       " 'sleety',\n",
       " 'Unseasonably_cool',\n",
       " 'Below_freezing_temperatures',\n",
       " 'foggy_mornings',\n",
       " 'chilblains',\n",
       " 'Slightly_warmer',\n",
       " 'frostiest',\n",
       " 'Brrrrr',\n",
       " 'windchill_factor',\n",
       " 'Unseasonable',\n",
       " 'unseasonable_warm',\n",
       " 'wintry_chill',\n",
       " 'chilly_temps',\n",
       " 'raining_snowing',\n",
       " 'bone_chillingly',\n",
       " 'colder_temps',\n",
       " 'Soaking_wet',\n",
       " 'numbingly_cold',\n",
       " 'Farmers_Almanac_predicts',\n",
       " 'colder_drier',\n",
       " 'Oppressive_heat',\n",
       " 'tempertures',\n",
       " 'frostbite_hypothermia',\n",
       " 'balmiest',\n",
       " 'breezeless',\n",
       " 'Drain_rinse',\n",
       " 'Forecast_Sunny',\n",
       " 'mercury_plummets',\n",
       " 'Brrrrrr',\n",
       " 'Frigid_temps',\n",
       " 'minus_8C',\n",
       " 'snowing_lightly',\n",
       " 'seasonably_cold',\n",
       " 'winterlike',\n",
       " 'frigidly_cold',\n",
       " 'barometric_pressure_drops',\n",
       " '7C_##F',\n",
       " 'summerlike_temperatures',\n",
       " 'Mealtime_requires',\n",
       " 'drier_warmer',\n",
       " 'Hazy_sunshine',\n",
       " 'subzero_temperature',\n",
       " '-8_°_C',\n",
       " 'tablets_containing_ephedrine',\n",
       " 'WEATHER_Rain',\n",
       " 'humid_airmass',\n",
       " 'artic_blast',\n",
       " 'dry_airmass',\n",
       " 'frigid_wind_chills',\n",
       " 'virus_rhinovirus',\n",
       " 'TONIGHT_Clear',\n",
       " 'Partly_sunny_breezy',\n",
       " 'TONIGHT_Mostly_cloudy',\n",
       " 'braving_bitterly',\n",
       " 'seafoam_green_blanket',\n",
       " 'Cooler_drier',\n",
       " 'sweltering_muggy',\n",
       " 'fast_Yazel',\n",
       " 'freezing_iguanas',\n",
       " 'Partly_cloudy_breezy',\n",
       " 'Bone_numbing',\n",
       " 'Juergen_Ruettgers_deputy',\n",
       " 'snowless_winters',\n",
       " 'Ore_por_ellos',\n",
       " 'Duran_videotaped_confession',\n",
       " 'Teeth_chattering',\n",
       " 'nighttime_temps',\n",
       " 'thermometer_hovered',\n",
       " 'unbearably_humid',\n",
       " 'Arctic_airmass',\n",
       " 'bother_Ken_Hampp',\n",
       " 'subzero_windchills',\n",
       " 'Hollow_Cider_Mill',\n",
       " 'Hopkins_Renzaglia',\n",
       " 'considered_seas_Lunine']"
      ]
     },
     "execution_count": 195,
     "metadata": {},
     "output_type": "execute_result"
    }
   ],
   "source": [
    "#You can generate of list of words that are closer to 'cold' than is 'dry'\n",
    "my_model.words_closer_than('cold','dry')"
   ]
  },
  {
   "cell_type": "markdown",
   "metadata": {},
   "source": [
    "You can also play with analogy tasks. The commonly seen task is:\n",
    "\n",
    "'London is to England as Baghdad is to ____?'\n",
    "\n",
    "\n",
    "' A      is to A\\*.     as B      is to  B\\*  '\n",
    "                         \n",
    "Gensim provides two different ways of implementing this task. You may be more familiar with the the additive version also called the 3CosAdd method:\n",
    "\n",
    "$$\\underset{b*\\in V}{\\textrm{arg max}} (cos(b*,b) - cos(b*,a) + cos(b*,a*))$$\n",
    "\n",
    "This reflects the abstraction of Baghdad - London + England. In this maximization, we are searching which word vector will allow us to produce the highest value in this equation.\n",
    "\n",
    "The second is a more balanced approach proposed by Levy & Goldberg 2014 (http://www.aclweb.org/anthology/W14-1618)\n",
    "\n",
    "We find B* by going through all of the possible B* in the set of vocabulary (V) and identifying which returns the highest value. In other words, finding the argument that maximizes the following equation where the epsilon is added only to avoid division by zero. This is also called the 3CosMul method:\n",
    "\n",
    "$$\\underset{b*\\in V}{\\textrm{arg max}} \\frac{cos(b*,b)cos(b*,a*)}{cos(b*,a)+\\epsilon}$$\n",
    "\n"
   ]
  },
  {
   "cell_type": "code",
   "execution_count": 202,
   "metadata": {},
   "outputs": [
    {
     "data": {
      "text/plain": [
       "[('queen', 0.7118192911148071),\n",
       " ('monarch', 0.6189674139022827),\n",
       " ('princess', 0.5902431607246399),\n",
       " ('crown_prince', 0.5499460697174072),\n",
       " ('prince', 0.5377321243286133),\n",
       " ('kings', 0.5236844420433044),\n",
       " ('Queen_Consort', 0.5235945582389832),\n",
       " ('queens', 0.5181134343147278),\n",
       " ('sultan', 0.5098593235015869),\n",
       " ('monarchy', 0.5087411999702454)]"
      ]
     },
     "execution_count": 202,
     "metadata": {},
     "output_type": "execute_result"
    }
   ],
   "source": [
    "#We can implement this method with the provided function.\n",
    "#positive here refers to the words that give the positive contribution to similarity (nominator) and the negative refers to words that contribute negatively (denominator)\n",
    "# This is the addition method.\n",
    "my_model.most_similar(positive=['woman','king'], negative=['man'])"
   ]
  },
  {
   "cell_type": "code",
   "execution_count": 203,
   "metadata": {},
   "outputs": [
    {
     "data": {
      "text/plain": [
       "[('afganistan', 0.8269765973091125),\n",
       " ('afghanistan', 0.8165149688720703),\n",
       " ('iraqis', 0.8074595332145691),\n",
       " ('iraqi', 0.7976526021957397),\n",
       " ('taliban', 0.7952468991279602),\n",
       " ('al_queda', 0.7876250147819519),\n",
       " ('iraq', 0.7850340008735657),\n",
       " ('gadhafi', 0.7798774838447571),\n",
       " ('sri_lanka', 0.7789864540100098),\n",
       " ('al_qaida', 0.7776363492012024)]"
      ]
     },
     "execution_count": 203,
     "metadata": {},
     "output_type": "execute_result"
    }
   ],
   "source": [
    "#This is the multiplication method.\n",
    "my_model.most_similar_cosmul(positive=['england','baghdad'], negative=['london'])\n",
    "#Unforuantely in this example we see that this returns Afganistan (when Baghdad is the capital of Iraq!). This is an example of how the corpus can bias our findings."
   ]
  },
  {
   "cell_type": "markdown",
   "metadata": {},
   "source": [
    "What are good vectors? What are bad vectors? How much training/data do we need?"
   ]
  },
  {
   "cell_type": "markdown",
   "metadata": {},
   "source": [
    "Question! What would happen is you retrained your model on the same corpus? Would you get the same vectors?"
   ]
  },
  {
   "cell_type": "code",
   "execution_count": null,
   "metadata": {},
   "outputs": [],
   "source": []
  },
  {
   "cell_type": "code",
   "execution_count": 96,
   "metadata": {},
   "outputs": [],
   "source": [
    "# see documentation here for more built-in tools! https://radimrehurek.com/gensim/models/keyedvectors.html\n",
    "\n"
   ]
  },
  {
   "cell_type": "code",
   "execution_count": 208,
   "metadata": {},
   "outputs": [],
   "source": [
    "#What about GloVe? You can use GloVe vectors with Gensim too!\n",
    "#Overview of GloVe. What's the difference? How to use GloVe vectors with Gensim\n",
    "\n",
    "from gensim.scripts.glove2word2vec import glove2word2vec\n",
    "from gensim.models import KeyedVectors\n",
    "glove_file = \"./glove/glove.6B.300d.txt\"\n",
    "glove2word2vec_file = \"glove2word2vec.txt\"\n",
    "glove2word2vec(glove_file, word2vec_file) #we simply call this function to reformat it a bit\n",
    "glove_model = KeyedVectors.load_word2vec_format(glove2word2vec_file, binary=False) #read in the same file "
   ]
  },
  {
   "cell_type": "code",
   "execution_count": 210,
   "metadata": {},
   "outputs": [
    {
     "data": {
      "text/plain": [
       "array([ 2.6640e-02,  7.3666e-01,  1.4519e-01, -1.2378e+00, -7.8431e-02,\n",
       "        1.1878e-01,  1.1072e-01, -5.7459e-01, -5.0329e-01, -2.0694e+00,\n",
       "        5.6273e-01, -6.5392e-02,  2.6165e-01, -2.9559e-01, -1.3630e-01,\n",
       "        6.6476e-01,  1.1782e-01,  8.5784e-02, -3.1630e-01, -4.7456e-01,\n",
       "       -3.1628e-01, -6.1258e-01,  1.6968e-01,  2.9080e-01,  1.5166e-02,\n",
       "        1.9775e-01,  2.6749e-01,  1.0875e-01, -8.6687e-02, -5.8117e-01,\n",
       "        1.9078e-02, -3.5914e-01, -2.6973e-01, -7.0312e-02, -7.1556e-01,\n",
       "        1.1675e-01, -5.7603e-01,  2.2745e-01, -5.4766e-01,  1.5907e-01,\n",
       "        3.0659e-01,  3.1730e-01,  1.1656e-01, -1.0250e-01,  1.1470e-03,\n",
       "       -2.2274e-01, -5.3550e-01, -4.3364e-01, -2.0306e-01, -3.5997e-01,\n",
       "        3.5991e-01, -2.0668e-01,  1.4845e-01,  7.7065e-02,  5.2591e-02,\n",
       "        3.8939e-01,  9.9486e-02, -5.3198e-01, -1.0236e-01,  3.1587e-01,\n",
       "        2.4825e-01, -3.3952e-01,  8.6676e-02, -3.4517e-01,  4.2221e-01,\n",
       "        3.3158e-01,  3.3441e-01, -3.4035e-01,  4.9647e-02,  4.5535e-01,\n",
       "       -2.9221e-01,  5.3760e-01, -2.4172e-01, -1.9806e-01, -6.0162e-01,\n",
       "       -2.6304e-01, -1.7989e-01,  2.5871e-02,  6.7705e-02,  3.2465e-01,\n",
       "       -3.1219e-01,  5.5771e-01,  3.5352e-01,  6.6252e-02, -9.2763e-01,\n",
       "        9.8308e-02,  2.7016e-01, -3.8604e-01,  4.6341e-01, -1.4712e-01,\n",
       "       -1.7246e-01,  6.1300e-01,  1.9196e-01, -5.0073e-01,  5.5353e-01,\n",
       "        5.9555e-01, -2.8754e-01,  5.0070e-03,  8.5646e-02, -7.7133e-01,\n",
       "        1.4233e-01,  5.0963e-02, -1.6352e-01, -5.5655e-01,  6.3916e-01,\n",
       "       -5.6911e-01,  2.5478e-01,  1.3836e-01, -3.3397e-01,  9.6501e-03,\n",
       "        9.5206e-01, -3.2643e-01, -1.9024e-01, -9.8490e-02, -1.1975e-01,\n",
       "        7.3214e-02, -2.6713e-01,  4.0392e-01, -4.7584e-01, -6.0530e-01,\n",
       "        1.3948e-01,  4.5429e-01, -4.8197e-01,  1.4028e-01, -2.7306e-01,\n",
       "        1.9364e-01, -5.4169e-01, -8.9701e-01, -1.1012e-01,  8.3703e-01,\n",
       "        8.0042e-02,  4.0842e-02,  1.3206e-01, -2.0571e-02,  2.5598e-01,\n",
       "        1.4420e-01,  1.8506e-01, -8.3767e-01,  6.2531e-01, -1.2342e-01,\n",
       "        2.2487e-01,  1.3656e-01,  3.1835e-01, -5.9312e-01, -6.5241e-01,\n",
       "        1.2646e-01,  2.9710e-01,  3.8490e-01, -9.1171e-02,  2.2974e-01,\n",
       "        2.0031e-01,  1.6401e-01, -2.5980e-01,  2.2931e-01,  5.2604e-01,\n",
       "       -1.7770e-01, -5.9127e-01, -2.9570e-02,  4.0205e-01,  3.5889e-01,\n",
       "        1.7115e-01, -5.5794e-01, -5.7654e-01,  3.0737e-01, -7.1486e-02,\n",
       "        1.6874e-01, -4.2411e-01, -2.9175e-01,  4.7975e-01,  4.5184e-01,\n",
       "        2.4226e-01,  1.8675e-02,  4.4254e-01, -1.6109e-01, -8.2916e-02,\n",
       "        1.6134e-01,  1.7379e-01, -4.9322e-02,  2.1184e-01,  1.6186e-01,\n",
       "        2.8445e-01,  1.2450e-01,  4.4993e-01,  5.3492e-01, -1.1432e-01,\n",
       "        5.1511e-01, -1.1698e-01, -4.9841e-01, -4.1364e-01, -1.7237e-02,\n",
       "       -4.0207e-01,  1.9372e-01,  3.2043e-01,  4.0429e-02, -4.7952e-02,\n",
       "       -5.9883e-01,  8.2199e-01,  3.9530e-02, -1.7323e-01, -6.0617e-01,\n",
       "        7.8674e-01,  4.6600e-01, -3.9053e-01, -7.7733e-01, -2.1586e-01,\n",
       "        4.4002e-02,  7.6496e-02,  2.9069e-01, -2.8936e-01,  1.0686e-03,\n",
       "        2.9252e-01, -1.6770e-01, -8.3672e-01,  3.4784e-01, -7.4489e-01,\n",
       "       -6.9319e-01,  2.6353e-02, -1.7606e-01, -1.1093e-01, -3.1353e-01,\n",
       "        3.7778e-02,  7.9112e-01, -5.4170e-01,  8.7150e-02,  5.9988e-01,\n",
       "        2.7619e-04, -8.9748e-02,  6.4409e-02, -4.9987e-01,  1.1341e+00,\n",
       "       -5.5197e-03, -9.6114e-02,  3.6236e-02, -5.6991e-02,  1.5069e-01,\n",
       "        5.7316e-01,  5.6014e-01,  5.5747e-01,  9.0284e-01,  5.7519e-02,\n",
       "       -1.4944e-02,  4.5344e-02,  6.7786e-02, -7.0512e-02, -9.0777e-01,\n",
       "        1.2656e-01,  4.4259e-02,  4.6547e-02, -7.4823e-02,  7.2846e-02,\n",
       "        2.5958e-01,  3.4121e-01, -6.5191e-02, -4.6948e-01, -1.5790e-01,\n",
       "       -1.0910e-02,  3.9587e-01, -4.0963e-01,  3.8696e-01,  2.9423e-01,\n",
       "        1.7795e-01, -4.8429e-01,  8.4503e-02,  3.3159e-01,  2.4691e-01,\n",
       "        4.5835e-01, -8.7178e-02, -2.0988e-01,  1.9493e-01,  4.4093e-01,\n",
       "        5.0326e-02,  8.2947e-02, -3.2116e-01,  7.2454e-02, -7.5988e-02,\n",
       "        3.1149e-01, -2.3042e+00,  1.6244e-01,  4.2601e-02, -2.0505e-02,\n",
       "       -1.3673e-01, -2.2033e-01,  3.8873e-01,  4.5140e-01,  1.0192e-01,\n",
       "       -4.2738e-01, -5.9931e-01, -4.9762e-01, -6.2913e-01,  3.3658e-01,\n",
       "        5.7093e-02, -6.5786e-01, -8.5133e-02, -5.3763e-02, -2.6886e-02,\n",
       "        1.5571e-01,  3.8897e-01, -7.2387e-01,  4.7279e-02,  9.5410e-02],\n",
       "      dtype=float32)"
      ]
     },
     "execution_count": 210,
     "metadata": {},
     "output_type": "execute_result"
    }
   ],
   "source": [
    "glove_model['test']"
   ]
  },
  {
   "cell_type": "code",
   "execution_count": 213,
   "metadata": {},
   "outputs": [
    {
     "data": {
      "text/plain": [
       "[('iraq', 0.8279444575309753),\n",
       " ('fallujah', 0.7855041027069092),\n",
       " ('iraqi', 0.7701656818389893),\n",
       " ('baqouba', 0.7685968279838562),\n",
       " ('mosul', 0.7604708671569824),\n",
       " ('najaf', 0.7585083246231079),\n",
       " ('iraqis', 0.7578033208847046),\n",
       " ('marines', 0.7569854259490967),\n",
       " ('soldiers', 0.7507175803184509),\n",
       " ('samarra', 0.7506063580513)]"
      ]
     },
     "execution_count": 213,
     "metadata": {},
     "output_type": "execute_result"
    }
   ],
   "source": [
    "#Let's see what happens if we run the same task on this new set of vectors\n",
    "glove_model.most_similar_cosmul(positive=['england','baghdad'], negative=['london'])"
   ]
  },
  {
   "cell_type": "code",
   "execution_count": 216,
   "metadata": {},
   "outputs": [],
   "source": [
    "#PCA visualizations"
   ]
  },
  {
   "cell_type": "code",
   "execution_count": 229,
   "metadata": {},
   "outputs": [],
   "source": [
    "import numpy as np\n",
    "from sklearn.decomposition import PCA\n",
    "\n",
    "glove_matrix = glove_model.vectors #We're taking the vectors as a matrix\n",
    "\n",
    "pca = PCA(n_components=2)\n",
    "X = pca.fit_transform(glove_matrix)\n"
   ]
  },
  {
   "cell_type": "code",
   "execution_count": 231,
   "metadata": {},
   "outputs": [
    {
     "data": {
      "text/plain": [
       "(400000, 2)"
      ]
     },
     "execution_count": 231,
     "metadata": {},
     "output_type": "execute_result"
    }
   ],
   "source": [
    "X.shape"
   ]
  },
  {
   "cell_type": "code",
   "execution_count": 240,
   "metadata": {},
   "outputs": [
    {
     "data": {
      "text/plain": [
       "441"
      ]
     },
     "execution_count": 240,
     "metadata": {},
     "output_type": "execute_result"
    }
   ],
   "source": [
    "#We have to get the corresponding indices of our words\n",
    "\n",
    "glove_model.index2word.index('september')"
   ]
  },
  {
   "cell_type": "code",
   "execution_count": 243,
   "metadata": {},
   "outputs": [
    {
     "data": {
      "text/plain": [
       "array([4.1992507, 0.6068213], dtype=float32)"
      ]
     },
     "execution_count": 243,
     "metadata": {},
     "output_type": "execute_result"
    }
   ],
   "source": [
    "X[441] #This is the 2 dimensional coordinate of 'september'\n"
   ]
  },
  {
   "cell_type": "code",
   "execution_count": 246,
   "metadata": {},
   "outputs": [],
   "source": [
    "countries = [\"china\", \"russia\", \"france\", \"germany\",\"greece\",\"japan\",\"italy\"]"
   ]
  },
  {
   "cell_type": "code",
   "execution_count": 247,
   "metadata": {},
   "outputs": [],
   "source": [
    "capitals = [\"beijing\",\"moscow\",\"paris\",\"berlin\",\"athens\",\"tokyo\",\"rome\"]"
   ]
  },
  {
   "cell_type": "code",
   "execution_count": 263,
   "metadata": {},
   "outputs": [],
   "source": [
    "xy_coords = []\n",
    "\n",
    "for loc in countries+capitals:\n",
    "    index = glove_model.index2word.index(loc)\n",
    "    xy_coords.append(X[index])"
   ]
  },
  {
   "cell_type": "code",
   "execution_count": 266,
   "metadata": {},
   "outputs": [],
   "source": [
    "loc_x, loc_y = zip(*xy_coords)"
   ]
  },
  {
   "cell_type": "code",
   "execution_count": 267,
   "metadata": {},
   "outputs": [
    {
     "data": {
      "text/plain": [
       "(4.6196494,\n",
       " 4.0222955,\n",
       " 4.2144494,\n",
       " 4.028963,\n",
       " 3.190587,\n",
       " 4.0405664,\n",
       " 3.8312814,\n",
       " 3.7593825,\n",
       " 3.8508546,\n",
       " 3.577173,\n",
       " 3.8142838,\n",
       " 3.3081622,\n",
       " 3.148942,\n",
       " 3.5152743,\n",
       " 3.4224832)"
      ]
     },
     "execution_count": 267,
     "metadata": {},
     "output_type": "execute_result"
    }
   ],
   "source": [
    "loc_x"
   ]
  },
  {
   "cell_type": "code",
   "execution_count": 270,
   "metadata": {},
   "outputs": [
    {
     "data": {
      "text/plain": [
       "<Figure size 640x480 with 1 Axes>"
      ]
     },
     "metadata": {},
     "output_type": "display_data"
    }
   ],
   "source": [
    "import matplotlib.pyplot as plt\n",
    "plt.scatter(loc_x,loc_y)\n",
    "plt.title(\"Countries and their Capitals\")\n",
    "plt.show()"
   ]
  },
  {
   "cell_type": "code",
   "execution_count": null,
   "metadata": {},
   "outputs": [],
   "source": []
  }
 ],
 "metadata": {
  "kernelspec": {
   "display_name": "Python 3",
   "language": "python",
   "name": "python3"
  },
  "language_info": {
   "codemirror_mode": {
    "name": "ipython",
    "version": 3
   },
   "file_extension": ".py",
   "mimetype": "text/x-python",
   "name": "python",
   "nbconvert_exporter": "python",
   "pygments_lexer": "ipython3",
   "version": "3.6.1"
  }
 },
 "nbformat": 4,
 "nbformat_minor": 2
}
